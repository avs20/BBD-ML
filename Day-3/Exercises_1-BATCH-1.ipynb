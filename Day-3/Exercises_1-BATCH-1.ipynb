{
  "cells": [
    {
      "cell_type": "code",
      "execution_count": 1,
      "metadata": {
        "id": "KBO1hEjJTIEm"
      },
      "outputs": [],
      "source": [
        "import pandas as pd"
      ]
    },
    {
      "cell_type": "code",
      "execution_count": 4,
      "metadata": {
        "colab": {
          "base_uri": "https://localhost:8080/",
          "height": 363
        },
        "id": "zjOn_6tQTIEo",
        "outputId": "3653fe34-5bb8-4f6c-8566-22d01028bca1"
      },
      "outputs": [
        {
          "output_type": "execute_result",
          "data": {
            "text/plain": [
              "                          title  year\n",
              "0                    El plebeyo  1953\n",
              "1  Atoski vrtovi - preobrazenje  1989\n",
              "2                Mateegy norkos  2006\n",
              "3                 Lanka Dahanam  1936\n",
              "4                       Acciaio  1933\n",
              "5                Lose Your Head  2013\n",
              "6                  Aane Pataaki  2013\n",
              "7        Ad Augusta Per Angusta  2020\n",
              "8                  Oklahoma Jim  1931\n",
              "9       La culpa de los hombres  1955"
            ],
            "text/html": [
              "\n",
              "  <div id=\"df-e86849cb-daf0-4bd1-ad7d-805f7314ac53\" class=\"colab-df-container\">\n",
              "    <div>\n",
              "<style scoped>\n",
              "    .dataframe tbody tr th:only-of-type {\n",
              "        vertical-align: middle;\n",
              "    }\n",
              "\n",
              "    .dataframe tbody tr th {\n",
              "        vertical-align: top;\n",
              "    }\n",
              "\n",
              "    .dataframe thead th {\n",
              "        text-align: right;\n",
              "    }\n",
              "</style>\n",
              "<table border=\"1\" class=\"dataframe\">\n",
              "  <thead>\n",
              "    <tr style=\"text-align: right;\">\n",
              "      <th></th>\n",
              "      <th>title</th>\n",
              "      <th>year</th>\n",
              "    </tr>\n",
              "  </thead>\n",
              "  <tbody>\n",
              "    <tr>\n",
              "      <th>0</th>\n",
              "      <td>El plebeyo</td>\n",
              "      <td>1953</td>\n",
              "    </tr>\n",
              "    <tr>\n",
              "      <th>1</th>\n",
              "      <td>Atoski vrtovi - preobrazenje</td>\n",
              "      <td>1989</td>\n",
              "    </tr>\n",
              "    <tr>\n",
              "      <th>2</th>\n",
              "      <td>Mateegy norkos</td>\n",
              "      <td>2006</td>\n",
              "    </tr>\n",
              "    <tr>\n",
              "      <th>3</th>\n",
              "      <td>Lanka Dahanam</td>\n",
              "      <td>1936</td>\n",
              "    </tr>\n",
              "    <tr>\n",
              "      <th>4</th>\n",
              "      <td>Acciaio</td>\n",
              "      <td>1933</td>\n",
              "    </tr>\n",
              "    <tr>\n",
              "      <th>5</th>\n",
              "      <td>Lose Your Head</td>\n",
              "      <td>2013</td>\n",
              "    </tr>\n",
              "    <tr>\n",
              "      <th>6</th>\n",
              "      <td>Aane Pataaki</td>\n",
              "      <td>2013</td>\n",
              "    </tr>\n",
              "    <tr>\n",
              "      <th>7</th>\n",
              "      <td>Ad Augusta Per Angusta</td>\n",
              "      <td>2020</td>\n",
              "    </tr>\n",
              "    <tr>\n",
              "      <th>8</th>\n",
              "      <td>Oklahoma Jim</td>\n",
              "      <td>1931</td>\n",
              "    </tr>\n",
              "    <tr>\n",
              "      <th>9</th>\n",
              "      <td>La culpa de los hombres</td>\n",
              "      <td>1955</td>\n",
              "    </tr>\n",
              "  </tbody>\n",
              "</table>\n",
              "</div>\n",
              "    <div class=\"colab-df-buttons\">\n",
              "\n",
              "  <div class=\"colab-df-container\">\n",
              "    <button class=\"colab-df-convert\" onclick=\"convertToInteractive('df-e86849cb-daf0-4bd1-ad7d-805f7314ac53')\"\n",
              "            title=\"Convert this dataframe to an interactive table.\"\n",
              "            style=\"display:none;\">\n",
              "\n",
              "  <svg xmlns=\"http://www.w3.org/2000/svg\" height=\"24px\" viewBox=\"0 -960 960 960\">\n",
              "    <path d=\"M120-120v-720h720v720H120Zm60-500h600v-160H180v160Zm220 220h160v-160H400v160Zm0 220h160v-160H400v160ZM180-400h160v-160H180v160Zm440 0h160v-160H620v160ZM180-180h160v-160H180v160Zm440 0h160v-160H620v160Z\"/>\n",
              "  </svg>\n",
              "    </button>\n",
              "\n",
              "  <style>\n",
              "    .colab-df-container {\n",
              "      display:flex;\n",
              "      gap: 12px;\n",
              "    }\n",
              "\n",
              "    .colab-df-convert {\n",
              "      background-color: #E8F0FE;\n",
              "      border: none;\n",
              "      border-radius: 50%;\n",
              "      cursor: pointer;\n",
              "      display: none;\n",
              "      fill: #1967D2;\n",
              "      height: 32px;\n",
              "      padding: 0 0 0 0;\n",
              "      width: 32px;\n",
              "    }\n",
              "\n",
              "    .colab-df-convert:hover {\n",
              "      background-color: #E2EBFA;\n",
              "      box-shadow: 0px 1px 2px rgba(60, 64, 67, 0.3), 0px 1px 3px 1px rgba(60, 64, 67, 0.15);\n",
              "      fill: #174EA6;\n",
              "    }\n",
              "\n",
              "    .colab-df-buttons div {\n",
              "      margin-bottom: 4px;\n",
              "    }\n",
              "\n",
              "    [theme=dark] .colab-df-convert {\n",
              "      background-color: #3B4455;\n",
              "      fill: #D2E3FC;\n",
              "    }\n",
              "\n",
              "    [theme=dark] .colab-df-convert:hover {\n",
              "      background-color: #434B5C;\n",
              "      box-shadow: 0px 1px 3px 1px rgba(0, 0, 0, 0.15);\n",
              "      filter: drop-shadow(0px 1px 2px rgba(0, 0, 0, 0.3));\n",
              "      fill: #FFFFFF;\n",
              "    }\n",
              "  </style>\n",
              "\n",
              "    <script>\n",
              "      const buttonEl =\n",
              "        document.querySelector('#df-e86849cb-daf0-4bd1-ad7d-805f7314ac53 button.colab-df-convert');\n",
              "      buttonEl.style.display =\n",
              "        google.colab.kernel.accessAllowed ? 'block' : 'none';\n",
              "\n",
              "      async function convertToInteractive(key) {\n",
              "        const element = document.querySelector('#df-e86849cb-daf0-4bd1-ad7d-805f7314ac53');\n",
              "        const dataTable =\n",
              "          await google.colab.kernel.invokeFunction('convertToInteractive',\n",
              "                                                    [key], {});\n",
              "        if (!dataTable) return;\n",
              "\n",
              "        const docLinkHtml = 'Like what you see? Visit the ' +\n",
              "          '<a target=\"_blank\" href=https://colab.research.google.com/notebooks/data_table.ipynb>data table notebook</a>'\n",
              "          + ' to learn more about interactive tables.';\n",
              "        element.innerHTML = '';\n",
              "        dataTable['output_type'] = 'display_data';\n",
              "        await google.colab.output.renderOutput(dataTable, element);\n",
              "        const docLink = document.createElement('div');\n",
              "        docLink.innerHTML = docLinkHtml;\n",
              "        element.appendChild(docLink);\n",
              "      }\n",
              "    </script>\n",
              "  </div>\n",
              "\n",
              "\n",
              "<div id=\"df-da3aa162-1215-435f-97e9-3fbb7f09d7c1\">\n",
              "  <button class=\"colab-df-quickchart\" onclick=\"quickchart('df-da3aa162-1215-435f-97e9-3fbb7f09d7c1')\"\n",
              "            title=\"Suggest charts\"\n",
              "            style=\"display:none;\">\n",
              "\n",
              "<svg xmlns=\"http://www.w3.org/2000/svg\" height=\"24px\"viewBox=\"0 0 24 24\"\n",
              "     width=\"24px\">\n",
              "    <g>\n",
              "        <path d=\"M19 3H5c-1.1 0-2 .9-2 2v14c0 1.1.9 2 2 2h14c1.1 0 2-.9 2-2V5c0-1.1-.9-2-2-2zM9 17H7v-7h2v7zm4 0h-2V7h2v10zm4 0h-2v-4h2v4z\"/>\n",
              "    </g>\n",
              "</svg>\n",
              "  </button>\n",
              "\n",
              "<style>\n",
              "  .colab-df-quickchart {\n",
              "      --bg-color: #E8F0FE;\n",
              "      --fill-color: #1967D2;\n",
              "      --hover-bg-color: #E2EBFA;\n",
              "      --hover-fill-color: #174EA6;\n",
              "      --disabled-fill-color: #AAA;\n",
              "      --disabled-bg-color: #DDD;\n",
              "  }\n",
              "\n",
              "  [theme=dark] .colab-df-quickchart {\n",
              "      --bg-color: #3B4455;\n",
              "      --fill-color: #D2E3FC;\n",
              "      --hover-bg-color: #434B5C;\n",
              "      --hover-fill-color: #FFFFFF;\n",
              "      --disabled-bg-color: #3B4455;\n",
              "      --disabled-fill-color: #666;\n",
              "  }\n",
              "\n",
              "  .colab-df-quickchart {\n",
              "    background-color: var(--bg-color);\n",
              "    border: none;\n",
              "    border-radius: 50%;\n",
              "    cursor: pointer;\n",
              "    display: none;\n",
              "    fill: var(--fill-color);\n",
              "    height: 32px;\n",
              "    padding: 0;\n",
              "    width: 32px;\n",
              "  }\n",
              "\n",
              "  .colab-df-quickchart:hover {\n",
              "    background-color: var(--hover-bg-color);\n",
              "    box-shadow: 0 1px 2px rgba(60, 64, 67, 0.3), 0 1px 3px 1px rgba(60, 64, 67, 0.15);\n",
              "    fill: var(--button-hover-fill-color);\n",
              "  }\n",
              "\n",
              "  .colab-df-quickchart-complete:disabled,\n",
              "  .colab-df-quickchart-complete:disabled:hover {\n",
              "    background-color: var(--disabled-bg-color);\n",
              "    fill: var(--disabled-fill-color);\n",
              "    box-shadow: none;\n",
              "  }\n",
              "\n",
              "  .colab-df-spinner {\n",
              "    border: 2px solid var(--fill-color);\n",
              "    border-color: transparent;\n",
              "    border-bottom-color: var(--fill-color);\n",
              "    animation:\n",
              "      spin 1s steps(1) infinite;\n",
              "  }\n",
              "\n",
              "  @keyframes spin {\n",
              "    0% {\n",
              "      border-color: transparent;\n",
              "      border-bottom-color: var(--fill-color);\n",
              "      border-left-color: var(--fill-color);\n",
              "    }\n",
              "    20% {\n",
              "      border-color: transparent;\n",
              "      border-left-color: var(--fill-color);\n",
              "      border-top-color: var(--fill-color);\n",
              "    }\n",
              "    30% {\n",
              "      border-color: transparent;\n",
              "      border-left-color: var(--fill-color);\n",
              "      border-top-color: var(--fill-color);\n",
              "      border-right-color: var(--fill-color);\n",
              "    }\n",
              "    40% {\n",
              "      border-color: transparent;\n",
              "      border-right-color: var(--fill-color);\n",
              "      border-top-color: var(--fill-color);\n",
              "    }\n",
              "    60% {\n",
              "      border-color: transparent;\n",
              "      border-right-color: var(--fill-color);\n",
              "    }\n",
              "    80% {\n",
              "      border-color: transparent;\n",
              "      border-right-color: var(--fill-color);\n",
              "      border-bottom-color: var(--fill-color);\n",
              "    }\n",
              "    90% {\n",
              "      border-color: transparent;\n",
              "      border-bottom-color: var(--fill-color);\n",
              "    }\n",
              "  }\n",
              "</style>\n",
              "\n",
              "  <script>\n",
              "    async function quickchart(key) {\n",
              "      const quickchartButtonEl =\n",
              "        document.querySelector('#' + key + ' button');\n",
              "      quickchartButtonEl.disabled = true;  // To prevent multiple clicks.\n",
              "      quickchartButtonEl.classList.add('colab-df-spinner');\n",
              "      try {\n",
              "        const charts = await google.colab.kernel.invokeFunction(\n",
              "            'suggestCharts', [key], {});\n",
              "      } catch (error) {\n",
              "        console.error('Error during call to suggestCharts:', error);\n",
              "      }\n",
              "      quickchartButtonEl.classList.remove('colab-df-spinner');\n",
              "      quickchartButtonEl.classList.add('colab-df-quickchart-complete');\n",
              "    }\n",
              "    (() => {\n",
              "      let quickchartButtonEl =\n",
              "        document.querySelector('#df-da3aa162-1215-435f-97e9-3fbb7f09d7c1 button');\n",
              "      quickchartButtonEl.style.display =\n",
              "        google.colab.kernel.accessAllowed ? 'block' : 'none';\n",
              "    })();\n",
              "  </script>\n",
              "</div>\n",
              "\n",
              "    </div>\n",
              "  </div>\n"
            ],
            "application/vnd.google.colaboratory.intrinsic+json": {
              "type": "dataframe",
              "variable_name": "titles"
            }
          },
          "metadata": {},
          "execution_count": 4
        }
      ],
      "source": [
        "titles = pd.read_csv('titles.csv')\n",
        "titles.head(10)"
      ]
    },
    {
      "cell_type": "code",
      "execution_count": 5,
      "metadata": {
        "colab": {
          "base_uri": "https://localhost:8080/",
          "height": 206
        },
        "id": "8ouJ2iduTIEo",
        "outputId": "b3ff48ac-b170-4123-b06d-4a667f53facf"
      },
      "outputs": [
        {
          "output_type": "execute_result",
          "data": {
            "text/plain": [
              "                  title    year      name   type                character  \\\n",
              "0        Closet Monster  2015.0  Buffy #1  actor                  Buffy 4   \n",
              "1       Suuri illusioni  1985.0    Homo $  actor                   Guests   \n",
              "2   Battle of the Sexes  2017.0   $hutter  actor          Bobby Riggs Fan   \n",
              "3  Secret in Their Eyes  2015.0   $hutter  actor          2002 Dodger Fan   \n",
              "4            Steve Jobs  2015.0   $hutter  actor  1988 Opera House Patron   \n",
              "\n",
              "      n  \n",
              "0  31.0  \n",
              "1  22.0  \n",
              "2  10.0  \n",
              "3   NaN  \n",
              "4   NaN  "
            ],
            "text/html": [
              "\n",
              "  <div id=\"df-7a220ffb-aaac-47a3-8e41-e3b1a961d49c\" class=\"colab-df-container\">\n",
              "    <div>\n",
              "<style scoped>\n",
              "    .dataframe tbody tr th:only-of-type {\n",
              "        vertical-align: middle;\n",
              "    }\n",
              "\n",
              "    .dataframe tbody tr th {\n",
              "        vertical-align: top;\n",
              "    }\n",
              "\n",
              "    .dataframe thead th {\n",
              "        text-align: right;\n",
              "    }\n",
              "</style>\n",
              "<table border=\"1\" class=\"dataframe\">\n",
              "  <thead>\n",
              "    <tr style=\"text-align: right;\">\n",
              "      <th></th>\n",
              "      <th>title</th>\n",
              "      <th>year</th>\n",
              "      <th>name</th>\n",
              "      <th>type</th>\n",
              "      <th>character</th>\n",
              "      <th>n</th>\n",
              "    </tr>\n",
              "  </thead>\n",
              "  <tbody>\n",
              "    <tr>\n",
              "      <th>0</th>\n",
              "      <td>Closet Monster</td>\n",
              "      <td>2015.0</td>\n",
              "      <td>Buffy #1</td>\n",
              "      <td>actor</td>\n",
              "      <td>Buffy 4</td>\n",
              "      <td>31.0</td>\n",
              "    </tr>\n",
              "    <tr>\n",
              "      <th>1</th>\n",
              "      <td>Suuri illusioni</td>\n",
              "      <td>1985.0</td>\n",
              "      <td>Homo $</td>\n",
              "      <td>actor</td>\n",
              "      <td>Guests</td>\n",
              "      <td>22.0</td>\n",
              "    </tr>\n",
              "    <tr>\n",
              "      <th>2</th>\n",
              "      <td>Battle of the Sexes</td>\n",
              "      <td>2017.0</td>\n",
              "      <td>$hutter</td>\n",
              "      <td>actor</td>\n",
              "      <td>Bobby Riggs Fan</td>\n",
              "      <td>10.0</td>\n",
              "    </tr>\n",
              "    <tr>\n",
              "      <th>3</th>\n",
              "      <td>Secret in Their Eyes</td>\n",
              "      <td>2015.0</td>\n",
              "      <td>$hutter</td>\n",
              "      <td>actor</td>\n",
              "      <td>2002 Dodger Fan</td>\n",
              "      <td>NaN</td>\n",
              "    </tr>\n",
              "    <tr>\n",
              "      <th>4</th>\n",
              "      <td>Steve Jobs</td>\n",
              "      <td>2015.0</td>\n",
              "      <td>$hutter</td>\n",
              "      <td>actor</td>\n",
              "      <td>1988 Opera House Patron</td>\n",
              "      <td>NaN</td>\n",
              "    </tr>\n",
              "  </tbody>\n",
              "</table>\n",
              "</div>\n",
              "    <div class=\"colab-df-buttons\">\n",
              "\n",
              "  <div class=\"colab-df-container\">\n",
              "    <button class=\"colab-df-convert\" onclick=\"convertToInteractive('df-7a220ffb-aaac-47a3-8e41-e3b1a961d49c')\"\n",
              "            title=\"Convert this dataframe to an interactive table.\"\n",
              "            style=\"display:none;\">\n",
              "\n",
              "  <svg xmlns=\"http://www.w3.org/2000/svg\" height=\"24px\" viewBox=\"0 -960 960 960\">\n",
              "    <path d=\"M120-120v-720h720v720H120Zm60-500h600v-160H180v160Zm220 220h160v-160H400v160Zm0 220h160v-160H400v160ZM180-400h160v-160H180v160Zm440 0h160v-160H620v160ZM180-180h160v-160H180v160Zm440 0h160v-160H620v160Z\"/>\n",
              "  </svg>\n",
              "    </button>\n",
              "\n",
              "  <style>\n",
              "    .colab-df-container {\n",
              "      display:flex;\n",
              "      gap: 12px;\n",
              "    }\n",
              "\n",
              "    .colab-df-convert {\n",
              "      background-color: #E8F0FE;\n",
              "      border: none;\n",
              "      border-radius: 50%;\n",
              "      cursor: pointer;\n",
              "      display: none;\n",
              "      fill: #1967D2;\n",
              "      height: 32px;\n",
              "      padding: 0 0 0 0;\n",
              "      width: 32px;\n",
              "    }\n",
              "\n",
              "    .colab-df-convert:hover {\n",
              "      background-color: #E2EBFA;\n",
              "      box-shadow: 0px 1px 2px rgba(60, 64, 67, 0.3), 0px 1px 3px 1px rgba(60, 64, 67, 0.15);\n",
              "      fill: #174EA6;\n",
              "    }\n",
              "\n",
              "    .colab-df-buttons div {\n",
              "      margin-bottom: 4px;\n",
              "    }\n",
              "\n",
              "    [theme=dark] .colab-df-convert {\n",
              "      background-color: #3B4455;\n",
              "      fill: #D2E3FC;\n",
              "    }\n",
              "\n",
              "    [theme=dark] .colab-df-convert:hover {\n",
              "      background-color: #434B5C;\n",
              "      box-shadow: 0px 1px 3px 1px rgba(0, 0, 0, 0.15);\n",
              "      filter: drop-shadow(0px 1px 2px rgba(0, 0, 0, 0.3));\n",
              "      fill: #FFFFFF;\n",
              "    }\n",
              "  </style>\n",
              "\n",
              "    <script>\n",
              "      const buttonEl =\n",
              "        document.querySelector('#df-7a220ffb-aaac-47a3-8e41-e3b1a961d49c button.colab-df-convert');\n",
              "      buttonEl.style.display =\n",
              "        google.colab.kernel.accessAllowed ? 'block' : 'none';\n",
              "\n",
              "      async function convertToInteractive(key) {\n",
              "        const element = document.querySelector('#df-7a220ffb-aaac-47a3-8e41-e3b1a961d49c');\n",
              "        const dataTable =\n",
              "          await google.colab.kernel.invokeFunction('convertToInteractive',\n",
              "                                                    [key], {});\n",
              "        if (!dataTable) return;\n",
              "\n",
              "        const docLinkHtml = 'Like what you see? Visit the ' +\n",
              "          '<a target=\"_blank\" href=https://colab.research.google.com/notebooks/data_table.ipynb>data table notebook</a>'\n",
              "          + ' to learn more about interactive tables.';\n",
              "        element.innerHTML = '';\n",
              "        dataTable['output_type'] = 'display_data';\n",
              "        await google.colab.output.renderOutput(dataTable, element);\n",
              "        const docLink = document.createElement('div');\n",
              "        docLink.innerHTML = docLinkHtml;\n",
              "        element.appendChild(docLink);\n",
              "      }\n",
              "    </script>\n",
              "  </div>\n",
              "\n",
              "\n",
              "<div id=\"df-a86e3924-f598-41d1-855f-79ee3588c5ea\">\n",
              "  <button class=\"colab-df-quickchart\" onclick=\"quickchart('df-a86e3924-f598-41d1-855f-79ee3588c5ea')\"\n",
              "            title=\"Suggest charts\"\n",
              "            style=\"display:none;\">\n",
              "\n",
              "<svg xmlns=\"http://www.w3.org/2000/svg\" height=\"24px\"viewBox=\"0 0 24 24\"\n",
              "     width=\"24px\">\n",
              "    <g>\n",
              "        <path d=\"M19 3H5c-1.1 0-2 .9-2 2v14c0 1.1.9 2 2 2h14c1.1 0 2-.9 2-2V5c0-1.1-.9-2-2-2zM9 17H7v-7h2v7zm4 0h-2V7h2v10zm4 0h-2v-4h2v4z\"/>\n",
              "    </g>\n",
              "</svg>\n",
              "  </button>\n",
              "\n",
              "<style>\n",
              "  .colab-df-quickchart {\n",
              "      --bg-color: #E8F0FE;\n",
              "      --fill-color: #1967D2;\n",
              "      --hover-bg-color: #E2EBFA;\n",
              "      --hover-fill-color: #174EA6;\n",
              "      --disabled-fill-color: #AAA;\n",
              "      --disabled-bg-color: #DDD;\n",
              "  }\n",
              "\n",
              "  [theme=dark] .colab-df-quickchart {\n",
              "      --bg-color: #3B4455;\n",
              "      --fill-color: #D2E3FC;\n",
              "      --hover-bg-color: #434B5C;\n",
              "      --hover-fill-color: #FFFFFF;\n",
              "      --disabled-bg-color: #3B4455;\n",
              "      --disabled-fill-color: #666;\n",
              "  }\n",
              "\n",
              "  .colab-df-quickchart {\n",
              "    background-color: var(--bg-color);\n",
              "    border: none;\n",
              "    border-radius: 50%;\n",
              "    cursor: pointer;\n",
              "    display: none;\n",
              "    fill: var(--fill-color);\n",
              "    height: 32px;\n",
              "    padding: 0;\n",
              "    width: 32px;\n",
              "  }\n",
              "\n",
              "  .colab-df-quickchart:hover {\n",
              "    background-color: var(--hover-bg-color);\n",
              "    box-shadow: 0 1px 2px rgba(60, 64, 67, 0.3), 0 1px 3px 1px rgba(60, 64, 67, 0.15);\n",
              "    fill: var(--button-hover-fill-color);\n",
              "  }\n",
              "\n",
              "  .colab-df-quickchart-complete:disabled,\n",
              "  .colab-df-quickchart-complete:disabled:hover {\n",
              "    background-color: var(--disabled-bg-color);\n",
              "    fill: var(--disabled-fill-color);\n",
              "    box-shadow: none;\n",
              "  }\n",
              "\n",
              "  .colab-df-spinner {\n",
              "    border: 2px solid var(--fill-color);\n",
              "    border-color: transparent;\n",
              "    border-bottom-color: var(--fill-color);\n",
              "    animation:\n",
              "      spin 1s steps(1) infinite;\n",
              "  }\n",
              "\n",
              "  @keyframes spin {\n",
              "    0% {\n",
              "      border-color: transparent;\n",
              "      border-bottom-color: var(--fill-color);\n",
              "      border-left-color: var(--fill-color);\n",
              "    }\n",
              "    20% {\n",
              "      border-color: transparent;\n",
              "      border-left-color: var(--fill-color);\n",
              "      border-top-color: var(--fill-color);\n",
              "    }\n",
              "    30% {\n",
              "      border-color: transparent;\n",
              "      border-left-color: var(--fill-color);\n",
              "      border-top-color: var(--fill-color);\n",
              "      border-right-color: var(--fill-color);\n",
              "    }\n",
              "    40% {\n",
              "      border-color: transparent;\n",
              "      border-right-color: var(--fill-color);\n",
              "      border-top-color: var(--fill-color);\n",
              "    }\n",
              "    60% {\n",
              "      border-color: transparent;\n",
              "      border-right-color: var(--fill-color);\n",
              "    }\n",
              "    80% {\n",
              "      border-color: transparent;\n",
              "      border-right-color: var(--fill-color);\n",
              "      border-bottom-color: var(--fill-color);\n",
              "    }\n",
              "    90% {\n",
              "      border-color: transparent;\n",
              "      border-bottom-color: var(--fill-color);\n",
              "    }\n",
              "  }\n",
              "</style>\n",
              "\n",
              "  <script>\n",
              "    async function quickchart(key) {\n",
              "      const quickchartButtonEl =\n",
              "        document.querySelector('#' + key + ' button');\n",
              "      quickchartButtonEl.disabled = true;  // To prevent multiple clicks.\n",
              "      quickchartButtonEl.classList.add('colab-df-spinner');\n",
              "      try {\n",
              "        const charts = await google.colab.kernel.invokeFunction(\n",
              "            'suggestCharts', [key], {});\n",
              "      } catch (error) {\n",
              "        console.error('Error during call to suggestCharts:', error);\n",
              "      }\n",
              "      quickchartButtonEl.classList.remove('colab-df-spinner');\n",
              "      quickchartButtonEl.classList.add('colab-df-quickchart-complete');\n",
              "    }\n",
              "    (() => {\n",
              "      let quickchartButtonEl =\n",
              "        document.querySelector('#df-a86e3924-f598-41d1-855f-79ee3588c5ea button');\n",
              "      quickchartButtonEl.style.display =\n",
              "        google.colab.kernel.accessAllowed ? 'block' : 'none';\n",
              "    })();\n",
              "  </script>\n",
              "</div>\n",
              "\n",
              "    </div>\n",
              "  </div>\n"
            ],
            "application/vnd.google.colaboratory.intrinsic+json": {
              "type": "dataframe",
              "variable_name": "cast",
              "summary": "{\n  \"name\": \"cast\",\n  \"rows\": 18231,\n  \"fields\": [\n    {\n      \"column\": \"title\",\n      \"properties\": {\n        \"dtype\": \"string\",\n        \"num_unique_values\": 15394,\n        \"samples\": [\n          \"A Louder Silence\",\n          \"Joven y Alocada\",\n          \"Hamile\"\n        ],\n        \"semantic_type\": \"\",\n        \"description\": \"\"\n      }\n    },\n    {\n      \"column\": \"year\",\n      \"properties\": {\n        \"dtype\": \"number\",\n        \"std\": 27.133912478302975,\n        \"min\": 1913.0,\n        \"max\": 2020.0,\n        \"num_unique_values\": 108,\n        \"samples\": [\n          1933.0,\n          1977.0,\n          2014.0\n        ],\n        \"semantic_type\": \"\",\n        \"description\": \"\"\n      }\n    },\n    {\n      \"column\": \"name\",\n      \"properties\": {\n        \"dtype\": \"category\",\n        \"num_unique_values\": 6837,\n        \"samples\": [\n          \"Cass Riley Acosta\",\n          \"Martin Adamiec\",\n          \"Ibrahim Aba-Gana\"\n        ],\n        \"semantic_type\": \"\",\n        \"description\": \"\"\n      }\n    },\n    {\n      \"column\": \"type\",\n      \"properties\": {\n        \"dtype\": \"category\",\n        \"num_unique_values\": 1,\n        \"samples\": [\n          \"actor\"\n        ],\n        \"semantic_type\": \"\",\n        \"description\": \"\"\n      }\n    },\n    {\n      \"column\": \"character\",\n      \"properties\": {\n        \"dtype\": \"string\",\n        \"num_unique_values\": 13849,\n        \"samples\": [\n          \"Queenie's Barman\"\n        ],\n        \"semantic_type\": \"\",\n        \"description\": \"\"\n      }\n    },\n    {\n      \"column\": \"n\",\n      \"properties\": {\n        \"dtype\": \"number\",\n        \"std\": 25.186209163748163,\n        \"min\": 1.0,\n        \"max\": 644.0,\n        \"num_unique_values\": 181,\n        \"samples\": [\n          26.0\n        ],\n        \"semantic_type\": \"\",\n        \"description\": \"\"\n      }\n    }\n  ]\n}"
            }
          },
          "metadata": {},
          "execution_count": 5
        }
      ],
      "source": [
        "cast = pd.read_csv('cast.csv')\n",
        "cast.head()"
      ]
    },
    {
      "cell_type": "markdown",
      "metadata": {
        "collapsed": true,
        "id": "-Xen_xQMTIEo"
      },
      "source": [
        "### How many movies are listed in the titles dataframe?"
      ]
    },
    {
      "cell_type": "code",
      "source": [
        "titles.shape"
      ],
      "metadata": {
        "id": "zGyutnZ-WS_i",
        "outputId": "dba78b4f-bdcf-47e2-b569-23091a1552e6",
        "colab": {
          "base_uri": "https://localhost:8080/"
        }
      },
      "execution_count": 8,
      "outputs": [
        {
          "output_type": "execute_result",
          "data": {
            "text/plain": [
              "(226013, 2)"
            ]
          },
          "metadata": {},
          "execution_count": 8
        }
      ]
    },
    {
      "cell_type": "code",
      "source": [
        "titles.shape[0]"
      ],
      "metadata": {
        "id": "WYPmsBVOWiGH",
        "outputId": "129e4a57-eeae-4975-967e-22d51657919b",
        "colab": {
          "base_uri": "https://localhost:8080/"
        }
      },
      "execution_count": 9,
      "outputs": [
        {
          "output_type": "execute_result",
          "data": {
            "text/plain": [
              "226013"
            ]
          },
          "metadata": {},
          "execution_count": 9
        }
      ]
    },
    {
      "cell_type": "code",
      "execution_count": 6,
      "metadata": {
        "collapsed": true,
        "colab": {
          "base_uri": "https://localhost:8080/"
        },
        "id": "tP9ybbz1TIEp",
        "outputId": "13329954-1e51-46af-cf38-41aa286a3bf4"
      },
      "outputs": [
        {
          "output_type": "execute_result",
          "data": {
            "text/plain": [
              "226013"
            ]
          },
          "metadata": {},
          "execution_count": 6
        }
      ],
      "source": [
        "len(titles)"
      ]
    },
    {
      "cell_type": "code",
      "execution_count": null,
      "metadata": {
        "collapsed": true,
        "id": "I5N7gpu1TIEp"
      },
      "outputs": [],
      "source": []
    },
    {
      "cell_type": "markdown",
      "metadata": {
        "collapsed": true,
        "id": "ooyHuT-xTIEp"
      },
      "source": [
        "### What are the earliest two films listed in the titles dataframe?"
      ]
    },
    {
      "cell_type": "code",
      "execution_count": 11,
      "metadata": {
        "collapsed": true,
        "colab": {
          "base_uri": "https://localhost:8080/",
          "height": 206
        },
        "id": "gHLiMk2ITIEp",
        "outputId": "11e8524d-4117-4074-e975-3bc41bdec8cc"
      },
      "outputs": [
        {
          "output_type": "execute_result",
          "data": {
            "text/plain": [
              "                          title  year\n",
              "0                    El plebeyo  1953\n",
              "1  Atoski vrtovi - preobrazenje  1989\n",
              "2                Mateegy norkos  2006\n",
              "3                 Lanka Dahanam  1936\n",
              "4                       Acciaio  1933"
            ],
            "text/html": [
              "\n",
              "  <div id=\"df-168c4fba-7fe9-4989-9d7d-b9427e780978\" class=\"colab-df-container\">\n",
              "    <div>\n",
              "<style scoped>\n",
              "    .dataframe tbody tr th:only-of-type {\n",
              "        vertical-align: middle;\n",
              "    }\n",
              "\n",
              "    .dataframe tbody tr th {\n",
              "        vertical-align: top;\n",
              "    }\n",
              "\n",
              "    .dataframe thead th {\n",
              "        text-align: right;\n",
              "    }\n",
              "</style>\n",
              "<table border=\"1\" class=\"dataframe\">\n",
              "  <thead>\n",
              "    <tr style=\"text-align: right;\">\n",
              "      <th></th>\n",
              "      <th>title</th>\n",
              "      <th>year</th>\n",
              "    </tr>\n",
              "  </thead>\n",
              "  <tbody>\n",
              "    <tr>\n",
              "      <th>0</th>\n",
              "      <td>El plebeyo</td>\n",
              "      <td>1953</td>\n",
              "    </tr>\n",
              "    <tr>\n",
              "      <th>1</th>\n",
              "      <td>Atoski vrtovi - preobrazenje</td>\n",
              "      <td>1989</td>\n",
              "    </tr>\n",
              "    <tr>\n",
              "      <th>2</th>\n",
              "      <td>Mateegy norkos</td>\n",
              "      <td>2006</td>\n",
              "    </tr>\n",
              "    <tr>\n",
              "      <th>3</th>\n",
              "      <td>Lanka Dahanam</td>\n",
              "      <td>1936</td>\n",
              "    </tr>\n",
              "    <tr>\n",
              "      <th>4</th>\n",
              "      <td>Acciaio</td>\n",
              "      <td>1933</td>\n",
              "    </tr>\n",
              "  </tbody>\n",
              "</table>\n",
              "</div>\n",
              "    <div class=\"colab-df-buttons\">\n",
              "\n",
              "  <div class=\"colab-df-container\">\n",
              "    <button class=\"colab-df-convert\" onclick=\"convertToInteractive('df-168c4fba-7fe9-4989-9d7d-b9427e780978')\"\n",
              "            title=\"Convert this dataframe to an interactive table.\"\n",
              "            style=\"display:none;\">\n",
              "\n",
              "  <svg xmlns=\"http://www.w3.org/2000/svg\" height=\"24px\" viewBox=\"0 -960 960 960\">\n",
              "    <path d=\"M120-120v-720h720v720H120Zm60-500h600v-160H180v160Zm220 220h160v-160H400v160Zm0 220h160v-160H400v160ZM180-400h160v-160H180v160Zm440 0h160v-160H620v160ZM180-180h160v-160H180v160Zm440 0h160v-160H620v160Z\"/>\n",
              "  </svg>\n",
              "    </button>\n",
              "\n",
              "  <style>\n",
              "    .colab-df-container {\n",
              "      display:flex;\n",
              "      gap: 12px;\n",
              "    }\n",
              "\n",
              "    .colab-df-convert {\n",
              "      background-color: #E8F0FE;\n",
              "      border: none;\n",
              "      border-radius: 50%;\n",
              "      cursor: pointer;\n",
              "      display: none;\n",
              "      fill: #1967D2;\n",
              "      height: 32px;\n",
              "      padding: 0 0 0 0;\n",
              "      width: 32px;\n",
              "    }\n",
              "\n",
              "    .colab-df-convert:hover {\n",
              "      background-color: #E2EBFA;\n",
              "      box-shadow: 0px 1px 2px rgba(60, 64, 67, 0.3), 0px 1px 3px 1px rgba(60, 64, 67, 0.15);\n",
              "      fill: #174EA6;\n",
              "    }\n",
              "\n",
              "    .colab-df-buttons div {\n",
              "      margin-bottom: 4px;\n",
              "    }\n",
              "\n",
              "    [theme=dark] .colab-df-convert {\n",
              "      background-color: #3B4455;\n",
              "      fill: #D2E3FC;\n",
              "    }\n",
              "\n",
              "    [theme=dark] .colab-df-convert:hover {\n",
              "      background-color: #434B5C;\n",
              "      box-shadow: 0px 1px 3px 1px rgba(0, 0, 0, 0.15);\n",
              "      filter: drop-shadow(0px 1px 2px rgba(0, 0, 0, 0.3));\n",
              "      fill: #FFFFFF;\n",
              "    }\n",
              "  </style>\n",
              "\n",
              "    <script>\n",
              "      const buttonEl =\n",
              "        document.querySelector('#df-168c4fba-7fe9-4989-9d7d-b9427e780978 button.colab-df-convert');\n",
              "      buttonEl.style.display =\n",
              "        google.colab.kernel.accessAllowed ? 'block' : 'none';\n",
              "\n",
              "      async function convertToInteractive(key) {\n",
              "        const element = document.querySelector('#df-168c4fba-7fe9-4989-9d7d-b9427e780978');\n",
              "        const dataTable =\n",
              "          await google.colab.kernel.invokeFunction('convertToInteractive',\n",
              "                                                    [key], {});\n",
              "        if (!dataTable) return;\n",
              "\n",
              "        const docLinkHtml = 'Like what you see? Visit the ' +\n",
              "          '<a target=\"_blank\" href=https://colab.research.google.com/notebooks/data_table.ipynb>data table notebook</a>'\n",
              "          + ' to learn more about interactive tables.';\n",
              "        element.innerHTML = '';\n",
              "        dataTable['output_type'] = 'display_data';\n",
              "        await google.colab.output.renderOutput(dataTable, element);\n",
              "        const docLink = document.createElement('div');\n",
              "        docLink.innerHTML = docLinkHtml;\n",
              "        element.appendChild(docLink);\n",
              "      }\n",
              "    </script>\n",
              "  </div>\n",
              "\n",
              "\n",
              "<div id=\"df-27380943-d386-44b8-b460-81d535ac2895\">\n",
              "  <button class=\"colab-df-quickchart\" onclick=\"quickchart('df-27380943-d386-44b8-b460-81d535ac2895')\"\n",
              "            title=\"Suggest charts\"\n",
              "            style=\"display:none;\">\n",
              "\n",
              "<svg xmlns=\"http://www.w3.org/2000/svg\" height=\"24px\"viewBox=\"0 0 24 24\"\n",
              "     width=\"24px\">\n",
              "    <g>\n",
              "        <path d=\"M19 3H5c-1.1 0-2 .9-2 2v14c0 1.1.9 2 2 2h14c1.1 0 2-.9 2-2V5c0-1.1-.9-2-2-2zM9 17H7v-7h2v7zm4 0h-2V7h2v10zm4 0h-2v-4h2v4z\"/>\n",
              "    </g>\n",
              "</svg>\n",
              "  </button>\n",
              "\n",
              "<style>\n",
              "  .colab-df-quickchart {\n",
              "      --bg-color: #E8F0FE;\n",
              "      --fill-color: #1967D2;\n",
              "      --hover-bg-color: #E2EBFA;\n",
              "      --hover-fill-color: #174EA6;\n",
              "      --disabled-fill-color: #AAA;\n",
              "      --disabled-bg-color: #DDD;\n",
              "  }\n",
              "\n",
              "  [theme=dark] .colab-df-quickchart {\n",
              "      --bg-color: #3B4455;\n",
              "      --fill-color: #D2E3FC;\n",
              "      --hover-bg-color: #434B5C;\n",
              "      --hover-fill-color: #FFFFFF;\n",
              "      --disabled-bg-color: #3B4455;\n",
              "      --disabled-fill-color: #666;\n",
              "  }\n",
              "\n",
              "  .colab-df-quickchart {\n",
              "    background-color: var(--bg-color);\n",
              "    border: none;\n",
              "    border-radius: 50%;\n",
              "    cursor: pointer;\n",
              "    display: none;\n",
              "    fill: var(--fill-color);\n",
              "    height: 32px;\n",
              "    padding: 0;\n",
              "    width: 32px;\n",
              "  }\n",
              "\n",
              "  .colab-df-quickchart:hover {\n",
              "    background-color: var(--hover-bg-color);\n",
              "    box-shadow: 0 1px 2px rgba(60, 64, 67, 0.3), 0 1px 3px 1px rgba(60, 64, 67, 0.15);\n",
              "    fill: var(--button-hover-fill-color);\n",
              "  }\n",
              "\n",
              "  .colab-df-quickchart-complete:disabled,\n",
              "  .colab-df-quickchart-complete:disabled:hover {\n",
              "    background-color: var(--disabled-bg-color);\n",
              "    fill: var(--disabled-fill-color);\n",
              "    box-shadow: none;\n",
              "  }\n",
              "\n",
              "  .colab-df-spinner {\n",
              "    border: 2px solid var(--fill-color);\n",
              "    border-color: transparent;\n",
              "    border-bottom-color: var(--fill-color);\n",
              "    animation:\n",
              "      spin 1s steps(1) infinite;\n",
              "  }\n",
              "\n",
              "  @keyframes spin {\n",
              "    0% {\n",
              "      border-color: transparent;\n",
              "      border-bottom-color: var(--fill-color);\n",
              "      border-left-color: var(--fill-color);\n",
              "    }\n",
              "    20% {\n",
              "      border-color: transparent;\n",
              "      border-left-color: var(--fill-color);\n",
              "      border-top-color: var(--fill-color);\n",
              "    }\n",
              "    30% {\n",
              "      border-color: transparent;\n",
              "      border-left-color: var(--fill-color);\n",
              "      border-top-color: var(--fill-color);\n",
              "      border-right-color: var(--fill-color);\n",
              "    }\n",
              "    40% {\n",
              "      border-color: transparent;\n",
              "      border-right-color: var(--fill-color);\n",
              "      border-top-color: var(--fill-color);\n",
              "    }\n",
              "    60% {\n",
              "      border-color: transparent;\n",
              "      border-right-color: var(--fill-color);\n",
              "    }\n",
              "    80% {\n",
              "      border-color: transparent;\n",
              "      border-right-color: var(--fill-color);\n",
              "      border-bottom-color: var(--fill-color);\n",
              "    }\n",
              "    90% {\n",
              "      border-color: transparent;\n",
              "      border-bottom-color: var(--fill-color);\n",
              "    }\n",
              "  }\n",
              "</style>\n",
              "\n",
              "  <script>\n",
              "    async function quickchart(key) {\n",
              "      const quickchartButtonEl =\n",
              "        document.querySelector('#' + key + ' button');\n",
              "      quickchartButtonEl.disabled = true;  // To prevent multiple clicks.\n",
              "      quickchartButtonEl.classList.add('colab-df-spinner');\n",
              "      try {\n",
              "        const charts = await google.colab.kernel.invokeFunction(\n",
              "            'suggestCharts', [key], {});\n",
              "      } catch (error) {\n",
              "        console.error('Error during call to suggestCharts:', error);\n",
              "      }\n",
              "      quickchartButtonEl.classList.remove('colab-df-spinner');\n",
              "      quickchartButtonEl.classList.add('colab-df-quickchart-complete');\n",
              "    }\n",
              "    (() => {\n",
              "      let quickchartButtonEl =\n",
              "        document.querySelector('#df-27380943-d386-44b8-b460-81d535ac2895 button');\n",
              "      quickchartButtonEl.style.display =\n",
              "        google.colab.kernel.accessAllowed ? 'block' : 'none';\n",
              "    })();\n",
              "  </script>\n",
              "</div>\n",
              "\n",
              "    </div>\n",
              "  </div>\n"
            ],
            "application/vnd.google.colaboratory.intrinsic+json": {
              "type": "dataframe",
              "variable_name": "titles"
            }
          },
          "metadata": {},
          "execution_count": 11
        }
      ],
      "source": [
        "titles.head()"
      ]
    },
    {
      "cell_type": "code",
      "execution_count": 12,
      "metadata": {
        "collapsed": true,
        "colab": {
          "base_uri": "https://localhost:8080/",
          "height": 112
        },
        "id": "uONdjQStTIEp",
        "outputId": "903d21a7-d746-4b67-a92c-ddd341757778"
      },
      "outputs": [
        {
          "output_type": "execute_result",
          "data": {
            "text/plain": [
              "                     title  year\n",
              "104859          Miss Jerry  1894\n",
              "218352  The Startled Lover  1898"
            ],
            "text/html": [
              "\n",
              "  <div id=\"df-15df512b-98ef-49fb-aaae-4ffa22f6f0b1\" class=\"colab-df-container\">\n",
              "    <div>\n",
              "<style scoped>\n",
              "    .dataframe tbody tr th:only-of-type {\n",
              "        vertical-align: middle;\n",
              "    }\n",
              "\n",
              "    .dataframe tbody tr th {\n",
              "        vertical-align: top;\n",
              "    }\n",
              "\n",
              "    .dataframe thead th {\n",
              "        text-align: right;\n",
              "    }\n",
              "</style>\n",
              "<table border=\"1\" class=\"dataframe\">\n",
              "  <thead>\n",
              "    <tr style=\"text-align: right;\">\n",
              "      <th></th>\n",
              "      <th>title</th>\n",
              "      <th>year</th>\n",
              "    </tr>\n",
              "  </thead>\n",
              "  <tbody>\n",
              "    <tr>\n",
              "      <th>104859</th>\n",
              "      <td>Miss Jerry</td>\n",
              "      <td>1894</td>\n",
              "    </tr>\n",
              "    <tr>\n",
              "      <th>218352</th>\n",
              "      <td>The Startled Lover</td>\n",
              "      <td>1898</td>\n",
              "    </tr>\n",
              "  </tbody>\n",
              "</table>\n",
              "</div>\n",
              "    <div class=\"colab-df-buttons\">\n",
              "\n",
              "  <div class=\"colab-df-container\">\n",
              "    <button class=\"colab-df-convert\" onclick=\"convertToInteractive('df-15df512b-98ef-49fb-aaae-4ffa22f6f0b1')\"\n",
              "            title=\"Convert this dataframe to an interactive table.\"\n",
              "            style=\"display:none;\">\n",
              "\n",
              "  <svg xmlns=\"http://www.w3.org/2000/svg\" height=\"24px\" viewBox=\"0 -960 960 960\">\n",
              "    <path d=\"M120-120v-720h720v720H120Zm60-500h600v-160H180v160Zm220 220h160v-160H400v160Zm0 220h160v-160H400v160ZM180-400h160v-160H180v160Zm440 0h160v-160H620v160ZM180-180h160v-160H180v160Zm440 0h160v-160H620v160Z\"/>\n",
              "  </svg>\n",
              "    </button>\n",
              "\n",
              "  <style>\n",
              "    .colab-df-container {\n",
              "      display:flex;\n",
              "      gap: 12px;\n",
              "    }\n",
              "\n",
              "    .colab-df-convert {\n",
              "      background-color: #E8F0FE;\n",
              "      border: none;\n",
              "      border-radius: 50%;\n",
              "      cursor: pointer;\n",
              "      display: none;\n",
              "      fill: #1967D2;\n",
              "      height: 32px;\n",
              "      padding: 0 0 0 0;\n",
              "      width: 32px;\n",
              "    }\n",
              "\n",
              "    .colab-df-convert:hover {\n",
              "      background-color: #E2EBFA;\n",
              "      box-shadow: 0px 1px 2px rgba(60, 64, 67, 0.3), 0px 1px 3px 1px rgba(60, 64, 67, 0.15);\n",
              "      fill: #174EA6;\n",
              "    }\n",
              "\n",
              "    .colab-df-buttons div {\n",
              "      margin-bottom: 4px;\n",
              "    }\n",
              "\n",
              "    [theme=dark] .colab-df-convert {\n",
              "      background-color: #3B4455;\n",
              "      fill: #D2E3FC;\n",
              "    }\n",
              "\n",
              "    [theme=dark] .colab-df-convert:hover {\n",
              "      background-color: #434B5C;\n",
              "      box-shadow: 0px 1px 3px 1px rgba(0, 0, 0, 0.15);\n",
              "      filter: drop-shadow(0px 1px 2px rgba(0, 0, 0, 0.3));\n",
              "      fill: #FFFFFF;\n",
              "    }\n",
              "  </style>\n",
              "\n",
              "    <script>\n",
              "      const buttonEl =\n",
              "        document.querySelector('#df-15df512b-98ef-49fb-aaae-4ffa22f6f0b1 button.colab-df-convert');\n",
              "      buttonEl.style.display =\n",
              "        google.colab.kernel.accessAllowed ? 'block' : 'none';\n",
              "\n",
              "      async function convertToInteractive(key) {\n",
              "        const element = document.querySelector('#df-15df512b-98ef-49fb-aaae-4ffa22f6f0b1');\n",
              "        const dataTable =\n",
              "          await google.colab.kernel.invokeFunction('convertToInteractive',\n",
              "                                                    [key], {});\n",
              "        if (!dataTable) return;\n",
              "\n",
              "        const docLinkHtml = 'Like what you see? Visit the ' +\n",
              "          '<a target=\"_blank\" href=https://colab.research.google.com/notebooks/data_table.ipynb>data table notebook</a>'\n",
              "          + ' to learn more about interactive tables.';\n",
              "        element.innerHTML = '';\n",
              "        dataTable['output_type'] = 'display_data';\n",
              "        await google.colab.output.renderOutput(dataTable, element);\n",
              "        const docLink = document.createElement('div');\n",
              "        docLink.innerHTML = docLinkHtml;\n",
              "        element.appendChild(docLink);\n",
              "      }\n",
              "    </script>\n",
              "  </div>\n",
              "\n",
              "\n",
              "<div id=\"df-b53deeae-5edb-4f72-8692-c2f78b857547\">\n",
              "  <button class=\"colab-df-quickchart\" onclick=\"quickchart('df-b53deeae-5edb-4f72-8692-c2f78b857547')\"\n",
              "            title=\"Suggest charts\"\n",
              "            style=\"display:none;\">\n",
              "\n",
              "<svg xmlns=\"http://www.w3.org/2000/svg\" height=\"24px\"viewBox=\"0 0 24 24\"\n",
              "     width=\"24px\">\n",
              "    <g>\n",
              "        <path d=\"M19 3H5c-1.1 0-2 .9-2 2v14c0 1.1.9 2 2 2h14c1.1 0 2-.9 2-2V5c0-1.1-.9-2-2-2zM9 17H7v-7h2v7zm4 0h-2V7h2v10zm4 0h-2v-4h2v4z\"/>\n",
              "    </g>\n",
              "</svg>\n",
              "  </button>\n",
              "\n",
              "<style>\n",
              "  .colab-df-quickchart {\n",
              "      --bg-color: #E8F0FE;\n",
              "      --fill-color: #1967D2;\n",
              "      --hover-bg-color: #E2EBFA;\n",
              "      --hover-fill-color: #174EA6;\n",
              "      --disabled-fill-color: #AAA;\n",
              "      --disabled-bg-color: #DDD;\n",
              "  }\n",
              "\n",
              "  [theme=dark] .colab-df-quickchart {\n",
              "      --bg-color: #3B4455;\n",
              "      --fill-color: #D2E3FC;\n",
              "      --hover-bg-color: #434B5C;\n",
              "      --hover-fill-color: #FFFFFF;\n",
              "      --disabled-bg-color: #3B4455;\n",
              "      --disabled-fill-color: #666;\n",
              "  }\n",
              "\n",
              "  .colab-df-quickchart {\n",
              "    background-color: var(--bg-color);\n",
              "    border: none;\n",
              "    border-radius: 50%;\n",
              "    cursor: pointer;\n",
              "    display: none;\n",
              "    fill: var(--fill-color);\n",
              "    height: 32px;\n",
              "    padding: 0;\n",
              "    width: 32px;\n",
              "  }\n",
              "\n",
              "  .colab-df-quickchart:hover {\n",
              "    background-color: var(--hover-bg-color);\n",
              "    box-shadow: 0 1px 2px rgba(60, 64, 67, 0.3), 0 1px 3px 1px rgba(60, 64, 67, 0.15);\n",
              "    fill: var(--button-hover-fill-color);\n",
              "  }\n",
              "\n",
              "  .colab-df-quickchart-complete:disabled,\n",
              "  .colab-df-quickchart-complete:disabled:hover {\n",
              "    background-color: var(--disabled-bg-color);\n",
              "    fill: var(--disabled-fill-color);\n",
              "    box-shadow: none;\n",
              "  }\n",
              "\n",
              "  .colab-df-spinner {\n",
              "    border: 2px solid var(--fill-color);\n",
              "    border-color: transparent;\n",
              "    border-bottom-color: var(--fill-color);\n",
              "    animation:\n",
              "      spin 1s steps(1) infinite;\n",
              "  }\n",
              "\n",
              "  @keyframes spin {\n",
              "    0% {\n",
              "      border-color: transparent;\n",
              "      border-bottom-color: var(--fill-color);\n",
              "      border-left-color: var(--fill-color);\n",
              "    }\n",
              "    20% {\n",
              "      border-color: transparent;\n",
              "      border-left-color: var(--fill-color);\n",
              "      border-top-color: var(--fill-color);\n",
              "    }\n",
              "    30% {\n",
              "      border-color: transparent;\n",
              "      border-left-color: var(--fill-color);\n",
              "      border-top-color: var(--fill-color);\n",
              "      border-right-color: var(--fill-color);\n",
              "    }\n",
              "    40% {\n",
              "      border-color: transparent;\n",
              "      border-right-color: var(--fill-color);\n",
              "      border-top-color: var(--fill-color);\n",
              "    }\n",
              "    60% {\n",
              "      border-color: transparent;\n",
              "      border-right-color: var(--fill-color);\n",
              "    }\n",
              "    80% {\n",
              "      border-color: transparent;\n",
              "      border-right-color: var(--fill-color);\n",
              "      border-bottom-color: var(--fill-color);\n",
              "    }\n",
              "    90% {\n",
              "      border-color: transparent;\n",
              "      border-bottom-color: var(--fill-color);\n",
              "    }\n",
              "  }\n",
              "</style>\n",
              "\n",
              "  <script>\n",
              "    async function quickchart(key) {\n",
              "      const quickchartButtonEl =\n",
              "        document.querySelector('#' + key + ' button');\n",
              "      quickchartButtonEl.disabled = true;  // To prevent multiple clicks.\n",
              "      quickchartButtonEl.classList.add('colab-df-spinner');\n",
              "      try {\n",
              "        const charts = await google.colab.kernel.invokeFunction(\n",
              "            'suggestCharts', [key], {});\n",
              "      } catch (error) {\n",
              "        console.error('Error during call to suggestCharts:', error);\n",
              "      }\n",
              "      quickchartButtonEl.classList.remove('colab-df-spinner');\n",
              "      quickchartButtonEl.classList.add('colab-df-quickchart-complete');\n",
              "    }\n",
              "    (() => {\n",
              "      let quickchartButtonEl =\n",
              "        document.querySelector('#df-b53deeae-5edb-4f72-8692-c2f78b857547 button');\n",
              "      quickchartButtonEl.style.display =\n",
              "        google.colab.kernel.accessAllowed ? 'block' : 'none';\n",
              "    })();\n",
              "  </script>\n",
              "</div>\n",
              "\n",
              "    </div>\n",
              "  </div>\n"
            ],
            "application/vnd.google.colaboratory.intrinsic+json": {
              "type": "dataframe",
              "summary": "{\n  \"name\": \"titles\",\n  \"rows\": 2,\n  \"fields\": [\n    {\n      \"column\": \"title\",\n      \"properties\": {\n        \"dtype\": \"string\",\n        \"num_unique_values\": 2,\n        \"samples\": [\n          \"The Startled Lover\",\n          \"Miss Jerry\"\n        ],\n        \"semantic_type\": \"\",\n        \"description\": \"\"\n      }\n    },\n    {\n      \"column\": \"year\",\n      \"properties\": {\n        \"dtype\": \"number\",\n        \"std\": 2,\n        \"min\": 1894,\n        \"max\": 1898,\n        \"num_unique_values\": 2,\n        \"samples\": [\n          1898,\n          1894\n        ],\n        \"semantic_type\": \"\",\n        \"description\": \"\"\n      }\n    }\n  ]\n}"
            }
          },
          "metadata": {},
          "execution_count": 12
        }
      ],
      "source": [
        "titles.sort_values('year').head(2)"
      ]
    },
    {
      "cell_type": "markdown",
      "metadata": {
        "collapsed": true,
        "id": "wCy6ubSQTIEp"
      },
      "source": [
        "### How many movies have the single-word title \"Hamlet\"?"
      ]
    },
    {
      "cell_type": "code",
      "source": [
        "titles['title']"
      ],
      "metadata": {
        "id": "jGq7ngUkYJUF",
        "outputId": "2d1a2693-30c9-4aad-ed1f-0d0e6f0b15b0",
        "colab": {
          "base_uri": "https://localhost:8080/"
        }
      },
      "execution_count": 15,
      "outputs": [
        {
          "output_type": "execute_result",
          "data": {
            "text/plain": [
              "0                                   El plebeyo\n",
              "1                 Atoski vrtovi - preobrazenje\n",
              "2                               Mateegy norkos\n",
              "3                                Lanka Dahanam\n",
              "4                                      Acciaio\n",
              "                          ...                 \n",
              "226008                           Eyes of Youth\n",
              "226009                                  Madrid\n",
              "226010                     Ridgeway of Montana\n",
              "226011                       Professor Mamlock\n",
              "226012    Zui jia pai dang 3: Nu huang mi ling\n",
              "Name: title, Length: 226013, dtype: object"
            ]
          },
          "metadata": {},
          "execution_count": 15
        }
      ]
    },
    {
      "cell_type": "code",
      "execution_count": 14,
      "metadata": {
        "collapsed": true,
        "colab": {
          "base_uri": "https://localhost:8080/"
        },
        "id": "4wm0iJ_nTIEp",
        "outputId": "5fc41c46-a01a-46fc-998a-8ce2081bf974"
      },
      "outputs": [
        {
          "output_type": "execute_result",
          "data": {
            "text/plain": [
              "0         False\n",
              "1         False\n",
              "2         False\n",
              "3         False\n",
              "4         False\n",
              "          ...  \n",
              "226008    False\n",
              "226009    False\n",
              "226010    False\n",
              "226011    False\n",
              "226012    False\n",
              "Name: title, Length: 226013, dtype: bool"
            ]
          },
          "metadata": {},
          "execution_count": 14
        }
      ],
      "source": [
        "titles['title'] == 'Hamlet'"
      ]
    },
    {
      "cell_type": "code",
      "source": [
        "len(titles[titles['title'] == 'Hamlet'])"
      ],
      "metadata": {
        "id": "_LnaCvlrYTtn",
        "outputId": "781a8bb6-07ac-4667-b1a0-011a93f8393a",
        "colab": {
          "base_uri": "https://localhost:8080/"
        }
      },
      "execution_count": 17,
      "outputs": [
        {
          "output_type": "execute_result",
          "data": {
            "text/plain": [
              "20"
            ]
          },
          "metadata": {},
          "execution_count": 17
        }
      ]
    },
    {
      "cell_type": "markdown",
      "source": [
        "![Machine Learning-Batch 4.png](data:image/png;base64,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)"
      ],
      "metadata": {
        "id": "eYy-hsh6YceG"
      }
    },
    {
      "cell_type": "code",
      "execution_count": null,
      "metadata": {
        "collapsed": true,
        "id": "ACeRAVE8TIEq"
      },
      "outputs": [],
      "source": []
    },
    {
      "cell_type": "code",
      "source": [],
      "metadata": {
        "id": "6-wdLPrbYIFY"
      },
      "execution_count": null,
      "outputs": []
    },
    {
      "cell_type": "markdown",
      "metadata": {
        "collapsed": true,
        "id": "Gz4MPCczTIEq"
      },
      "source": [
        "### How many movies are titled \"North by Northwest\"?"
      ]
    },
    {
      "cell_type": "code",
      "execution_count": 18,
      "metadata": {
        "collapsed": true,
        "colab": {
          "base_uri": "https://localhost:8080/"
        },
        "id": "2SNzHAP8TIEq",
        "outputId": "1e6e701f-60c3-4a53-ea0f-4b892f816d5b"
      },
      "outputs": [
        {
          "output_type": "execute_result",
          "data": {
            "text/plain": [
              "1"
            ]
          },
          "metadata": {},
          "execution_count": 18
        }
      ],
      "source": [
        "len(titles[titles['title'] == \"North by Northwest\"])"
      ]
    },
    {
      "cell_type": "code",
      "execution_count": null,
      "metadata": {
        "collapsed": true,
        "id": "J-Hoz4BvTIEq"
      },
      "outputs": [],
      "source": []
    },
    {
      "cell_type": "markdown",
      "metadata": {
        "collapsed": true,
        "id": "b7ObgxP7TIEq"
      },
      "source": [
        "### When was the first movie titled \"Hamlet\" made?"
      ]
    },
    {
      "cell_type": "code",
      "execution_count": 19,
      "metadata": {
        "collapsed": true,
        "colab": {
          "base_uri": "https://localhost:8080/",
          "height": 110
        },
        "id": "YOms8U42TIEq",
        "outputId": "1d8d38e6-5146-4ea8-c453-c2069e4491c1"
      },
      "outputs": [
        {
          "output_type": "error",
          "ename": "SyntaxError",
          "evalue": "invalid syntax (<ipython-input-19-6486e53f4b68>, line 1)",
          "traceback": [
            "\u001b[0;36m  File \u001b[0;32m\"<ipython-input-19-6486e53f4b68>\"\u001b[0;36m, line \u001b[0;32m1\u001b[0m\n\u001b[0;31m    title[title[title]==]\u001b[0m\n\u001b[0m                        ^\u001b[0m\n\u001b[0;31mSyntaxError\u001b[0m\u001b[0;31m:\u001b[0m invalid syntax\n"
          ]
        }
      ],
      "source": [
        "title[title[title]==\"Hamlet\"].sort_values(year)"
      ]
    },
    {
      "cell_type": "code",
      "execution_count": 23,
      "metadata": {
        "collapsed": true,
        "colab": {
          "base_uri": "https://localhost:8080/"
        },
        "id": "jo_ltJpRTIEq",
        "outputId": "d1366651-3a7a-482a-a734-5bd446b8942d"
      },
      "outputs": [
        {
          "output_type": "execute_result",
          "data": {
            "text/plain": [
              "5103    1910\n",
              "Name: year, dtype: int64"
            ]
          },
          "metadata": {},
          "execution_count": 23
        }
      ],
      "source": [
        "titles[titles['title'] == \"Hamlet\"].sort_values('year').head(1)['year']"
      ]
    },
    {
      "cell_type": "code",
      "source": [
        "hamlet = titles[titles['title'] == \"Hamlet\"].sort_values('year').head(1)\n",
        "hamlet['year']"
      ],
      "metadata": {
        "id": "CIiDeYI8azSG",
        "outputId": "9cbd086c-73c0-436a-e0f1-d6ae7fb67d1e",
        "colab": {
          "base_uri": "https://localhost:8080/"
        }
      },
      "execution_count": 22,
      "outputs": [
        {
          "output_type": "execute_result",
          "data": {
            "text/plain": [
              "5103    1910\n",
              "Name: year, dtype: int64"
            ]
          },
          "metadata": {},
          "execution_count": 22
        }
      ]
    },
    {
      "cell_type": "markdown",
      "metadata": {
        "collapsed": true,
        "id": "yT_SOkdFTIEq"
      },
      "source": [
        "### List all of the \"Treasure Island\" movies from earliest to most recent."
      ]
    },
    {
      "cell_type": "code",
      "execution_count": 24,
      "metadata": {
        "collapsed": true,
        "colab": {
          "base_uri": "https://localhost:8080/",
          "height": 300
        },
        "id": "ZhDgs-CvTIEq",
        "outputId": "be6903b7-413c-461b-ca0d-2cbe96cbcb9c"
      },
      "outputs": [
        {
          "output_type": "execute_result",
          "data": {
            "text/plain": [
              "                  title  year\n",
              "37707   Treasure Island  1918\n",
              "125462  Treasure Island  1920\n",
              "177104  Treasure Island  1934\n",
              "177713  Treasure Island  1950\n",
              "166628  Treasure Island  1972\n",
              "40833   Treasure Island  1973\n",
              "181472  Treasure Island  1985\n",
              "30150   Treasure Island  1999"
            ],
            "text/html": [
              "\n",
              "  <div id=\"df-a806def5-0839-421a-9f4e-09e131b5cc26\" class=\"colab-df-container\">\n",
              "    <div>\n",
              "<style scoped>\n",
              "    .dataframe tbody tr th:only-of-type {\n",
              "        vertical-align: middle;\n",
              "    }\n",
              "\n",
              "    .dataframe tbody tr th {\n",
              "        vertical-align: top;\n",
              "    }\n",
              "\n",
              "    .dataframe thead th {\n",
              "        text-align: right;\n",
              "    }\n",
              "</style>\n",
              "<table border=\"1\" class=\"dataframe\">\n",
              "  <thead>\n",
              "    <tr style=\"text-align: right;\">\n",
              "      <th></th>\n",
              "      <th>title</th>\n",
              "      <th>year</th>\n",
              "    </tr>\n",
              "  </thead>\n",
              "  <tbody>\n",
              "    <tr>\n",
              "      <th>37707</th>\n",
              "      <td>Treasure Island</td>\n",
              "      <td>1918</td>\n",
              "    </tr>\n",
              "    <tr>\n",
              "      <th>125462</th>\n",
              "      <td>Treasure Island</td>\n",
              "      <td>1920</td>\n",
              "    </tr>\n",
              "    <tr>\n",
              "      <th>177104</th>\n",
              "      <td>Treasure Island</td>\n",
              "      <td>1934</td>\n",
              "    </tr>\n",
              "    <tr>\n",
              "      <th>177713</th>\n",
              "      <td>Treasure Island</td>\n",
              "      <td>1950</td>\n",
              "    </tr>\n",
              "    <tr>\n",
              "      <th>166628</th>\n",
              "      <td>Treasure Island</td>\n",
              "      <td>1972</td>\n",
              "    </tr>\n",
              "    <tr>\n",
              "      <th>40833</th>\n",
              "      <td>Treasure Island</td>\n",
              "      <td>1973</td>\n",
              "    </tr>\n",
              "    <tr>\n",
              "      <th>181472</th>\n",
              "      <td>Treasure Island</td>\n",
              "      <td>1985</td>\n",
              "    </tr>\n",
              "    <tr>\n",
              "      <th>30150</th>\n",
              "      <td>Treasure Island</td>\n",
              "      <td>1999</td>\n",
              "    </tr>\n",
              "  </tbody>\n",
              "</table>\n",
              "</div>\n",
              "    <div class=\"colab-df-buttons\">\n",
              "\n",
              "  <div class=\"colab-df-container\">\n",
              "    <button class=\"colab-df-convert\" onclick=\"convertToInteractive('df-a806def5-0839-421a-9f4e-09e131b5cc26')\"\n",
              "            title=\"Convert this dataframe to an interactive table.\"\n",
              "            style=\"display:none;\">\n",
              "\n",
              "  <svg xmlns=\"http://www.w3.org/2000/svg\" height=\"24px\" viewBox=\"0 -960 960 960\">\n",
              "    <path d=\"M120-120v-720h720v720H120Zm60-500h600v-160H180v160Zm220 220h160v-160H400v160Zm0 220h160v-160H400v160ZM180-400h160v-160H180v160Zm440 0h160v-160H620v160ZM180-180h160v-160H180v160Zm440 0h160v-160H620v160Z\"/>\n",
              "  </svg>\n",
              "    </button>\n",
              "\n",
              "  <style>\n",
              "    .colab-df-container {\n",
              "      display:flex;\n",
              "      gap: 12px;\n",
              "    }\n",
              "\n",
              "    .colab-df-convert {\n",
              "      background-color: #E8F0FE;\n",
              "      border: none;\n",
              "      border-radius: 50%;\n",
              "      cursor: pointer;\n",
              "      display: none;\n",
              "      fill: #1967D2;\n",
              "      height: 32px;\n",
              "      padding: 0 0 0 0;\n",
              "      width: 32px;\n",
              "    }\n",
              "\n",
              "    .colab-df-convert:hover {\n",
              "      background-color: #E2EBFA;\n",
              "      box-shadow: 0px 1px 2px rgba(60, 64, 67, 0.3), 0px 1px 3px 1px rgba(60, 64, 67, 0.15);\n",
              "      fill: #174EA6;\n",
              "    }\n",
              "\n",
              "    .colab-df-buttons div {\n",
              "      margin-bottom: 4px;\n",
              "    }\n",
              "\n",
              "    [theme=dark] .colab-df-convert {\n",
              "      background-color: #3B4455;\n",
              "      fill: #D2E3FC;\n",
              "    }\n",
              "\n",
              "    [theme=dark] .colab-df-convert:hover {\n",
              "      background-color: #434B5C;\n",
              "      box-shadow: 0px 1px 3px 1px rgba(0, 0, 0, 0.15);\n",
              "      filter: drop-shadow(0px 1px 2px rgba(0, 0, 0, 0.3));\n",
              "      fill: #FFFFFF;\n",
              "    }\n",
              "  </style>\n",
              "\n",
              "    <script>\n",
              "      const buttonEl =\n",
              "        document.querySelector('#df-a806def5-0839-421a-9f4e-09e131b5cc26 button.colab-df-convert');\n",
              "      buttonEl.style.display =\n",
              "        google.colab.kernel.accessAllowed ? 'block' : 'none';\n",
              "\n",
              "      async function convertToInteractive(key) {\n",
              "        const element = document.querySelector('#df-a806def5-0839-421a-9f4e-09e131b5cc26');\n",
              "        const dataTable =\n",
              "          await google.colab.kernel.invokeFunction('convertToInteractive',\n",
              "                                                    [key], {});\n",
              "        if (!dataTable) return;\n",
              "\n",
              "        const docLinkHtml = 'Like what you see? Visit the ' +\n",
              "          '<a target=\"_blank\" href=https://colab.research.google.com/notebooks/data_table.ipynb>data table notebook</a>'\n",
              "          + ' to learn more about interactive tables.';\n",
              "        element.innerHTML = '';\n",
              "        dataTable['output_type'] = 'display_data';\n",
              "        await google.colab.output.renderOutput(dataTable, element);\n",
              "        const docLink = document.createElement('div');\n",
              "        docLink.innerHTML = docLinkHtml;\n",
              "        element.appendChild(docLink);\n",
              "      }\n",
              "    </script>\n",
              "  </div>\n",
              "\n",
              "\n",
              "<div id=\"df-f2ae4a0e-ac1b-452c-95ac-001e47451b49\">\n",
              "  <button class=\"colab-df-quickchart\" onclick=\"quickchart('df-f2ae4a0e-ac1b-452c-95ac-001e47451b49')\"\n",
              "            title=\"Suggest charts\"\n",
              "            style=\"display:none;\">\n",
              "\n",
              "<svg xmlns=\"http://www.w3.org/2000/svg\" height=\"24px\"viewBox=\"0 0 24 24\"\n",
              "     width=\"24px\">\n",
              "    <g>\n",
              "        <path d=\"M19 3H5c-1.1 0-2 .9-2 2v14c0 1.1.9 2 2 2h14c1.1 0 2-.9 2-2V5c0-1.1-.9-2-2-2zM9 17H7v-7h2v7zm4 0h-2V7h2v10zm4 0h-2v-4h2v4z\"/>\n",
              "    </g>\n",
              "</svg>\n",
              "  </button>\n",
              "\n",
              "<style>\n",
              "  .colab-df-quickchart {\n",
              "      --bg-color: #E8F0FE;\n",
              "      --fill-color: #1967D2;\n",
              "      --hover-bg-color: #E2EBFA;\n",
              "      --hover-fill-color: #174EA6;\n",
              "      --disabled-fill-color: #AAA;\n",
              "      --disabled-bg-color: #DDD;\n",
              "  }\n",
              "\n",
              "  [theme=dark] .colab-df-quickchart {\n",
              "      --bg-color: #3B4455;\n",
              "      --fill-color: #D2E3FC;\n",
              "      --hover-bg-color: #434B5C;\n",
              "      --hover-fill-color: #FFFFFF;\n",
              "      --disabled-bg-color: #3B4455;\n",
              "      --disabled-fill-color: #666;\n",
              "  }\n",
              "\n",
              "  .colab-df-quickchart {\n",
              "    background-color: var(--bg-color);\n",
              "    border: none;\n",
              "    border-radius: 50%;\n",
              "    cursor: pointer;\n",
              "    display: none;\n",
              "    fill: var(--fill-color);\n",
              "    height: 32px;\n",
              "    padding: 0;\n",
              "    width: 32px;\n",
              "  }\n",
              "\n",
              "  .colab-df-quickchart:hover {\n",
              "    background-color: var(--hover-bg-color);\n",
              "    box-shadow: 0 1px 2px rgba(60, 64, 67, 0.3), 0 1px 3px 1px rgba(60, 64, 67, 0.15);\n",
              "    fill: var(--button-hover-fill-color);\n",
              "  }\n",
              "\n",
              "  .colab-df-quickchart-complete:disabled,\n",
              "  .colab-df-quickchart-complete:disabled:hover {\n",
              "    background-color: var(--disabled-bg-color);\n",
              "    fill: var(--disabled-fill-color);\n",
              "    box-shadow: none;\n",
              "  }\n",
              "\n",
              "  .colab-df-spinner {\n",
              "    border: 2px solid var(--fill-color);\n",
              "    border-color: transparent;\n",
              "    border-bottom-color: var(--fill-color);\n",
              "    animation:\n",
              "      spin 1s steps(1) infinite;\n",
              "  }\n",
              "\n",
              "  @keyframes spin {\n",
              "    0% {\n",
              "      border-color: transparent;\n",
              "      border-bottom-color: var(--fill-color);\n",
              "      border-left-color: var(--fill-color);\n",
              "    }\n",
              "    20% {\n",
              "      border-color: transparent;\n",
              "      border-left-color: var(--fill-color);\n",
              "      border-top-color: var(--fill-color);\n",
              "    }\n",
              "    30% {\n",
              "      border-color: transparent;\n",
              "      border-left-color: var(--fill-color);\n",
              "      border-top-color: var(--fill-color);\n",
              "      border-right-color: var(--fill-color);\n",
              "    }\n",
              "    40% {\n",
              "      border-color: transparent;\n",
              "      border-right-color: var(--fill-color);\n",
              "      border-top-color: var(--fill-color);\n",
              "    }\n",
              "    60% {\n",
              "      border-color: transparent;\n",
              "      border-right-color: var(--fill-color);\n",
              "    }\n",
              "    80% {\n",
              "      border-color: transparent;\n",
              "      border-right-color: var(--fill-color);\n",
              "      border-bottom-color: var(--fill-color);\n",
              "    }\n",
              "    90% {\n",
              "      border-color: transparent;\n",
              "      border-bottom-color: var(--fill-color);\n",
              "    }\n",
              "  }\n",
              "</style>\n",
              "\n",
              "  <script>\n",
              "    async function quickchart(key) {\n",
              "      const quickchartButtonEl =\n",
              "        document.querySelector('#' + key + ' button');\n",
              "      quickchartButtonEl.disabled = true;  // To prevent multiple clicks.\n",
              "      quickchartButtonEl.classList.add('colab-df-spinner');\n",
              "      try {\n",
              "        const charts = await google.colab.kernel.invokeFunction(\n",
              "            'suggestCharts', [key], {});\n",
              "      } catch (error) {\n",
              "        console.error('Error during call to suggestCharts:', error);\n",
              "      }\n",
              "      quickchartButtonEl.classList.remove('colab-df-spinner');\n",
              "      quickchartButtonEl.classList.add('colab-df-quickchart-complete');\n",
              "    }\n",
              "    (() => {\n",
              "      let quickchartButtonEl =\n",
              "        document.querySelector('#df-f2ae4a0e-ac1b-452c-95ac-001e47451b49 button');\n",
              "      quickchartButtonEl.style.display =\n",
              "        google.colab.kernel.accessAllowed ? 'block' : 'none';\n",
              "    })();\n",
              "  </script>\n",
              "</div>\n",
              "\n",
              "    </div>\n",
              "  </div>\n"
            ],
            "application/vnd.google.colaboratory.intrinsic+json": {
              "type": "dataframe",
              "summary": "{\n  \"name\": \"titles[titles['title'] == \\\"Treasure Island\\\"]\",\n  \"rows\": 8,\n  \"fields\": [\n    {\n      \"column\": \"title\",\n      \"properties\": {\n        \"dtype\": \"category\",\n        \"num_unique_values\": 1,\n        \"samples\": [\n          \"Treasure Island\"\n        ],\n        \"semantic_type\": \"\",\n        \"description\": \"\"\n      }\n    },\n    {\n      \"column\": \"year\",\n      \"properties\": {\n        \"dtype\": \"number\",\n        \"std\": 30,\n        \"min\": 1918,\n        \"max\": 1999,\n        \"num_unique_values\": 8,\n        \"samples\": [\n          1920\n        ],\n        \"semantic_type\": \"\",\n        \"description\": \"\"\n      }\n    }\n  ]\n}"
            }
          },
          "metadata": {},
          "execution_count": 24
        }
      ],
      "source": [
        "titles[titles['title'] == \"Treasure Island\"].sort_values('year')"
      ]
    },
    {
      "cell_type": "code",
      "execution_count": null,
      "metadata": {
        "collapsed": true,
        "id": "DBaCkRbcTIEq"
      },
      "outputs": [],
      "source": []
    },
    {
      "cell_type": "markdown",
      "metadata": {
        "collapsed": true,
        "id": "diskIPveTIEq"
      },
      "source": [
        "### How many movies were made in the year 1950?"
      ]
    },
    {
      "cell_type": "code",
      "execution_count": 30,
      "metadata": {
        "collapsed": true,
        "colab": {
          "base_uri": "https://localhost:8080/"
        },
        "id": "pZUhe8PNTIEq",
        "outputId": "98763edd-e085-436a-9b61-1a0ed8149bad"
      },
      "outputs": [
        {
          "output_type": "execute_result",
          "data": {
            "text/plain": [
              "1109"
            ]
          },
          "metadata": {},
          "execution_count": 30
        }
      ],
      "source": [
        "titles[titles['year'] == 1950].shape[0]"
      ]
    },
    {
      "cell_type": "code",
      "execution_count": null,
      "metadata": {
        "collapsed": true,
        "id": "9JS6Mt8pTIEq"
      },
      "outputs": [],
      "source": []
    },
    {
      "cell_type": "markdown",
      "metadata": {
        "collapsed": true,
        "id": "dPU9KyUjTIEq"
      },
      "source": [
        "### How many movies were made in the year 1960?"
      ]
    },
    {
      "cell_type": "code",
      "execution_count": null,
      "metadata": {
        "collapsed": true,
        "id": "6fSfDqYUTIEq"
      },
      "outputs": [],
      "source": []
    },
    {
      "cell_type": "code",
      "execution_count": null,
      "metadata": {
        "collapsed": true,
        "id": "GAfRypF7TIEq"
      },
      "outputs": [],
      "source": []
    },
    {
      "cell_type": "markdown",
      "metadata": {
        "collapsed": true,
        "id": "IEezTgpXTIEq"
      },
      "source": [
        "### How many movies were made from 1950 through 1959?"
      ]
    },
    {
      "cell_type": "code",
      "execution_count": 34,
      "metadata": {
        "collapsed": true,
        "colab": {
          "base_uri": "https://localhost:8080/",
          "height": 423
        },
        "id": "WH4eeQ0rTIEr",
        "outputId": "c7935923-cab0-403b-82ef-986f0b9fb31d"
      },
      "outputs": [
        {
          "output_type": "execute_result",
          "data": {
            "text/plain": [
              "                               title  year\n",
              "0                         El plebeyo  1953\n",
              "9            La culpa de los hombres  1955\n",
              "16      Mrs. O'Malley and Mr. Malone  1950\n",
              "26         The Sword of Monte Cristo  1951\n",
              "32                 Women of Twilight  1952\n",
              "...                              ...   ...\n",
              "225839   Guardatele ma non toccatele  1959\n",
              "225846               Suvarna Sundari  1957\n",
              "225847            Norihei no daigaku  1956\n",
              "225907        Frauenarzt Dr. Bertram  1957\n",
              "225915  Die Trapp-Familie in Amerika  1958\n",
              "\n",
              "[12664 rows x 2 columns]"
            ],
            "text/html": [
              "\n",
              "  <div id=\"df-81c5ad7e-d6e9-4ea9-b405-999fa4f2fb31\" class=\"colab-df-container\">\n",
              "    <div>\n",
              "<style scoped>\n",
              "    .dataframe tbody tr th:only-of-type {\n",
              "        vertical-align: middle;\n",
              "    }\n",
              "\n",
              "    .dataframe tbody tr th {\n",
              "        vertical-align: top;\n",
              "    }\n",
              "\n",
              "    .dataframe thead th {\n",
              "        text-align: right;\n",
              "    }\n",
              "</style>\n",
              "<table border=\"1\" class=\"dataframe\">\n",
              "  <thead>\n",
              "    <tr style=\"text-align: right;\">\n",
              "      <th></th>\n",
              "      <th>title</th>\n",
              "      <th>year</th>\n",
              "    </tr>\n",
              "  </thead>\n",
              "  <tbody>\n",
              "    <tr>\n",
              "      <th>0</th>\n",
              "      <td>El plebeyo</td>\n",
              "      <td>1953</td>\n",
              "    </tr>\n",
              "    <tr>\n",
              "      <th>9</th>\n",
              "      <td>La culpa de los hombres</td>\n",
              "      <td>1955</td>\n",
              "    </tr>\n",
              "    <tr>\n",
              "      <th>16</th>\n",
              "      <td>Mrs. O'Malley and Mr. Malone</td>\n",
              "      <td>1950</td>\n",
              "    </tr>\n",
              "    <tr>\n",
              "      <th>26</th>\n",
              "      <td>The Sword of Monte Cristo</td>\n",
              "      <td>1951</td>\n",
              "    </tr>\n",
              "    <tr>\n",
              "      <th>32</th>\n",
              "      <td>Women of Twilight</td>\n",
              "      <td>1952</td>\n",
              "    </tr>\n",
              "    <tr>\n",
              "      <th>...</th>\n",
              "      <td>...</td>\n",
              "      <td>...</td>\n",
              "    </tr>\n",
              "    <tr>\n",
              "      <th>225839</th>\n",
              "      <td>Guardatele ma non toccatele</td>\n",
              "      <td>1959</td>\n",
              "    </tr>\n",
              "    <tr>\n",
              "      <th>225846</th>\n",
              "      <td>Suvarna Sundari</td>\n",
              "      <td>1957</td>\n",
              "    </tr>\n",
              "    <tr>\n",
              "      <th>225847</th>\n",
              "      <td>Norihei no daigaku</td>\n",
              "      <td>1956</td>\n",
              "    </tr>\n",
              "    <tr>\n",
              "      <th>225907</th>\n",
              "      <td>Frauenarzt Dr. Bertram</td>\n",
              "      <td>1957</td>\n",
              "    </tr>\n",
              "    <tr>\n",
              "      <th>225915</th>\n",
              "      <td>Die Trapp-Familie in Amerika</td>\n",
              "      <td>1958</td>\n",
              "    </tr>\n",
              "  </tbody>\n",
              "</table>\n",
              "<p>12664 rows × 2 columns</p>\n",
              "</div>\n",
              "    <div class=\"colab-df-buttons\">\n",
              "\n",
              "  <div class=\"colab-df-container\">\n",
              "    <button class=\"colab-df-convert\" onclick=\"convertToInteractive('df-81c5ad7e-d6e9-4ea9-b405-999fa4f2fb31')\"\n",
              "            title=\"Convert this dataframe to an interactive table.\"\n",
              "            style=\"display:none;\">\n",
              "\n",
              "  <svg xmlns=\"http://www.w3.org/2000/svg\" height=\"24px\" viewBox=\"0 -960 960 960\">\n",
              "    <path d=\"M120-120v-720h720v720H120Zm60-500h600v-160H180v160Zm220 220h160v-160H400v160Zm0 220h160v-160H400v160ZM180-400h160v-160H180v160Zm440 0h160v-160H620v160ZM180-180h160v-160H180v160Zm440 0h160v-160H620v160Z\"/>\n",
              "  </svg>\n",
              "    </button>\n",
              "\n",
              "  <style>\n",
              "    .colab-df-container {\n",
              "      display:flex;\n",
              "      gap: 12px;\n",
              "    }\n",
              "\n",
              "    .colab-df-convert {\n",
              "      background-color: #E8F0FE;\n",
              "      border: none;\n",
              "      border-radius: 50%;\n",
              "      cursor: pointer;\n",
              "      display: none;\n",
              "      fill: #1967D2;\n",
              "      height: 32px;\n",
              "      padding: 0 0 0 0;\n",
              "      width: 32px;\n",
              "    }\n",
              "\n",
              "    .colab-df-convert:hover {\n",
              "      background-color: #E2EBFA;\n",
              "      box-shadow: 0px 1px 2px rgba(60, 64, 67, 0.3), 0px 1px 3px 1px rgba(60, 64, 67, 0.15);\n",
              "      fill: #174EA6;\n",
              "    }\n",
              "\n",
              "    .colab-df-buttons div {\n",
              "      margin-bottom: 4px;\n",
              "    }\n",
              "\n",
              "    [theme=dark] .colab-df-convert {\n",
              "      background-color: #3B4455;\n",
              "      fill: #D2E3FC;\n",
              "    }\n",
              "\n",
              "    [theme=dark] .colab-df-convert:hover {\n",
              "      background-color: #434B5C;\n",
              "      box-shadow: 0px 1px 3px 1px rgba(0, 0, 0, 0.15);\n",
              "      filter: drop-shadow(0px 1px 2px rgba(0, 0, 0, 0.3));\n",
              "      fill: #FFFFFF;\n",
              "    }\n",
              "  </style>\n",
              "\n",
              "    <script>\n",
              "      const buttonEl =\n",
              "        document.querySelector('#df-81c5ad7e-d6e9-4ea9-b405-999fa4f2fb31 button.colab-df-convert');\n",
              "      buttonEl.style.display =\n",
              "        google.colab.kernel.accessAllowed ? 'block' : 'none';\n",
              "\n",
              "      async function convertToInteractive(key) {\n",
              "        const element = document.querySelector('#df-81c5ad7e-d6e9-4ea9-b405-999fa4f2fb31');\n",
              "        const dataTable =\n",
              "          await google.colab.kernel.invokeFunction('convertToInteractive',\n",
              "                                                    [key], {});\n",
              "        if (!dataTable) return;\n",
              "\n",
              "        const docLinkHtml = 'Like what you see? Visit the ' +\n",
              "          '<a target=\"_blank\" href=https://colab.research.google.com/notebooks/data_table.ipynb>data table notebook</a>'\n",
              "          + ' to learn more about interactive tables.';\n",
              "        element.innerHTML = '';\n",
              "        dataTable['output_type'] = 'display_data';\n",
              "        await google.colab.output.renderOutput(dataTable, element);\n",
              "        const docLink = document.createElement('div');\n",
              "        docLink.innerHTML = docLinkHtml;\n",
              "        element.appendChild(docLink);\n",
              "      }\n",
              "    </script>\n",
              "  </div>\n",
              "\n",
              "\n",
              "<div id=\"df-5a6dbeab-9f5c-492a-8758-54092707703c\">\n",
              "  <button class=\"colab-df-quickchart\" onclick=\"quickchart('df-5a6dbeab-9f5c-492a-8758-54092707703c')\"\n",
              "            title=\"Suggest charts\"\n",
              "            style=\"display:none;\">\n",
              "\n",
              "<svg xmlns=\"http://www.w3.org/2000/svg\" height=\"24px\"viewBox=\"0 0 24 24\"\n",
              "     width=\"24px\">\n",
              "    <g>\n",
              "        <path d=\"M19 3H5c-1.1 0-2 .9-2 2v14c0 1.1.9 2 2 2h14c1.1 0 2-.9 2-2V5c0-1.1-.9-2-2-2zM9 17H7v-7h2v7zm4 0h-2V7h2v10zm4 0h-2v-4h2v4z\"/>\n",
              "    </g>\n",
              "</svg>\n",
              "  </button>\n",
              "\n",
              "<style>\n",
              "  .colab-df-quickchart {\n",
              "      --bg-color: #E8F0FE;\n",
              "      --fill-color: #1967D2;\n",
              "      --hover-bg-color: #E2EBFA;\n",
              "      --hover-fill-color: #174EA6;\n",
              "      --disabled-fill-color: #AAA;\n",
              "      --disabled-bg-color: #DDD;\n",
              "  }\n",
              "\n",
              "  [theme=dark] .colab-df-quickchart {\n",
              "      --bg-color: #3B4455;\n",
              "      --fill-color: #D2E3FC;\n",
              "      --hover-bg-color: #434B5C;\n",
              "      --hover-fill-color: #FFFFFF;\n",
              "      --disabled-bg-color: #3B4455;\n",
              "      --disabled-fill-color: #666;\n",
              "  }\n",
              "\n",
              "  .colab-df-quickchart {\n",
              "    background-color: var(--bg-color);\n",
              "    border: none;\n",
              "    border-radius: 50%;\n",
              "    cursor: pointer;\n",
              "    display: none;\n",
              "    fill: var(--fill-color);\n",
              "    height: 32px;\n",
              "    padding: 0;\n",
              "    width: 32px;\n",
              "  }\n",
              "\n",
              "  .colab-df-quickchart:hover {\n",
              "    background-color: var(--hover-bg-color);\n",
              "    box-shadow: 0 1px 2px rgba(60, 64, 67, 0.3), 0 1px 3px 1px rgba(60, 64, 67, 0.15);\n",
              "    fill: var(--button-hover-fill-color);\n",
              "  }\n",
              "\n",
              "  .colab-df-quickchart-complete:disabled,\n",
              "  .colab-df-quickchart-complete:disabled:hover {\n",
              "    background-color: var(--disabled-bg-color);\n",
              "    fill: var(--disabled-fill-color);\n",
              "    box-shadow: none;\n",
              "  }\n",
              "\n",
              "  .colab-df-spinner {\n",
              "    border: 2px solid var(--fill-color);\n",
              "    border-color: transparent;\n",
              "    border-bottom-color: var(--fill-color);\n",
              "    animation:\n",
              "      spin 1s steps(1) infinite;\n",
              "  }\n",
              "\n",
              "  @keyframes spin {\n",
              "    0% {\n",
              "      border-color: transparent;\n",
              "      border-bottom-color: var(--fill-color);\n",
              "      border-left-color: var(--fill-color);\n",
              "    }\n",
              "    20% {\n",
              "      border-color: transparent;\n",
              "      border-left-color: var(--fill-color);\n",
              "      border-top-color: var(--fill-color);\n",
              "    }\n",
              "    30% {\n",
              "      border-color: transparent;\n",
              "      border-left-color: var(--fill-color);\n",
              "      border-top-color: var(--fill-color);\n",
              "      border-right-color: var(--fill-color);\n",
              "    }\n",
              "    40% {\n",
              "      border-color: transparent;\n",
              "      border-right-color: var(--fill-color);\n",
              "      border-top-color: var(--fill-color);\n",
              "    }\n",
              "    60% {\n",
              "      border-color: transparent;\n",
              "      border-right-color: var(--fill-color);\n",
              "    }\n",
              "    80% {\n",
              "      border-color: transparent;\n",
              "      border-right-color: var(--fill-color);\n",
              "      border-bottom-color: var(--fill-color);\n",
              "    }\n",
              "    90% {\n",
              "      border-color: transparent;\n",
              "      border-bottom-color: var(--fill-color);\n",
              "    }\n",
              "  }\n",
              "</style>\n",
              "\n",
              "  <script>\n",
              "    async function quickchart(key) {\n",
              "      const quickchartButtonEl =\n",
              "        document.querySelector('#' + key + ' button');\n",
              "      quickchartButtonEl.disabled = true;  // To prevent multiple clicks.\n",
              "      quickchartButtonEl.classList.add('colab-df-spinner');\n",
              "      try {\n",
              "        const charts = await google.colab.kernel.invokeFunction(\n",
              "            'suggestCharts', [key], {});\n",
              "      } catch (error) {\n",
              "        console.error('Error during call to suggestCharts:', error);\n",
              "      }\n",
              "      quickchartButtonEl.classList.remove('colab-df-spinner');\n",
              "      quickchartButtonEl.classList.add('colab-df-quickchart-complete');\n",
              "    }\n",
              "    (() => {\n",
              "      let quickchartButtonEl =\n",
              "        document.querySelector('#df-5a6dbeab-9f5c-492a-8758-54092707703c button');\n",
              "      quickchartButtonEl.style.display =\n",
              "        google.colab.kernel.accessAllowed ? 'block' : 'none';\n",
              "    })();\n",
              "  </script>\n",
              "</div>\n",
              "\n",
              "    </div>\n",
              "  </div>\n"
            ],
            "application/vnd.google.colaboratory.intrinsic+json": {
              "type": "dataframe",
              "summary": "{\n  \"name\": \"titles[(titles['year'] >= 1950) & (titles['year'] <= 1959)]\",\n  \"rows\": 12664,\n  \"fields\": [\n    {\n      \"column\": \"title\",\n      \"properties\": {\n        \"dtype\": \"string\",\n        \"num_unique_values\": 12599,\n        \"samples\": [\n          \"Napoli milionaria\",\n          \"Shangrao ji zhong ying\",\n          \"La spada e la croce\"\n        ],\n        \"semantic_type\": \"\",\n        \"description\": \"\"\n      }\n    },\n    {\n      \"column\": \"year\",\n      \"properties\": {\n        \"dtype\": \"number\",\n        \"std\": 2,\n        \"min\": 1950,\n        \"max\": 1959,\n        \"num_unique_values\": 10,\n        \"samples\": [\n          1959,\n          1955,\n          1958\n        ],\n        \"semantic_type\": \"\",\n        \"description\": \"\"\n      }\n    }\n  ]\n}"
            }
          },
          "metadata": {},
          "execution_count": 34
        }
      ],
      "source": [
        "titles[(titles['year'] >= 1950) & (titles['year'] <= 1959)]"
      ]
    },
    {
      "cell_type": "markdown",
      "source": [
        "![image.png](data:image/png;base64,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)"
      ],
      "metadata": {
        "id": "rUfabbELfAZP"
      }
    },
    {
      "cell_type": "code",
      "source": [
        "titles['year'] <= 1959"
      ],
      "metadata": {
        "id": "EynE536-dnRB",
        "outputId": "ba847745-f545-48c2-bbd4-3473612de0eb",
        "colab": {
          "base_uri": "https://localhost:8080/"
        }
      },
      "execution_count": 32,
      "outputs": [
        {
          "output_type": "execute_result",
          "data": {
            "text/plain": [
              "0          True\n",
              "1          True\n",
              "2          True\n",
              "3         False\n",
              "4         False\n",
              "          ...  \n",
              "226008    False\n",
              "226009     True\n",
              "226010    False\n",
              "226011     True\n",
              "226012     True\n",
              "Name: year, Length: 226013, dtype: bool"
            ]
          },
          "metadata": {},
          "execution_count": 32
        }
      ]
    },
    {
      "cell_type": "code",
      "execution_count": null,
      "metadata": {
        "collapsed": true,
        "id": "NHdFDg-YTIEr"
      },
      "outputs": [],
      "source": []
    },
    {
      "cell_type": "markdown",
      "metadata": {
        "collapsed": true,
        "id": "XYAaNBr8TIEr"
      },
      "source": [
        "### In what years has a movie titled \"Batman\" been released?"
      ]
    },
    {
      "cell_type": "code",
      "execution_count": null,
      "metadata": {
        "collapsed": true,
        "id": "4CfIuBxrTIEr"
      },
      "outputs": [],
      "source": []
    },
    {
      "cell_type": "code",
      "execution_count": null,
      "metadata": {
        "collapsed": true,
        "id": "muXpbkonTIEr"
      },
      "outputs": [],
      "source": []
    },
    {
      "cell_type": "markdown",
      "metadata": {
        "collapsed": true,
        "id": "tI4M0opMTIEr"
      },
      "source": [
        "### How many roles were there in the movie \"Inception\"?"
      ]
    },
    {
      "cell_type": "code",
      "execution_count": null,
      "metadata": {
        "collapsed": true,
        "id": "LGB0qspoTIEr"
      },
      "outputs": [],
      "source": []
    },
    {
      "cell_type": "code",
      "execution_count": null,
      "metadata": {
        "collapsed": true,
        "id": "SJHdudKETIEr"
      },
      "outputs": [],
      "source": []
    },
    {
      "cell_type": "markdown",
      "metadata": {
        "collapsed": true,
        "id": "QoClSvYKTIEr"
      },
      "source": [
        "### How many roles in the movie \"Inception\" are NOT ranked by an \"n\" value?"
      ]
    },
    {
      "cell_type": "code",
      "execution_count": null,
      "metadata": {
        "collapsed": true,
        "id": "gUT3HRjsTIEr"
      },
      "outputs": [],
      "source": []
    },
    {
      "cell_type": "code",
      "execution_count": null,
      "metadata": {
        "collapsed": true,
        "id": "g9X08z2ATIEs"
      },
      "outputs": [],
      "source": []
    },
    {
      "cell_type": "markdown",
      "metadata": {
        "collapsed": true,
        "id": "eyUBYbBVTIEs"
      },
      "source": [
        "### But how many roles in the movie \"Inception\" did receive an \"n\" value?"
      ]
    },
    {
      "cell_type": "code",
      "execution_count": null,
      "metadata": {
        "collapsed": true,
        "id": "tvaUnhWaTIEs"
      },
      "outputs": [],
      "source": []
    },
    {
      "cell_type": "code",
      "execution_count": null,
      "metadata": {
        "collapsed": true,
        "id": "U23goxkeTIEs"
      },
      "outputs": [],
      "source": []
    },
    {
      "cell_type": "markdown",
      "metadata": {
        "collapsed": true,
        "id": "sGmT1-XUTIEs"
      },
      "source": [
        "### Display the cast of \"North by Northwest\" in their correct \"n\"-value order, ignoring roles that did not earn a numeric \"n\" value."
      ]
    },
    {
      "cell_type": "code",
      "execution_count": null,
      "metadata": {
        "collapsed": true,
        "id": "7702MReeTIEs"
      },
      "outputs": [],
      "source": []
    },
    {
      "cell_type": "code",
      "execution_count": null,
      "metadata": {
        "collapsed": true,
        "id": "RC-av1XFTIEs"
      },
      "outputs": [],
      "source": []
    },
    {
      "cell_type": "markdown",
      "metadata": {
        "collapsed": true,
        "id": "MFylEjfsTIEs"
      },
      "source": [
        "### Display the entire cast, in \"n\"-order, of the 1972 film \"Sleuth\"."
      ]
    },
    {
      "cell_type": "code",
      "execution_count": null,
      "metadata": {
        "collapsed": true,
        "id": "wDMkZlszTIEs"
      },
      "outputs": [],
      "source": []
    },
    {
      "cell_type": "code",
      "execution_count": null,
      "metadata": {
        "collapsed": true,
        "id": "ZbtmiiiVTIEs"
      },
      "outputs": [],
      "source": []
    },
    {
      "cell_type": "markdown",
      "metadata": {
        "collapsed": true,
        "id": "Gtv4Qp74TIEs"
      },
      "source": [
        "### Now display the entire cast, in \"n\"-order, of the 2007 version of \"Sleuth\"."
      ]
    },
    {
      "cell_type": "code",
      "execution_count": null,
      "metadata": {
        "collapsed": true,
        "id": "56-LI9AhTIEs"
      },
      "outputs": [],
      "source": []
    },
    {
      "cell_type": "code",
      "execution_count": null,
      "metadata": {
        "collapsed": true,
        "id": "jMxCD-qVTIEs"
      },
      "outputs": [],
      "source": []
    },
    {
      "cell_type": "markdown",
      "metadata": {
        "collapsed": true,
        "id": "tVvSWaO7TIEs"
      },
      "source": [
        "### How many roles were credited in the silent 1921 version of Hamlet?"
      ]
    },
    {
      "cell_type": "code",
      "execution_count": null,
      "metadata": {
        "collapsed": true,
        "id": "-4pTzByNTIEs"
      },
      "outputs": [],
      "source": []
    },
    {
      "cell_type": "code",
      "execution_count": null,
      "metadata": {
        "collapsed": true,
        "id": "vG-SLmOFTIEs"
      },
      "outputs": [],
      "source": []
    },
    {
      "cell_type": "markdown",
      "metadata": {
        "collapsed": true,
        "id": "1ViQwbclTIEt"
      },
      "source": [
        "### How many roles were credited in Branagh’s 1996 Hamlet?"
      ]
    },
    {
      "cell_type": "code",
      "execution_count": null,
      "metadata": {
        "collapsed": true,
        "id": "B3YZWGxjTIEt"
      },
      "outputs": [],
      "source": []
    },
    {
      "cell_type": "code",
      "execution_count": null,
      "metadata": {
        "collapsed": true,
        "id": "hRFjwCHOTIEt"
      },
      "outputs": [],
      "source": []
    },
    {
      "cell_type": "markdown",
      "metadata": {
        "collapsed": true,
        "id": "4xOdMK2STIEt"
      },
      "source": [
        "### How many \"Hamlet\" roles have been listed in all film credits through history?"
      ]
    },
    {
      "cell_type": "code",
      "execution_count": null,
      "metadata": {
        "collapsed": true,
        "id": "MfEufp-UTIEt"
      },
      "outputs": [],
      "source": []
    },
    {
      "cell_type": "code",
      "execution_count": null,
      "metadata": {
        "collapsed": true,
        "id": "t7pEJSo3TIEt"
      },
      "outputs": [],
      "source": []
    },
    {
      "cell_type": "markdown",
      "metadata": {
        "collapsed": true,
        "id": "ujGV-eaeTIEt"
      },
      "source": [
        "### How many people have played an \"Ophelia\"?"
      ]
    },
    {
      "cell_type": "code",
      "execution_count": null,
      "metadata": {
        "collapsed": true,
        "id": "6TjCxluXTIEt"
      },
      "outputs": [],
      "source": []
    },
    {
      "cell_type": "code",
      "execution_count": null,
      "metadata": {
        "collapsed": true,
        "id": "M5qCQdbZTIEt"
      },
      "outputs": [],
      "source": []
    },
    {
      "cell_type": "markdown",
      "metadata": {
        "collapsed": true,
        "id": "MavMlEufTIEt"
      },
      "source": [
        "### How many people have played a role called \"The Dude\"?"
      ]
    },
    {
      "cell_type": "code",
      "execution_count": null,
      "metadata": {
        "collapsed": true,
        "id": "60aHOjrPTIEt"
      },
      "outputs": [],
      "source": []
    },
    {
      "cell_type": "code",
      "execution_count": null,
      "metadata": {
        "collapsed": true,
        "id": "znRDCz8GTIEt"
      },
      "outputs": [],
      "source": []
    },
    {
      "cell_type": "markdown",
      "metadata": {
        "collapsed": true,
        "id": "j4L35XPRTIEt"
      },
      "source": [
        "### How many people have played a role called \"The Stranger\"?"
      ]
    },
    {
      "cell_type": "code",
      "execution_count": null,
      "metadata": {
        "collapsed": true,
        "id": "pKEEjPU6TIEt"
      },
      "outputs": [],
      "source": []
    },
    {
      "cell_type": "code",
      "execution_count": null,
      "metadata": {
        "collapsed": true,
        "id": "w81tBrGbTIEt"
      },
      "outputs": [],
      "source": []
    },
    {
      "cell_type": "markdown",
      "metadata": {
        "collapsed": true,
        "id": "n4L2FzkXTIEt"
      },
      "source": [
        "### How many roles has Sidney Poitier played throughout his career?"
      ]
    },
    {
      "cell_type": "code",
      "execution_count": null,
      "metadata": {
        "collapsed": true,
        "id": "KjloP_-XTIEt"
      },
      "outputs": [],
      "source": []
    },
    {
      "cell_type": "code",
      "execution_count": null,
      "metadata": {
        "collapsed": true,
        "id": "e_tVmRN7TIEt"
      },
      "outputs": [],
      "source": []
    },
    {
      "cell_type": "markdown",
      "metadata": {
        "collapsed": true,
        "id": "zkD3Q_exTIEu"
      },
      "source": [
        "### How many roles has Judi Dench played?"
      ]
    },
    {
      "cell_type": "code",
      "execution_count": null,
      "metadata": {
        "collapsed": true,
        "id": "yWuqkmTBTIEu"
      },
      "outputs": [],
      "source": []
    },
    {
      "cell_type": "code",
      "execution_count": null,
      "metadata": {
        "collapsed": true,
        "id": "7ilOGB5STIEu"
      },
      "outputs": [],
      "source": []
    },
    {
      "cell_type": "markdown",
      "metadata": {
        "collapsed": true,
        "id": "trIaKXBxTIEu"
      },
      "source": [
        "### List the supporting roles (having n=2) played by Cary Grant in the 1940s, in order by year."
      ]
    },
    {
      "cell_type": "code",
      "execution_count": null,
      "metadata": {
        "collapsed": true,
        "id": "ZIZeL82KTIEu"
      },
      "outputs": [],
      "source": []
    },
    {
      "cell_type": "code",
      "execution_count": null,
      "metadata": {
        "collapsed": true,
        "id": "zE23BkLTTIEu"
      },
      "outputs": [],
      "source": []
    },
    {
      "cell_type": "markdown",
      "metadata": {
        "collapsed": true,
        "id": "c1zUAiPdTIEu"
      },
      "source": [
        "### List the leading roles that Cary Grant played in the 1940s in order by year."
      ]
    },
    {
      "cell_type": "code",
      "execution_count": null,
      "metadata": {
        "collapsed": true,
        "id": "XQSI2TdTTIEu"
      },
      "outputs": [],
      "source": []
    },
    {
      "cell_type": "code",
      "execution_count": null,
      "metadata": {
        "collapsed": true,
        "id": "13vJhAxnTIEu"
      },
      "outputs": [],
      "source": []
    },
    {
      "cell_type": "markdown",
      "metadata": {
        "collapsed": true,
        "id": "TVKasEOMTIEu"
      },
      "source": [
        "### How many roles were available for actors in the 1950s?"
      ]
    },
    {
      "cell_type": "code",
      "execution_count": null,
      "metadata": {
        "collapsed": true,
        "id": "HDM8duF9TIEu"
      },
      "outputs": [],
      "source": []
    },
    {
      "cell_type": "code",
      "execution_count": null,
      "metadata": {
        "collapsed": true,
        "id": "LnjFF3-wTIEu"
      },
      "outputs": [],
      "source": []
    },
    {
      "cell_type": "markdown",
      "metadata": {
        "collapsed": true,
        "id": "7tmUIQluTIEu"
      },
      "source": [
        "### How many roles were available for actresses in the 1950s?"
      ]
    },
    {
      "cell_type": "code",
      "execution_count": null,
      "metadata": {
        "collapsed": true,
        "id": "QBfn1HCjTIEv"
      },
      "outputs": [],
      "source": []
    },
    {
      "cell_type": "code",
      "execution_count": null,
      "metadata": {
        "collapsed": true,
        "id": "THXAFchBTIEv"
      },
      "outputs": [],
      "source": []
    },
    {
      "cell_type": "markdown",
      "metadata": {
        "collapsed": true,
        "id": "brVSQUuCTIEv"
      },
      "source": [
        "### How many leading roles (n=1) were available from the beginning of film history through 1980?"
      ]
    },
    {
      "cell_type": "code",
      "execution_count": null,
      "metadata": {
        "collapsed": true,
        "id": "XbN7j5TNTIEv"
      },
      "outputs": [],
      "source": []
    },
    {
      "cell_type": "code",
      "execution_count": null,
      "metadata": {
        "collapsed": true,
        "id": "LB31pFYeTIEv"
      },
      "outputs": [],
      "source": []
    },
    {
      "cell_type": "markdown",
      "metadata": {
        "collapsed": true,
        "id": "LxNHXCNZTIEv"
      },
      "source": [
        "### How many non-leading roles were available through from the beginning of film history through 1980?"
      ]
    },
    {
      "cell_type": "code",
      "execution_count": null,
      "metadata": {
        "collapsed": true,
        "id": "Bd9ggdd1TIEv"
      },
      "outputs": [],
      "source": []
    },
    {
      "cell_type": "code",
      "execution_count": null,
      "metadata": {
        "collapsed": true,
        "id": "znozCvwoTIEv"
      },
      "outputs": [],
      "source": []
    },
    {
      "cell_type": "markdown",
      "metadata": {
        "collapsed": true,
        "id": "sPfRmTm4TIEv"
      },
      "source": [
        "### How many roles through 1980 were minor enough that they did not warrant a numeric \"n\" rank?"
      ]
    },
    {
      "cell_type": "code",
      "execution_count": null,
      "metadata": {
        "collapsed": true,
        "id": "De_jCMRdTIEv"
      },
      "outputs": [],
      "source": []
    },
    {
      "cell_type": "code",
      "execution_count": null,
      "metadata": {
        "collapsed": true,
        "id": "jXV5MhuUTIEv"
      },
      "outputs": [],
      "source": []
    }
  ],
  "metadata": {
    "kernelspec": {
      "display_name": "Python 3",
      "language": "python",
      "name": "python3"
    },
    "language_info": {
      "codemirror_mode": {
        "name": "ipython",
        "version": 3
      },
      "file_extension": ".py",
      "mimetype": "text/x-python",
      "name": "python",
      "nbconvert_exporter": "python",
      "pygments_lexer": "ipython3",
      "version": "3.6.8"
    },
    "colab": {
      "provenance": []
    }
  },
  "nbformat": 4,
  "nbformat_minor": 0
}