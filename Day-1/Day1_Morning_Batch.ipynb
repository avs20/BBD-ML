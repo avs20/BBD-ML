{
  "nbformat": 4,
  "nbformat_minor": 0,
  "metadata": {
    "colab": {
      "provenance": []
    },
    "kernelspec": {
      "name": "python3",
      "display_name": "Python 3"
    },
    "language_info": {
      "name": "python"
    }
  },
  "cells": [
    {
      "cell_type": "code",
      "execution_count": null,
      "metadata": {
        "colab": {
          "base_uri": "https://localhost:8080/",
          "height": 70
        },
        "id": "nR0BEdcJzBXq",
        "outputId": "bf3917ce-cff1-409e-9106-79cc365b7552"
      },
      "outputs": [
        {
          "name": "stdout",
          "output_type": "stream",
          "text": [
            "Enter first number21\n",
            "Enter Second number22\n"
          ]
        },
        {
          "output_type": "execute_result",
          "data": {
            "text/plain": [
              "'22'"
            ],
            "application/vnd.google.colaboratory.intrinsic+json": {
              "type": "string"
            }
          },
          "metadata": {},
          "execution_count": 1
        }
      ],
      "source": [
        "input(\"Enter first number\")\n",
        "input(\"Enter Second number\")"
      ]
    },
    {
      "cell_type": "code",
      "source": [
        "num1 = input(\"Enter first number\")\n",
        "num2 = input(\"Enter Second number\")"
      ],
      "metadata": {
        "colab": {
          "base_uri": "https://localhost:8080/"
        },
        "id": "evRjLDXiz6VK",
        "outputId": "ae860bf6-2790-48d7-d62a-d82e1f927dae"
      },
      "execution_count": null,
      "outputs": [
        {
          "name": "stdout",
          "output_type": "stream",
          "text": [
            "Enter first number21\n",
            "Enter Second number22\n"
          ]
        }
      ]
    },
    {
      "cell_type": "code",
      "source": [
        "print(num1, num2)"
      ],
      "metadata": {
        "colab": {
          "base_uri": "https://localhost:8080/"
        },
        "id": "Yoe8VFxWzs0i",
        "outputId": "dfaa3438-a7bb-41cb-ec11-c7fd9a5e6423"
      },
      "execution_count": null,
      "outputs": [
        {
          "output_type": "stream",
          "name": "stdout",
          "text": [
            "21 22\n"
          ]
        }
      ]
    },
    {
      "cell_type": "code",
      "source": [
        "print(num1, num2, 10, 11 , 12 )"
      ],
      "metadata": {
        "colab": {
          "base_uri": "https://localhost:8080/"
        },
        "id": "DCwBnZ7T0IuG",
        "outputId": "d909f5a2-8869-44ce-bbc4-87d73dba4566"
      },
      "execution_count": null,
      "outputs": [
        {
          "output_type": "stream",
          "name": "stdout",
          "text": [
            "21 22 10 11 12\n"
          ]
        }
      ]
    },
    {
      "cell_type": "code",
      "source": [
        "type(num1)"
      ],
      "metadata": {
        "colab": {
          "base_uri": "https://localhost:8080/"
        },
        "id": "ZYfCU6iW0Z3-",
        "outputId": "fea099c1-664e-4023-a60d-0cb861658483"
      },
      "execution_count": null,
      "outputs": [
        {
          "output_type": "execute_result",
          "data": {
            "text/plain": [
              "str"
            ]
          },
          "metadata": {},
          "execution_count": 5
        }
      ]
    },
    {
      "cell_type": "code",
      "source": [
        "int(num1)"
      ],
      "metadata": {
        "colab": {
          "base_uri": "https://localhost:8080/"
        },
        "id": "yLXCsh170e9u",
        "outputId": "9cc20ad7-cdaa-4f49-e1dc-cd257374dea6"
      },
      "execution_count": null,
      "outputs": [
        {
          "output_type": "execute_result",
          "data": {
            "text/plain": [
              "21"
            ]
          },
          "metadata": {},
          "execution_count": 6
        }
      ]
    },
    {
      "cell_type": "code",
      "source": [
        "num1 = int(num1)"
      ],
      "metadata": {
        "id": "bUTEEXHG05FQ"
      },
      "execution_count": null,
      "outputs": []
    },
    {
      "cell_type": "code",
      "source": [
        "type(num1)"
      ],
      "metadata": {
        "colab": {
          "base_uri": "https://localhost:8080/"
        },
        "id": "usA3nxVH0_tA",
        "outputId": "4cca3cb0-05ac-4f7d-e188-179216664e10"
      },
      "execution_count": null,
      "outputs": [
        {
          "output_type": "execute_result",
          "data": {
            "text/plain": [
              "int"
            ]
          },
          "metadata": {},
          "execution_count": 8
        }
      ]
    },
    {
      "cell_type": "code",
      "source": [
        "type(int(num1))"
      ],
      "metadata": {
        "colab": {
          "base_uri": "https://localhost:8080/"
        },
        "id": "Soc2QWP91Ane",
        "outputId": "0e7e2a64-a396-45ae-fb76-c1e3e4f2a1a3"
      },
      "execution_count": null,
      "outputs": [
        {
          "output_type": "execute_result",
          "data": {
            "text/plain": [
              "int"
            ]
          },
          "metadata": {},
          "execution_count": 9
        }
      ]
    },
    {
      "cell_type": "code",
      "source": [
        "num1 = int(input(\"Enter first number\"))\n",
        "num2 = int(input(\"Enter Second number\"))"
      ],
      "metadata": {
        "colab": {
          "base_uri": "https://localhost:8080/"
        },
        "id": "VdIXK8xw1OXI",
        "outputId": "d30a1fd8-95aa-43a0-f0d7-516177ae1f0f"
      },
      "execution_count": null,
      "outputs": [
        {
          "name": "stdout",
          "output_type": "stream",
          "text": [
            "Enter first number21\n",
            "Enter Second number22\n"
          ]
        }
      ]
    },
    {
      "cell_type": "code",
      "source": [
        "type(num1)"
      ],
      "metadata": {
        "colab": {
          "base_uri": "https://localhost:8080/"
        },
        "id": "c5DwCSsd1Ya-",
        "outputId": "6af10e61-b321-4dde-f73e-4775a1c1da53"
      },
      "execution_count": null,
      "outputs": [
        {
          "output_type": "execute_result",
          "data": {
            "text/plain": [
              "int"
            ]
          },
          "metadata": {},
          "execution_count": 11
        }
      ]
    },
    {
      "cell_type": "code",
      "source": [
        "op = input(\"Enter Operation (+,-,/, *):\")"
      ],
      "metadata": {
        "colab": {
          "base_uri": "https://localhost:8080/"
        },
        "id": "5AOpuV1f1a-a",
        "outputId": "144ef0ea-fb6c-4d53-9eb3-7be4f0eaf31f"
      },
      "execution_count": null,
      "outputs": [
        {
          "name": "stdout",
          "output_type": "stream",
          "text": [
            "Enter Operation (+,-,/, *):+\n"
          ]
        }
      ]
    },
    {
      "cell_type": "code",
      "source": [
        "print(op)"
      ],
      "metadata": {
        "colab": {
          "base_uri": "https://localhost:8080/"
        },
        "id": "NTUr7u7O1oZp",
        "outputId": "99e5dbf5-5bdd-468a-d4ba-3ca572e64d48"
      },
      "execution_count": null,
      "outputs": [
        {
          "output_type": "stream",
          "name": "stdout",
          "text": [
            "+\n"
          ]
        }
      ]
    },
    {
      "cell_type": "code",
      "source": [
        "2 + 3"
      ],
      "metadata": {
        "colab": {
          "base_uri": "https://localhost:8080/"
        },
        "id": "ddagwWp32Jhm",
        "outputId": "cc0178f7-308a-43b8-8f1d-c80b732ac644"
      },
      "execution_count": null,
      "outputs": [
        {
          "output_type": "execute_result",
          "data": {
            "text/plain": [
              "5"
            ]
          },
          "metadata": {},
          "execution_count": 15
        }
      ]
    },
    {
      "cell_type": "code",
      "source": [
        "num1 op num2"
      ],
      "metadata": {
        "colab": {
          "base_uri": "https://localhost:8080/",
          "height": 106
        },
        "id": "dBJfyUUc2Dtg",
        "outputId": "b3b9aac6-da2b-4f1d-f405-9ebc0874a82f"
      },
      "execution_count": null,
      "outputs": [
        {
          "output_type": "error",
          "ename": "SyntaxError",
          "evalue": "invalid syntax (<ipython-input-16-6ade715c0bcd>, line 1)",
          "traceback": [
            "\u001b[0;36m  File \u001b[0;32m\"<ipython-input-16-6ade715c0bcd>\"\u001b[0;36m, line \u001b[0;32m1\u001b[0m\n\u001b[0;31m    num1 op num2\u001b[0m\n\u001b[0m         ^\u001b[0m\n\u001b[0;31mSyntaxError\u001b[0m\u001b[0;31m:\u001b[0m invalid syntax\n"
          ]
        }
      ]
    },
    {
      "cell_type": "code",
      "source": [
        "num1 + num2"
      ],
      "metadata": {
        "colab": {
          "base_uri": "https://localhost:8080/"
        },
        "id": "oiNCzrRi2MC0",
        "outputId": "d826534a-038b-4bef-de76-415ae5184789"
      },
      "execution_count": null,
      "outputs": [
        {
          "output_type": "execute_result",
          "data": {
            "text/plain": [
              "43"
            ]
          },
          "metadata": {},
          "execution_count": 17
        }
      ]
    },
    {
      "cell_type": "code",
      "source": [
        "res = num1 + num2"
      ],
      "metadata": {
        "id": "5d0Ot76E2pK9"
      },
      "execution_count": null,
      "outputs": []
    },
    {
      "cell_type": "code",
      "source": [
        "res"
      ],
      "metadata": {
        "colab": {
          "base_uri": "https://localhost:8080/"
        },
        "id": "s9bo2o072tLn",
        "outputId": "8475c707-2677-4727-cbc8-22c06aa2b27d"
      },
      "execution_count": null,
      "outputs": [
        {
          "output_type": "execute_result",
          "data": {
            "text/plain": [
              "43"
            ]
          },
          "metadata": {},
          "execution_count": 19
        }
      ]
    },
    {
      "cell_type": "code",
      "source": [
        "if op == '+' :\n",
        "  res = num1 + num2\n",
        "\n",
        "print(res)"
      ],
      "metadata": {
        "colab": {
          "base_uri": "https://localhost:8080/"
        },
        "id": "WnAgxv9k2uhn",
        "outputId": "3e03c007-111e-4c89-e664-73f737ca3c76"
      },
      "execution_count": null,
      "outputs": [
        {
          "output_type": "stream",
          "name": "stdout",
          "text": [
            "43\n"
          ]
        }
      ]
    },
    {
      "cell_type": "code",
      "source": [
        "num1 = int(input(\"Enter first number\"))\n",
        "num2 = int(input(\"Enter Second number\"))\n",
        "op = input(\"Enter Operation (+,-,/, *):\")\n",
        "\n",
        "res = None\n",
        "if op == '+' :\n",
        "  res = num1 + num2\n",
        "elif op ==\"-\":\n",
        "  res = num1 - num2 22\n",
        "elif op == \"*\":\n",
        "  res = num1 * num2\n",
        "elif op == \"/\":\n",
        "  res = num1 / num2\n",
        "else:\n",
        "  print(\"Invalid operator entered\")\n",
        "\n",
        "print(res)"
      ],
      "metadata": {
        "colab": {
          "base_uri": "https://localhost:8080/"
        },
        "id": "JxsyR4eW41S-",
        "outputId": "a16e7bbf-b7ae-48fb-8af3-e10a7f14d229"
      },
      "execution_count": null,
      "outputs": [
        {
          "output_type": "stream",
          "name": "stdout",
          "text": [
            "Enter first number21\n",
            "Enter Second number22\n",
            "Enter Operation (+,-,/, *):/\n",
            "0.9545454545454546\n"
          ]
        }
      ]
    },
    {
      "cell_type": "code",
      "source": [
        "def get_input():\n",
        "  num1 = int(input(\"Enter first number\"))\n",
        "  num2 = int(input(\"Enter Second number\"))\n",
        "  return num1, num2"
      ],
      "metadata": {
        "id": "L25oThzu49HV"
      },
      "execution_count": null,
      "outputs": []
    },
    {
      "cell_type": "code",
      "source": [
        "num1, num2 = get_input()\n",
        "op = input(\"Enter Operation (+,-,/, *):\")\n",
        "\n",
        "res = None\n",
        "if op == '+' :\n",
        "  res = num1 + num2\n",
        "elif op ==\"-\":\n",
        "  res = num1 - num2\n",
        "elif op == \"*\":\n",
        "  res = num1 * num2\n",
        "elif op == \"/\":\n",
        "  res = num1 / num2\n",
        "else:\n",
        "  print(\"Invalid operator entered\")\n",
        "\n",
        "print(res)"
      ],
      "metadata": {
        "colab": {
          "base_uri": "https://localhost:8080/"
        },
        "id": "L5LR8Pv293al",
        "outputId": "e4e2e250-1749-4363-9655-9761c81c14a6"
      },
      "execution_count": null,
      "outputs": [
        {
          "output_type": "stream",
          "name": "stdout",
          "text": [
            "Enter first number7\n",
            "Enter Second number8\n",
            "Enter Operation (+,-,/, *):+\n",
            "15\n"
          ]
        }
      ]
    },
    {
      "cell_type": "code",
      "source": [
        "def do_calc(n1, n2, op):\n",
        "  res = None\n",
        "  if op == '+' :\n",
        "    res = n1 + n2\n",
        "  elif op ==\"-\":\n",
        "    res = n1 - n2\n",
        "  elif op == \"*\":\n",
        "    res = n1 * n2\n",
        "  elif op == \"/\":\n",
        "    res = n1 / n2\n",
        "  else:\n",
        "    print(\"Invalid operator entered\")\n",
        "\n",
        "  return res"
      ],
      "metadata": {
        "id": "-f505KUT-Eqw"
      },
      "execution_count": null,
      "outputs": []
    },
    {
      "cell_type": "code",
      "source": [
        "num1, num2 = get_input()\n",
        "op = input(\"Enter Operation (+,-,/, *):\")\n",
        "\n",
        "res = do_calc(num1, num2, op)\n",
        "\n",
        "res"
      ],
      "metadata": {
        "colab": {
          "base_uri": "https://localhost:8080/"
        },
        "id": "2tQ56hh7_fRu",
        "outputId": "94daac86-1021-41c7-d92b-9427c116a188"
      },
      "execution_count": null,
      "outputs": [
        {
          "name": "stdout",
          "output_type": "stream",
          "text": [
            "Enter first number10\n",
            "Enter Second number20\n",
            "Enter Operation (+,-,/, *):*\n"
          ]
        },
        {
          "output_type": "execute_result",
          "data": {
            "text/plain": [
              "200"
            ]
          },
          "metadata": {},
          "execution_count": 3
        }
      ]
    },
    {
      "cell_type": "code",
      "source": [
        "x = True"
      ],
      "metadata": {
        "id": "vN5ko18t_sIN"
      },
      "execution_count": null,
      "outputs": []
    },
    {
      "cell_type": "code",
      "source": [
        "type(x)"
      ],
      "metadata": {
        "colab": {
          "base_uri": "https://localhost:8080/"
        },
        "id": "DtGHXuOcCnEj",
        "outputId": "d355b354-89e4-4d50-9671-9b83aa6b977b"
      },
      "execution_count": null,
      "outputs": [
        {
          "output_type": "execute_result",
          "data": {
            "text/plain": [
              "bool"
            ]
          },
          "metadata": {},
          "execution_count": 5
        }
      ]
    },
    {
      "cell_type": "code",
      "source": [
        "x = 0\n",
        "\n",
        "if x :\n",
        "  print(\"X has true value\")\n",
        "else:\n",
        "  print(\"X has false value \")"
      ],
      "metadata": {
        "colab": {
          "base_uri": "https://localhost:8080/"
        },
        "id": "mArGMCXNCopj",
        "outputId": "f10f1f8e-4902-4dc0-dbc7-b85e2f063dfa"
      },
      "execution_count": null,
      "outputs": [
        {
          "output_type": "stream",
          "name": "stdout",
          "text": [
            "X has false value \n"
          ]
        }
      ]
    },
    {
      "cell_type": "code",
      "source": [
        "x = ''\n",
        "\n",
        "if x :\n",
        "  print(\"X has true value\")\n",
        "else:\n",
        "  print(\"X has false value \")"
      ],
      "metadata": {
        "colab": {
          "base_uri": "https://localhost:8080/"
        },
        "id": "UR45lnHRCx4v",
        "outputId": "41d04b38-afb2-4143-833e-d4039ed3d680"
      },
      "execution_count": null,
      "outputs": [
        {
          "output_type": "stream",
          "name": "stdout",
          "text": [
            "X has false value \n"
          ]
        }
      ]
    },
    {
      "cell_type": "code",
      "source": [
        "x = -50\n",
        "\n",
        "if x :\n",
        "  print(\"X has true value\")\n",
        "else:\n",
        "  print(\"X has false value \")"
      ],
      "metadata": {
        "colab": {
          "base_uri": "https://localhost:8080/"
        },
        "id": "joEHtreRC0Hv",
        "outputId": "68aadcfd-f727-4e8c-de3c-e10dfa3ac79d"
      },
      "execution_count": null,
      "outputs": [
        {
          "output_type": "stream",
          "name": "stdout",
          "text": [
            "X has true value\n"
          ]
        }
      ]
    },
    {
      "cell_type": "code",
      "source": [
        "x = \"shubham\"\n",
        "x * \"chauhan\""
      ],
      "metadata": {
        "colab": {
          "base_uri": "https://localhost:8080/",
          "height": 159
        },
        "id": "qc7tekpwC44K",
        "outputId": "cdf104f3-bca5-453f-f1cf-7edee661da1d"
      },
      "execution_count": null,
      "outputs": [
        {
          "output_type": "error",
          "ename": "TypeError",
          "evalue": "can't multiply sequence by non-int of type 'str'",
          "traceback": [
            "\u001b[0;31m---------------------------------------------------------------------------\u001b[0m",
            "\u001b[0;31mTypeError\u001b[0m                                 Traceback (most recent call last)",
            "\u001b[0;32m<ipython-input-9-ca57a9a73c99>\u001b[0m in \u001b[0;36m<cell line: 2>\u001b[0;34m()\u001b[0m\n\u001b[1;32m      1\u001b[0m \u001b[0mx\u001b[0m \u001b[0;34m=\u001b[0m \u001b[0;34m\"shubham\"\u001b[0m\u001b[0;34m\u001b[0m\u001b[0;34m\u001b[0m\u001b[0m\n\u001b[0;32m----> 2\u001b[0;31m \u001b[0mx\u001b[0m \u001b[0;34m*\u001b[0m \u001b[0;34m\"chauhan\"\u001b[0m\u001b[0;34m\u001b[0m\u001b[0;34m\u001b[0m\u001b[0m\n\u001b[0m",
            "\u001b[0;31mTypeError\u001b[0m: can't multiply sequence by non-int of type 'str'"
          ]
        }
      ]
    },
    {
      "cell_type": "code",
      "source": [
        "\"shubham\" * 3"
      ],
      "metadata": {
        "colab": {
          "base_uri": "https://localhost:8080/",
          "height": 35
        },
        "id": "ChMQaeCvDHC-",
        "outputId": "6bdcb6ed-5ec5-4658-a975-7052347cba95"
      },
      "execution_count": null,
      "outputs": [
        {
          "output_type": "execute_result",
          "data": {
            "text/plain": [
              "'shubhamshubhamshubham'"
            ],
            "application/vnd.google.colaboratory.intrinsic+json": {
              "type": "string"
            }
          },
          "metadata": {},
          "execution_count": 10
        }
      ]
    },
    {
      "cell_type": "code",
      "source": [
        "\"Shubbham\" +  3"
      ],
      "metadata": {
        "colab": {
          "base_uri": "https://localhost:8080/",
          "height": 141
        },
        "id": "oXrSTu56DOT2",
        "outputId": "28ed1b80-3500-44e2-f837-fa723d9a235f"
      },
      "execution_count": null,
      "outputs": [
        {
          "output_type": "error",
          "ename": "TypeError",
          "evalue": "can only concatenate str (not \"int\") to str",
          "traceback": [
            "\u001b[0;31m---------------------------------------------------------------------------\u001b[0m",
            "\u001b[0;31mTypeError\u001b[0m                                 Traceback (most recent call last)",
            "\u001b[0;32m<ipython-input-11-3360d77cb5ab>\u001b[0m in \u001b[0;36m<cell line: 1>\u001b[0;34m()\u001b[0m\n\u001b[0;32m----> 1\u001b[0;31m \u001b[0;34m\"Shubbham\"\u001b[0m \u001b[0;34m+\u001b[0m  \u001b[0;36m3\u001b[0m\u001b[0;34m\u001b[0m\u001b[0;34m\u001b[0m\u001b[0m\n\u001b[0m",
            "\u001b[0;31mTypeError\u001b[0m: can only concatenate str (not \"int\") to str"
          ]
        }
      ]
    },
    {
      "cell_type": "code",
      "source": [
        "\"Shubbham\" +  str(4)"
      ],
      "metadata": {
        "colab": {
          "base_uri": "https://localhost:8080/",
          "height": 35
        },
        "id": "PlqtoBMYDQcp",
        "outputId": "9b4e1081-ed30-4778-91c3-e0f3cee95fa2"
      },
      "execution_count": null,
      "outputs": [
        {
          "output_type": "execute_result",
          "data": {
            "text/plain": [
              "'Shubbham4'"
            ],
            "application/vnd.google.colaboratory.intrinsic+json": {
              "type": "string"
            }
          },
          "metadata": {},
          "execution_count": 12
        }
      ]
    },
    {
      "cell_type": "code",
      "source": [],
      "metadata": {
        "id": "gLnRyvzyDXOO"
      },
      "execution_count": null,
      "outputs": []
    },
    {
      "cell_type": "markdown",
      "source": [
        "* List : [ ]\n",
        "* String : ' ', \" \", ''' ''', \"\"\"  \"\"\"\n",
        "* Tuple : (  )"
      ],
      "metadata": {
        "id": "nKBmDoLWIjH8"
      }
    },
    {
      "cell_type": "code",
      "source": [
        "myList = [ \"ashutosh\", \"23\", \"good boy\", 10000, True]"
      ],
      "metadata": {
        "id": "IYENsF9pI3L7"
      },
      "execution_count": null,
      "outputs": []
    },
    {
      "cell_type": "code",
      "source": [
        "print(myList)"
      ],
      "metadata": {
        "colab": {
          "base_uri": "https://localhost:8080/"
        },
        "id": "jSJivB41JFbk",
        "outputId": "e0853fb0-382a-43c0-fdd3-0174f12eeeab"
      },
      "execution_count": null,
      "outputs": [
        {
          "output_type": "stream",
          "name": "stdout",
          "text": [
            "['ashutosh', '23', 'good boy', 10000, True]\n"
          ]
        }
      ]
    },
    {
      "cell_type": "code",
      "source": [
        "len(myList)"
      ],
      "metadata": {
        "colab": {
          "base_uri": "https://localhost:8080/"
        },
        "id": "w6YmNWGuJHEH",
        "outputId": "7d58e721-6fcd-4cea-9668-daeeec23362c"
      },
      "execution_count": null,
      "outputs": [
        {
          "output_type": "execute_result",
          "data": {
            "text/plain": [
              "5"
            ]
          },
          "metadata": {},
          "execution_count": 15
        }
      ]
    },
    {
      "cell_type": "code",
      "source": [
        "myStr  = \"Ashutosh\""
      ],
      "metadata": {
        "id": "YKc5cwjbJM1E"
      },
      "execution_count": null,
      "outputs": []
    },
    {
      "cell_type": "code",
      "source": [
        "print(myStr)"
      ],
      "metadata": {
        "colab": {
          "base_uri": "https://localhost:8080/"
        },
        "id": "LpHUpUUqJQSg",
        "outputId": "1a1c8c04-793e-4757-b61c-4a6935d68474"
      },
      "execution_count": null,
      "outputs": [
        {
          "output_type": "stream",
          "name": "stdout",
          "text": [
            "Ashutosh\n"
          ]
        }
      ]
    },
    {
      "cell_type": "code",
      "source": [
        "display(myStr)"
      ],
      "metadata": {
        "colab": {
          "base_uri": "https://localhost:8080/",
          "height": 35
        },
        "id": "ZOHIJVb_JReq",
        "outputId": "721aaf7a-5a6e-46af-99aa-641c64746cf8"
      },
      "execution_count": null,
      "outputs": [
        {
          "output_type": "display_data",
          "data": {
            "text/plain": [
              "'Ashutosh'"
            ],
            "application/vnd.google.colaboratory.intrinsic+json": {
              "type": "string"
            }
          },
          "metadata": {}
        }
      ]
    },
    {
      "cell_type": "code",
      "source": [
        "len(myStr)"
      ],
      "metadata": {
        "colab": {
          "base_uri": "https://localhost:8080/"
        },
        "id": "lUnNMb1-JU1c",
        "outputId": "69426891-ad3f-4504-d7ec-ba1ec52314c2"
      },
      "execution_count": null,
      "outputs": [
        {
          "output_type": "execute_result",
          "data": {
            "text/plain": [
              "8"
            ]
          },
          "metadata": {},
          "execution_count": 19
        }
      ]
    },
    {
      "cell_type": "code",
      "source": [
        "myTuple = (10, 20, 'hello')"
      ],
      "metadata": {
        "id": "-4etM6yhJcpo"
      },
      "execution_count": null,
      "outputs": []
    },
    {
      "cell_type": "code",
      "source": [
        "print(myTuple)"
      ],
      "metadata": {
        "colab": {
          "base_uri": "https://localhost:8080/"
        },
        "id": "zFZLr8hYJheX",
        "outputId": "4bebe979-be46-43cd-cdd3-9025a5d70cf6"
      },
      "execution_count": null,
      "outputs": [
        {
          "output_type": "stream",
          "name": "stdout",
          "text": [
            "(10, 20, 'hello')\n"
          ]
        }
      ]
    },
    {
      "cell_type": "code",
      "source": [
        "len(myTuple)"
      ],
      "metadata": {
        "colab": {
          "base_uri": "https://localhost:8080/"
        },
        "id": "KOMCjUj9JjGX",
        "outputId": "bba56d35-42f4-41ef-e3bb-fe06d8c8674f"
      },
      "execution_count": null,
      "outputs": [
        {
          "output_type": "execute_result",
          "data": {
            "text/plain": [
              "3"
            ]
          },
          "metadata": {},
          "execution_count": 22
        }
      ]
    },
    {
      "cell_type": "code",
      "source": [],
      "metadata": {
        "id": "hM4otcd7Jl7I"
      },
      "execution_count": null,
      "outputs": []
    },
    {
      "cell_type": "markdown",
      "source": [
        "# Indexing and Slicing"
      ],
      "metadata": {
        "id": "txP7-52dJoHq"
      }
    },
    {
      "cell_type": "code",
      "source": [
        "myList[0]"
      ],
      "metadata": {
        "colab": {
          "base_uri": "https://localhost:8080/",
          "height": 35
        },
        "id": "HNA-QvwcJqTn",
        "outputId": "aeae0168-003d-479e-9260-f0e1bcd21e09"
      },
      "execution_count": null,
      "outputs": [
        {
          "output_type": "execute_result",
          "data": {
            "text/plain": [
              "'ashutosh'"
            ],
            "application/vnd.google.colaboratory.intrinsic+json": {
              "type": "string"
            }
          },
          "metadata": {},
          "execution_count": 23
        }
      ]
    },
    {
      "cell_type": "code",
      "source": [
        "myList[-1]"
      ],
      "metadata": {
        "colab": {
          "base_uri": "https://localhost:8080/"
        },
        "id": "Kcytb21ZJtL7",
        "outputId": "6b64469e-5448-4415-b2ce-0b5ec65f726d"
      },
      "execution_count": null,
      "outputs": [
        {
          "output_type": "execute_result",
          "data": {
            "text/plain": [
              "True"
            ]
          },
          "metadata": {},
          "execution_count": 24
        }
      ]
    },
    {
      "cell_type": "code",
      "source": [
        "print(myStr[0], myStr[-1])"
      ],
      "metadata": {
        "colab": {
          "base_uri": "https://localhost:8080/"
        },
        "id": "_bierlhuJuyP",
        "outputId": "db556274-6892-4eab-d583-389393f06a41"
      },
      "execution_count": null,
      "outputs": [
        {
          "output_type": "stream",
          "name": "stdout",
          "text": [
            "A h\n"
          ]
        }
      ]
    },
    {
      "cell_type": "code",
      "source": [
        "print(myTuple[0], myTuple[-1])"
      ],
      "metadata": {
        "colab": {
          "base_uri": "https://localhost:8080/"
        },
        "id": "HxU-1YS5Jz3G",
        "outputId": "368f3fa8-c248-48f2-c80d-b0fd09e9d8e2"
      },
      "execution_count": null,
      "outputs": [
        {
          "output_type": "stream",
          "name": "stdout",
          "text": [
            "10 hello\n"
          ]
        }
      ]
    },
    {
      "cell_type": "code",
      "source": [
        "myList"
      ],
      "metadata": {
        "colab": {
          "base_uri": "https://localhost:8080/"
        },
        "id": "ZQa-ktDvJ5_T",
        "outputId": "e3335c05-e9b4-475a-fddd-2a0edf12dc8c"
      },
      "execution_count": null,
      "outputs": [
        {
          "output_type": "execute_result",
          "data": {
            "text/plain": [
              "['ashutosh', '23', 'good boy', 10000, True]"
            ]
          },
          "metadata": {},
          "execution_count": 28
        }
      ]
    },
    {
      "cell_type": "code",
      "source": [
        "myList[]"
      ],
      "metadata": {
        "colab": {
          "base_uri": "https://localhost:8080/",
          "height": 106
        },
        "id": "xzcv_qJJJ81q",
        "outputId": "51846445-e4ae-466c-930f-f051661e54ea"
      },
      "execution_count": null,
      "outputs": [
        {
          "output_type": "error",
          "ename": "SyntaxError",
          "evalue": "invalid syntax (<ipython-input-29-109997e7714c>, line 1)",
          "traceback": [
            "\u001b[0;36m  File \u001b[0;32m\"<ipython-input-29-109997e7714c>\"\u001b[0;36m, line \u001b[0;32m1\u001b[0m\n\u001b[0;31m    myList[]\u001b[0m\n\u001b[0m           ^\u001b[0m\n\u001b[0;31mSyntaxError\u001b[0m\u001b[0;31m:\u001b[0m invalid syntax\n"
          ]
        }
      ]
    },
    {
      "cell_type": "code",
      "source": [
        "myList[:]"
      ],
      "metadata": {
        "colab": {
          "base_uri": "https://localhost:8080/"
        },
        "id": "gbWdYzoyKCEE",
        "outputId": "51073685-8a0f-422c-f9ab-c1e00286e48f"
      },
      "execution_count": null,
      "outputs": [
        {
          "output_type": "execute_result",
          "data": {
            "text/plain": [
              "['ashutosh', '23', 'good boy', 10000, True]"
            ]
          },
          "metadata": {},
          "execution_count": 30
        }
      ]
    },
    {
      "cell_type": "code",
      "source": [
        "myList[2:]"
      ],
      "metadata": {
        "colab": {
          "base_uri": "https://localhost:8080/"
        },
        "id": "xMSRvIKAKMFj",
        "outputId": "2c9098aa-7ddc-422a-d41c-e4da632ca269"
      },
      "execution_count": null,
      "outputs": [
        {
          "output_type": "execute_result",
          "data": {
            "text/plain": [
              "['good boy', 10000, True]"
            ]
          },
          "metadata": {},
          "execution_count": 31
        }
      ]
    },
    {
      "cell_type": "code",
      "source": [
        "myList[2:4]"
      ],
      "metadata": {
        "colab": {
          "base_uri": "https://localhost:8080/"
        },
        "id": "xOcQj5qEKRYS",
        "outputId": "aa3b6e41-9121-447e-ce99-8c9eebb7f481"
      },
      "execution_count": null,
      "outputs": [
        {
          "output_type": "execute_result",
          "data": {
            "text/plain": [
              "['good boy', 10000]"
            ]
          },
          "metadata": {},
          "execution_count": 32
        }
      ]
    },
    {
      "cell_type": "code",
      "source": [
        "myList[0:4]"
      ],
      "metadata": {
        "colab": {
          "base_uri": "https://localhost:8080/"
        },
        "id": "6KqFCD98KXwQ",
        "outputId": "e77885df-10cd-4ae3-bc95-c35a43e3948d"
      },
      "execution_count": null,
      "outputs": [
        {
          "output_type": "execute_result",
          "data": {
            "text/plain": [
              "['ashutosh', '23', 'good boy', 10000]"
            ]
          },
          "metadata": {},
          "execution_count": 33
        }
      ]
    },
    {
      "cell_type": "code",
      "source": [
        "myList[5]"
      ],
      "metadata": {
        "colab": {
          "base_uri": "https://localhost:8080/",
          "height": 141
        },
        "id": "iDlEJ5mXKdY6",
        "outputId": "dfa9bd4b-a3df-46f0-ce44-8901b611b5e2"
      },
      "execution_count": null,
      "outputs": [
        {
          "output_type": "error",
          "ename": "IndexError",
          "evalue": "list index out of range",
          "traceback": [
            "\u001b[0;31m---------------------------------------------------------------------------\u001b[0m",
            "\u001b[0;31mIndexError\u001b[0m                                Traceback (most recent call last)",
            "\u001b[0;32m<ipython-input-34-7d41bfdf9e2b>\u001b[0m in \u001b[0;36m<cell line: 1>\u001b[0;34m()\u001b[0m\n\u001b[0;32m----> 1\u001b[0;31m \u001b[0mmyList\u001b[0m\u001b[0;34m[\u001b[0m\u001b[0;36m5\u001b[0m\u001b[0;34m]\u001b[0m\u001b[0;34m\u001b[0m\u001b[0;34m\u001b[0m\u001b[0m\n\u001b[0m",
            "\u001b[0;31mIndexError\u001b[0m: list index out of range"
          ]
        }
      ]
    },
    {
      "cell_type": "code",
      "source": [
        "myList[:5]"
      ],
      "metadata": {
        "colab": {
          "base_uri": "https://localhost:8080/"
        },
        "id": "P3yLLeqJKjUl",
        "outputId": "d8e36d8a-f586-4ef1-d006-416ebd6e14a4"
      },
      "execution_count": null,
      "outputs": [
        {
          "output_type": "execute_result",
          "data": {
            "text/plain": [
              "['ashutosh', '23', 'good boy', 10000, True]"
            ]
          },
          "metadata": {},
          "execution_count": 35
        }
      ]
    },
    {
      "cell_type": "code",
      "source": [
        "myList[5:5]"
      ],
      "metadata": {
        "colab": {
          "base_uri": "https://localhost:8080/"
        },
        "id": "Jfm7wyyxKqHm",
        "outputId": "8dec4ce8-8d00-43ab-d18b-3780924ce3fe"
      },
      "execution_count": null,
      "outputs": [
        {
          "output_type": "execute_result",
          "data": {
            "text/plain": [
              "[]"
            ]
          },
          "metadata": {},
          "execution_count": 36
        }
      ]
    },
    {
      "cell_type": "code",
      "source": [
        "myList[0:5]"
      ],
      "metadata": {
        "colab": {
          "base_uri": "https://localhost:8080/"
        },
        "id": "hJG0x2qLKvD8",
        "outputId": "9e9aa265-4e7b-492d-90f0-4ce49f2c3878"
      },
      "execution_count": null,
      "outputs": [
        {
          "output_type": "execute_result",
          "data": {
            "text/plain": [
              "['ashutosh', '23', 'good boy', 10000, True]"
            ]
          },
          "metadata": {},
          "execution_count": 37
        }
      ]
    },
    {
      "cell_type": "code",
      "source": [
        "myList[0:5:2]"
      ],
      "metadata": {
        "colab": {
          "base_uri": "https://localhost:8080/"
        },
        "id": "TEF3NFwpK3cs",
        "outputId": "1683471c-f04b-45ba-c4b6-6d8821c776c5"
      },
      "execution_count": null,
      "outputs": [
        {
          "output_type": "execute_result",
          "data": {
            "text/plain": [
              "['ashutosh', 'good boy', True]"
            ]
          },
          "metadata": {},
          "execution_count": 38
        }
      ]
    },
    {
      "cell_type": "code",
      "source": [
        "myList[0:5:-1]"
      ],
      "metadata": {
        "colab": {
          "base_uri": "https://localhost:8080/"
        },
        "id": "GjaForgEK_Cv",
        "outputId": "0a2660a5-33df-4d37-f2ff-3c7a4ccd1f55"
      },
      "execution_count": null,
      "outputs": [
        {
          "output_type": "execute_result",
          "data": {
            "text/plain": [
              "[]"
            ]
          },
          "metadata": {},
          "execution_count": 39
        }
      ]
    },
    {
      "cell_type": "code",
      "source": [
        "myList[5:-1:-1]"
      ],
      "metadata": {
        "colab": {
          "base_uri": "https://localhost:8080/"
        },
        "id": "bgvSePQkLPJj",
        "outputId": "7c8f2b3f-3168-46f5-e515-e6ae9884b2ea"
      },
      "execution_count": null,
      "outputs": [
        {
          "output_type": "execute_result",
          "data": {
            "text/plain": [
              "[]"
            ]
          },
          "metadata": {},
          "execution_count": 41
        }
      ]
    },
    {
      "cell_type": "code",
      "source": [
        "myList[5::-1]"
      ],
      "metadata": {
        "colab": {
          "base_uri": "https://localhost:8080/"
        },
        "id": "feBzqW2WLU0O",
        "outputId": "9c146e34-1a20-4ef7-9a29-04c678da5662"
      },
      "execution_count": null,
      "outputs": [
        {
          "output_type": "execute_result",
          "data": {
            "text/plain": [
              "[True, 10000, 'good boy', '23', 'ashutosh']"
            ]
          },
          "metadata": {},
          "execution_count": 42
        }
      ]
    },
    {
      "cell_type": "code",
      "source": [
        "myList[::-1]"
      ],
      "metadata": {
        "colab": {
          "base_uri": "https://localhost:8080/"
        },
        "id": "wnoS_a_cLinE",
        "outputId": "f9520550-f817-4ad9-8dfa-d2e77c4cc60e"
      },
      "execution_count": null,
      "outputs": [
        {
          "output_type": "execute_result",
          "data": {
            "text/plain": [
              "[True, 10000, 'good boy', '23', 'ashutosh']"
            ]
          },
          "metadata": {},
          "execution_count": 43
        }
      ]
    },
    {
      "cell_type": "code",
      "source": [
        "myStr[::-1]"
      ],
      "metadata": {
        "colab": {
          "base_uri": "https://localhost:8080/",
          "height": 35
        },
        "id": "ZqTXZghsLpbn",
        "outputId": "f42d6f70-981a-4383-8a31-3e8f4cacae78"
      },
      "execution_count": null,
      "outputs": [
        {
          "output_type": "execute_result",
          "data": {
            "text/plain": [
              "'hsotuhsA'"
            ],
            "application/vnd.google.colaboratory.intrinsic+json": {
              "type": "string"
            }
          },
          "metadata": {},
          "execution_count": 44
        }
      ]
    },
    {
      "cell_type": "code",
      "source": [
        "myList[0] = \"Narayan\"\n",
        "print(myList)"
      ],
      "metadata": {
        "colab": {
          "base_uri": "https://localhost:8080/"
        },
        "id": "ciLMJLh8Lu1Q",
        "outputId": "11623706-39dc-4a19-a02d-c33bfc7879cc"
      },
      "execution_count": null,
      "outputs": [
        {
          "output_type": "stream",
          "name": "stdout",
          "text": [
            "['Narayan', '23', 'good boy', 10000, True]\n"
          ]
        }
      ]
    },
    {
      "cell_type": "code",
      "source": [
        "myStr[0] = \"K\""
      ],
      "metadata": {
        "colab": {
          "base_uri": "https://localhost:8080/",
          "height": 141
        },
        "id": "nLPUb4TPL-eB",
        "outputId": "9f8e4013-553d-430e-dc62-e426ac989a9d"
      },
      "execution_count": null,
      "outputs": [
        {
          "output_type": "error",
          "ename": "TypeError",
          "evalue": "'str' object does not support item assignment",
          "traceback": [
            "\u001b[0;31m---------------------------------------------------------------------------\u001b[0m",
            "\u001b[0;31mTypeError\u001b[0m                                 Traceback (most recent call last)",
            "\u001b[0;32m<ipython-input-46-9ffa5c824ed2>\u001b[0m in \u001b[0;36m<cell line: 1>\u001b[0;34m()\u001b[0m\n\u001b[0;32m----> 1\u001b[0;31m \u001b[0mmyStr\u001b[0m\u001b[0;34m[\u001b[0m\u001b[0;36m0\u001b[0m\u001b[0;34m]\u001b[0m \u001b[0;34m=\u001b[0m \u001b[0;34m\"K\"\u001b[0m\u001b[0;34m\u001b[0m\u001b[0;34m\u001b[0m\u001b[0m\n\u001b[0m",
            "\u001b[0;31mTypeError\u001b[0m: 'str' object does not support item assignment"
          ]
        }
      ]
    },
    {
      "cell_type": "code",
      "source": [
        "myList.sort()"
      ],
      "metadata": {
        "colab": {
          "base_uri": "https://localhost:8080/",
          "height": 141
        },
        "id": "8BVWoIkFMDN-",
        "outputId": "0b018755-ab91-451d-b7c3-d75b1830b335"
      },
      "execution_count": null,
      "outputs": [
        {
          "output_type": "error",
          "ename": "TypeError",
          "evalue": "'<' not supported between instances of 'int' and 'str'",
          "traceback": [
            "\u001b[0;31m---------------------------------------------------------------------------\u001b[0m",
            "\u001b[0;31mTypeError\u001b[0m                                 Traceback (most recent call last)",
            "\u001b[0;32m<ipython-input-47-56aa534bad77>\u001b[0m in \u001b[0;36m<cell line: 1>\u001b[0;34m()\u001b[0m\n\u001b[0;32m----> 1\u001b[0;31m \u001b[0mmyList\u001b[0m\u001b[0;34m.\u001b[0m\u001b[0msort\u001b[0m\u001b[0;34m(\u001b[0m\u001b[0;34m)\u001b[0m\u001b[0;34m\u001b[0m\u001b[0;34m\u001b[0m\u001b[0m\n\u001b[0m",
            "\u001b[0;31mTypeError\u001b[0m: '<' not supported between instances of 'int' and 'str'"
          ]
        }
      ]
    },
    {
      "cell_type": "code",
      "source": [
        "sorted(myStr)"
      ],
      "metadata": {
        "colab": {
          "base_uri": "https://localhost:8080/"
        },
        "id": "1-jRGRuVNJvk",
        "outputId": "ad01cab6-c557-40dc-8acc-9ffdefdcc998"
      },
      "execution_count": null,
      "outputs": [
        {
          "output_type": "execute_result",
          "data": {
            "text/plain": [
              "['A', 'h', 'h', 'o', 's', 's', 't', 'u']"
            ]
          },
          "metadata": {},
          "execution_count": 50
        }
      ]
    },
    {
      "cell_type": "code",
      "source": [
        "myList = [\"Ashutosh\", \"works\", \"very\",\"hard\"]\n",
        "\" \".join(myList)"
      ],
      "metadata": {
        "colab": {
          "base_uri": "https://localhost:8080/",
          "height": 35
        },
        "id": "dnZv9y0hNQCG",
        "outputId": "2b2a38af-46fb-45f9-dc9f-934f98d92d91"
      },
      "execution_count": null,
      "outputs": [
        {
          "output_type": "execute_result",
          "data": {
            "text/plain": [
              "'Ashutosh works very hard'"
            ],
            "application/vnd.google.colaboratory.intrinsic+json": {
              "type": "string"
            }
          },
          "metadata": {},
          "execution_count": 51
        }
      ]
    },
    {
      "cell_type": "code",
      "source": [
        "\",\".join(myList)"
      ],
      "metadata": {
        "colab": {
          "base_uri": "https://localhost:8080/",
          "height": 35
        },
        "id": "AwcWu0fPNmXt",
        "outputId": "4fee3d7f-de7a-4701-e22f-a8db0652631d"
      },
      "execution_count": null,
      "outputs": [
        {
          "output_type": "execute_result",
          "data": {
            "text/plain": [
              "'Ashutosh,works,very,hard'"
            ],
            "application/vnd.google.colaboratory.intrinsic+json": {
              "type": "string"
            }
          },
          "metadata": {},
          "execution_count": 52
        }
      ]
    },
    {
      "cell_type": "code",
      "source": [
        "\"ashutosh works hard\".split()"
      ],
      "metadata": {
        "colab": {
          "base_uri": "https://localhost:8080/"
        },
        "id": "YJcZ45EPNWs5",
        "outputId": "8d9752b1-562e-4cd7-93f3-6e96540e083c"
      },
      "execution_count": null,
      "outputs": [
        {
          "output_type": "execute_result",
          "data": {
            "text/plain": [
              "['ashutosh', 'works', 'hard']"
            ]
          },
          "metadata": {},
          "execution_count": 53
        }
      ]
    },
    {
      "cell_type": "code",
      "source": [
        "\"ashutosh works hard\".split('h')"
      ],
      "metadata": {
        "colab": {
          "base_uri": "https://localhost:8080/"
        },
        "id": "uaPqKm2hNXXu",
        "outputId": "ad778b80-4582-4edf-c9c9-c98816fba972"
      },
      "execution_count": null,
      "outputs": [
        {
          "output_type": "execute_result",
          "data": {
            "text/plain": [
              "['as', 'utos', ' works ', 'ard']"
            ]
          },
          "metadata": {},
          "execution_count": 54
        }
      ]
    },
    {
      "cell_type": "code",
      "source": [
        "Certainly! Here are the 20 Python questions formatted in Markdown:\n",
        "\n",
        "### Variables and Data Types\n",
        "\n",
        "1. **Variable Declaration and Printing:**\n",
        "   - Declare two variables `a` and `b` with values 5 and 3 respectively. Print their sum.\n",
        "\n",
        "2. **Type Conversion:**\n",
        "   - Convert the variable `a` (from the previous question) into a float and print its type.\n",
        "\n",
        "3. **String Variables:**\n",
        "   - Create a variable `name` with your name as a string. Print a greeting message using concatenation.\n",
        "\n",
        "4. **Boolean Variables:**\n",
        "   - Create a variable `is_student` and set it to `True`. Print a message based on its value.\n",
        "\n",
        "5. **Multiple Assignment:**\n",
        "   - Use multiple assignment to swap the values of `a` and `b` from question 1 without directly using temporary variables.\n",
        "\n",
        "### Functions\n",
        "\n",
        "6. **Function Definition:**\n",
        "   - Define a function `multiply` that takes two parameters and returns their product.\n",
        "\n",
        "7. **Function Call:**\n",
        "   - Call the `multiply` function from question 6 with arguments 4 and 7, then print the result.\n",
        "\n",
        "8. **Default Argument:**\n",
        "   - Modify the `multiply` function to have a default second parameter of 1. Call it with a single argument and verify the result.\n",
        "\n",
        "9. **Global vs Local Scope:**\n",
        "   - Define a variable `global_var` outside any function. Inside a function, declare a variable `local_var` and try to access `global_var`. Explain the result.\n",
        "\n",
        "10. **Returning Multiple Values:**\n",
        "    - Define a function `calculate` that takes two integers as parameters and returns their sum and difference as a tuple. Call the function and unpack the returned values.\n",
        "\n",
        "### Strings\n",
        "\n",
        "11. **String Length:**\n",
        "    - Create a string variable `sentence` with a sentence of your choice. Print its length.\n",
        "\n",
        "12. **String Slicing:**\n",
        "    - Use slicing to print the first 3 characters, last 3 characters, and middle characters of the `sentence` from question 11.\n",
        "\n",
        "13. **String Methods:**\n",
        "    - Convert the `sentence` to uppercase and print it.\n",
        "\n",
        "14. **String Concatenation:**\n",
        "    - Create two string variables `str1` and `str2`. Concatenate them and print the result.\n",
        "\n",
        "15. **String Formatting:**\n",
        "    - Use f-strings to print a message using variables `name` and `age` (both defined earlier).\n",
        "\n",
        "### Lists\n",
        "\n",
        "16. **List Creation:**\n",
        "    - Create a list `numbers` containing the first 5 even numbers. Print the list.\n",
        "\n",
        "17. **List Indexing:**\n",
        "    - Print the third element of the `numbers` list from question 16.\n",
        "\n",
        "18. **List Manipulation:**\n",
        "    - Add two more numbers (6 and 8) to the `numbers` list from question 16. Print the modified list.\n",
        "\n",
        "19. **List Slicing:**\n",
        "    - Use slicing to print the first 3 elements and last 2 elements of the `numbers` list.\n",
        "\n",
        "20. **List Methods:**\n",
        "    - Remove the first element from the `numbers` list and print the updated list.\n",
        "\n"
      ],
      "metadata": {
        "id": "i-OJha8zNXmh"
      },
      "execution_count": null,
      "outputs": []
    },
    {
      "cell_type": "markdown",
      "source": [
        "\n",
        "### Variables and Data Types\n",
        "\n",
        "1. **Variable Declaration and Printing:**\n",
        "   - Declare two variables `a` and `b` with values 5 and 3 respectively. Print their sum.\n",
        "\n",
        "2. **Type Conversion:**\n",
        "   - Convert the variable `a` (from the previous question) into a float and print its type.\n",
        "\n",
        "3. **String Variables:**\n",
        "   - Create a variable `name` with your name as a string. Print a greeting message using concatenation.\n",
        "\n",
        "4. **Boolean Variables:**\n",
        "   - Create a variable `is_student` and set it to `True`. Print a message based on its value.\n",
        "\n",
        "5. **Multiple Assignment:**\n",
        "   - Use multiple assignment to swap the values of `a` and `b` from question 1 without directly using temporary variables.\n",
        "\n",
        "### Functions\n",
        "\n",
        "6. **Function Definition:**\n",
        "   - Define a function `multiply` that takes two parameters and returns their product.\n",
        "\n",
        "7. **Function Call:**\n",
        "   - Call the `multiply` function from question 6 with arguments 4 and 7, then print the result.\n",
        "\n",
        "8. **Default Argument:**\n",
        "   - Modify the `multiply` function to have a default second parameter of 1. Call it with a single argument and verify the result.\n",
        "\n",
        "9. **Global vs Local Scope:**\n",
        "   - Define a variable `global_var` outside any function. Inside a function, declare a variable `local_var` and try to access `global_var`. Explain the result.\n",
        "\n",
        "10. **Returning Multiple Values:**\n",
        "    - Define a function `calculate` that takes two integers as parameters and returns their sum and difference as a tuple. Call the function and unpack the returned values.\n",
        "\n",
        "### Strings\n",
        "\n",
        "11. **String Length:**\n",
        "    - Create a string variable `sentence` with a sentence of your choice. Print its length.\n",
        "\n",
        "12. **String Slicing:**\n",
        "    - Use slicing to print the first 3 characters, last 3 characters, and middle characters of the `sentence` from question 11.\n",
        "\n",
        "13. **String Methods:**\n",
        "    - Convert the `sentence` to uppercase and print it.\n",
        "\n",
        "14. **String Concatenation:**\n",
        "    - Create two string variables `str1` and `str2`. Concatenate them and print the result.\n",
        "\n",
        "15. **String Formatting:**\n",
        "    - Use f-strings to print a message using variables `name` and `age` (both defined earlier).\n",
        "\n",
        "### Lists\n",
        "\n",
        "16. **List Creation:**\n",
        "    - Create a list `numbers` containing the first 5 even numbers. Print the list.\n",
        "\n",
        "17. **List Indexing:**\n",
        "    - Print the third element of the `numbers` list from question 16.\n",
        "\n",
        "18. **List Manipulation:**\n",
        "    - Add two more numbers (6 and 8) to the `numbers` list from question 16. Print the modified list.\n",
        "\n",
        "19. **List Slicing:**\n",
        "    - Use slicing to print the first 3 elements and last 2 elements of the `numbers` list.\n",
        "\n",
        "20. **List Methods:**\n",
        "    - Remove the first element from the `numbers` list and print the updated list.\n",
        "\n"
      ],
      "metadata": {
        "id": "KjutCRu2Pe-a"
      }
    },
    {
      "cell_type": "markdown",
      "source": [
        "\n",
        "1. **String Length:**\n",
        "   - Create a string variable `text` with a sentence of your choice. Print its length.\n",
        "\n",
        "2. **String Case Conversion:**\n",
        "   - Convert the `text` variable from question 1 to uppercase. Print the result.\n",
        "\n",
        "3. **String Concatenation:**\n",
        "   - Create two string variables `str1` and `str2`. Concatenate them and print the result.\n",
        "\n",
        "4. **Substring Check:**\n",
        "   - Check if the substring `'Python'` is present in the string `text` from question 1. Print `True` or `False`.\n",
        "\n",
        "5. **String Splitting:**\n",
        "   - Split the `text` from question 1 into a list of words. Print the list.\n",
        "\n",
        "6. **String Joining:**\n",
        "   - Create a list of words `words = ['Hello', 'world', '!']`. Join them into a single string with spaces in between. Print the result.\n",
        "\n",
        "7. **String Stripping:**\n",
        "   - Create a string with leading and trailing spaces. Use a string method to remove these spaces and print the cleaned string.\n",
        "\n",
        "8. **String Replacement:**\n",
        "   - Replace all occurrences of the substring `'old'` with `'new'` in the string `'old example text'`. Print the modified string.\n",
        "\n",
        "9. **String Counting:**\n",
        "   - Count the number of occurrences of the letter `'a'` in the string `text` from question 1. Print the count.\n",
        "\n",
        "10. **String Formatting:**\n",
        "    - Use f-strings to format a message using variables `name` and `age`. Print a message like `\"Hello, my name is [name] and I am [age] years old.\"`\n",
        "\n"
      ],
      "metadata": {
        "id": "t7ZnmsUbPtwb"
      }
    },
    {
      "cell_type": "code",
      "source": [
        "myList = [\"Apple\", \"Banana\", \"guava\"]\n",
        "\n",
        "for _ in range(3):\n",
        "  print(_)"
      ],
      "metadata": {
        "colab": {
          "base_uri": "https://localhost:8080/"
        },
        "id": "vlrgissvPhNT",
        "outputId": "0e645ea4-5bb4-422c-9be2-81c61d94cf1d"
      },
      "execution_count": null,
      "outputs": [
        {
          "output_type": "stream",
          "name": "stdout",
          "text": [
            "0\n",
            "1\n",
            "2\n"
          ]
        }
      ]
    },
    {
      "cell_type": "code",
      "source": [
        "myList = [\"Apple\", \"Banana\", \"guava\"]\n",
        "\n",
        "for _ in myList:\n",
        "  print(_)"
      ],
      "metadata": {
        "colab": {
          "base_uri": "https://localhost:8080/"
        },
        "id": "9C9eO07SUQdE",
        "outputId": "98782477-0ef0-45ef-a281-1eadfb8508e5"
      },
      "execution_count": null,
      "outputs": [
        {
          "output_type": "stream",
          "name": "stdout",
          "text": [
            "Apple\n",
            "Banana\n",
            "guava\n"
          ]
        }
      ]
    },
    {
      "cell_type": "code",
      "source": [
        "myList = [\"Apple\", \"Banana\", \"guava\"]\n",
        "\n",
        "for fruit in myList:\n",
        "  print(fruit)"
      ],
      "metadata": {
        "colab": {
          "base_uri": "https://localhost:8080/"
        },
        "id": "45OHYqmlUa8u",
        "outputId": "a3f520ce-083b-4762-f8f3-56226cc09919"
      },
      "execution_count": null,
      "outputs": [
        {
          "output_type": "stream",
          "name": "stdout",
          "text": [
            "Apple\n",
            "Banana\n",
            "guava\n"
          ]
        }
      ]
    },
    {
      "cell_type": "code",
      "source": [],
      "metadata": {
        "id": "2zMbZ7YBUlGU"
      },
      "execution_count": null,
      "outputs": []
    }
  ]
}