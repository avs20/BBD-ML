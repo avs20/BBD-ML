{
 "cells": [
  {
   "cell_type": "markdown",
   "id": "b19715a8",
   "metadata": {
    "papermill": {
     "duration": null,
     "end_time": null,
     "exception": null,
     "start_time": null,
     "status": "completed"
    },
    "tags": []
   },
   "source": [
    "# Machine Learning Data Preprocessing\n",
    "\n",
    "This notebook will guide you through the basic steps to preprocess a machine learning dataset using basic Python and pandas code. We will be using a dataset containing housing prices to demonstrate the preprocessing steps."
   ]
  },
  {
   "cell_type": "markdown",
   "id": "e679ec37",
   "metadata": {
    "papermill": {
     "duration": null,
     "end_time": null,
     "exception": null,
     "start_time": null,
     "status": "completed"
    },
    "tags": []
   },
   "source": [
    "## Step 1: Import Necessary Libraries\n",
    "\n",
    "We will start by importing the necessary libraries."
   ]
  },
  {
   "cell_type": "code",
   "execution_count": null,
   "id": "dc191d16",
   "metadata": {
    "execution": {
     "iopub.execute_input": "2024-06-26T09:09:12.204556Z",
     "iopub.status.busy": "2024-06-26T09:09:12.204006Z",
     "iopub.status.idle": "2024-06-26T09:09:12.211253Z",
     "shell.execute_reply": "2024-06-26T09:09:12.209901Z",
     "shell.execute_reply.started": "2024-06-26T09:09:12.204518Z"
    },
    "papermill": {
     "duration": null,
     "end_time": null,
     "exception": null,
     "start_time": null,
     "status": "completed"
    },
    "tags": []
   },
   "outputs": [],
   "source": [
    "import pandas as pd\n",
    "from sklearn.model_selection import train_test_split"
   ]
  },
  {
   "cell_type": "markdown",
   "id": "a0531753",
   "metadata": {
    "papermill": {
     "duration": null,
     "end_time": null,
     "exception": null,
     "start_time": null,
     "status": "completed"
    },
    "tags": []
   },
   "source": [
    "## Step 2: Load the Dataset\n",
    "\n",
    "Next, we will load the dataset using pandas."
   ]
  },
  {
   "cell_type": "code",
   "execution_count": null,
   "id": "18376e6e",
   "metadata": {
    "execution": {
     "iopub.execute_input": "2024-06-26T09:09:12.213876Z",
     "iopub.status.busy": "2024-06-26T09:09:12.213423Z",
     "iopub.status.idle": "2024-06-26T09:09:12.275825Z",
     "shell.execute_reply": "2024-06-26T09:09:12.274162Z",
     "shell.execute_reply.started": "2024-06-26T09:09:12.213843Z"
    },
    "papermill": {
     "duration": null,
     "end_time": null,
     "exception": null,
     "start_time": null,
     "status": "completed"
    },
    "tags": []
   },
   "outputs": [],
   "source": [
    "# Load the dataset\n",
    "file_path = '/kaggle/input/house-prices-advanced-regression-techniques/train.csv'\n",
    "data = pd.read_csv(file_path)\n",
    "\n",
    "# Display the first few rows of the dataset\n",
    "data.head()"
   ]
  },
  {
   "cell_type": "markdown",
   "id": "2b081c71",
   "metadata": {
    "papermill": {
     "duration": null,
     "end_time": null,
     "exception": null,
     "start_time": null,
     "status": "completed"
    },
    "tags": []
   },
   "source": [
    "## Step 3: Separate Features and Target Variable\n",
    "\n",
    "We need to separate the features (input variables) and the target variable (output variable)."
   ]
  },
  {
   "cell_type": "code",
   "execution_count": null,
   "id": "0f1d415c",
   "metadata": {
    "execution": {
     "iopub.execute_input": "2024-06-26T09:09:12.277372Z",
     "iopub.status.busy": "2024-06-26T09:09:12.276989Z",
     "iopub.status.idle": "2024-06-26T09:09:12.286872Z",
     "shell.execute_reply": "2024-06-26T09:09:12.285247Z",
     "shell.execute_reply.started": "2024-06-26T09:09:12.277336Z"
    },
    "papermill": {
     "duration": null,
     "end_time": null,
     "exception": null,
     "start_time": null,
     "status": "completed"
    },
    "tags": []
   },
   "outputs": [],
   "source": [
    "# Separate features and target variable\n",
    "X = data.drop(columns=['SalePrice', 'Id'])\n",
    "y = data['SalePrice']"
   ]
  },
  {
   "cell_type": "markdown",
   "id": "7fc08194",
   "metadata": {
    "papermill": {
     "duration": null,
     "end_time": null,
     "exception": null,
     "start_time": null,
     "status": "completed"
    },
    "tags": []
   },
   "source": [
    "## Step 4: Identify Numerical and Categorical Columns\n",
    "\n",
    "We need to identify which columns are numerical and which are categorical."
   ]
  },
  {
   "cell_type": "code",
   "execution_count": null,
   "id": "bc9d2b03",
   "metadata": {
    "execution": {
     "iopub.execute_input": "2024-06-26T09:09:12.291500Z",
     "iopub.status.busy": "2024-06-26T09:09:12.290524Z",
     "iopub.status.idle": "2024-06-26T09:09:12.302578Z",
     "shell.execute_reply": "2024-06-26T09:09:12.301318Z",
     "shell.execute_reply.started": "2024-06-26T09:09:12.291458Z"
    },
    "papermill": {
     "duration": null,
     "end_time": null,
     "exception": null,
     "start_time": null,
     "status": "completed"
    },
    "tags": []
   },
   "outputs": [],
   "source": [
    "# Identify numerical and categorical columns\n",
    "numerical_cols = X.select_dtypes(include=['int64', 'float64']).columns\n",
    "categorical_cols = X.select_dtypes(include=['object']).columns\n",
    "\n",
    "print(f\"Numerical columns: {numerical_cols}\")\n",
    "print(f\"Categorical columns: {categorical_cols}\")"
   ]
  },
  {
   "cell_type": "code",
   "execution_count": null,
   "id": "abea3fb8",
   "metadata": {
    "execution": {
     "iopub.execute_input": "2024-06-26T09:09:12.304966Z",
     "iopub.status.busy": "2024-06-26T09:09:12.304495Z",
     "iopub.status.idle": "2024-06-26T09:09:12.315648Z",
     "shell.execute_reply": "2024-06-26T09:09:12.314109Z",
     "shell.execute_reply.started": "2024-06-26T09:09:12.304924Z"
    },
    "papermill": {
     "duration": null,
     "end_time": null,
     "exception": null,
     "start_time": null,
     "status": "completed"
    },
    "tags": []
   },
   "outputs": [],
   "source": [
    "X['LotConfig'].mode()[0]"
   ]
  },
  {
   "cell_type": "markdown",
   "id": "92451dae",
   "metadata": {
    "papermill": {
     "duration": null,
     "end_time": null,
     "exception": null,
     "start_time": null,
     "status": "completed"
    },
    "tags": []
   },
   "source": [
    "## Step 5: Handle Missing Values\n",
    "\n",
    "For simplicity, we will fill missing values in numerical columns with the median value and in categorical columns with the most frequent value."
   ]
  },
  {
   "cell_type": "code",
   "execution_count": null,
   "id": "0bb2ac75",
   "metadata": {
    "execution": {
     "iopub.execute_input": "2024-06-26T09:09:12.318422Z",
     "iopub.status.busy": "2024-06-26T09:09:12.317812Z",
     "iopub.status.idle": "2024-06-26T09:09:12.392315Z",
     "shell.execute_reply": "2024-06-26T09:09:12.390435Z",
     "shell.execute_reply.started": "2024-06-26T09:09:12.318362Z"
    },
    "papermill": {
     "duration": null,
     "end_time": null,
     "exception": null,
     "start_time": null,
     "status": "completed"
    },
    "tags": []
   },
   "outputs": [],
   "source": [
    "# Fill missing values in numerical columns with median\n",
    "for col in numerical_cols:\n",
    "    X[col].fillna(X[col].median(), inplace=True)\n",
    "\n",
    "# Fill missing values in categorical columns with the most frequent value\n",
    "for col in categorical_cols:\n",
    "    X[col].fillna(X[col].mode()[0], inplace=True)"
   ]
  },
  {
   "cell_type": "markdown",
   "id": "8be2bfc5",
   "metadata": {
    "papermill": {
     "duration": null,
     "end_time": null,
     "exception": null,
     "start_time": null,
     "status": "completed"
    },
    "tags": []
   },
   "source": [
    "## Step 6: Encode Categorical Variables\n",
    "\n",
    "We need to convert categorical variables into numerical values using one-hot encoding."
   ]
  },
  {
   "cell_type": "code",
   "execution_count": null,
   "id": "ae86c48d",
   "metadata": {
    "execution": {
     "iopub.execute_input": "2024-06-26T09:10:00.678965Z",
     "iopub.status.busy": "2024-06-26T09:10:00.678495Z",
     "iopub.status.idle": "2024-06-26T09:10:00.726553Z",
     "shell.execute_reply": "2024-06-26T09:10:00.725445Z",
     "shell.execute_reply.started": "2024-06-26T09:10:00.678934Z"
    },
    "papermill": {
     "duration": null,
     "end_time": null,
     "exception": null,
     "start_time": null,
     "status": "completed"
    },
    "tags": []
   },
   "outputs": [],
   "source": [
    "# One-hot encode categorical variables\n",
    "X = pd.get_dummies(X, columns=categorical_cols)"
   ]
  },
  {
   "cell_type": "code",
   "execution_count": null,
   "id": "3861375a",
   "metadata": {
    "execution": {
     "iopub.execute_input": "2024-06-26T09:09:23.014693Z",
     "iopub.status.busy": "2024-06-26T09:09:23.014266Z",
     "iopub.status.idle": "2024-06-26T09:09:23.087324Z",
     "shell.execute_reply": "2024-06-26T09:09:23.086140Z",
     "shell.execute_reply.started": "2024-06-26T09:09:23.014662Z"
    },
    "papermill": {
     "duration": null,
     "end_time": null,
     "exception": null,
     "start_time": null,
     "status": "completed"
    },
    "tags": []
   },
   "outputs": [],
   "source": [
    "# pd.get_dummies(X[categorical_cols], dtype='int', drop_first=True)"
   ]
  },
  {
   "cell_type": "code",
   "execution_count": null,
   "id": "50c75c1e",
   "metadata": {
    "execution": {
     "iopub.execute_input": "2024-06-26T09:10:03.884447Z",
     "iopub.status.busy": "2024-06-26T09:10:03.883980Z",
     "iopub.status.idle": "2024-06-26T09:10:03.914456Z",
     "shell.execute_reply": "2024-06-26T09:10:03.913129Z",
     "shell.execute_reply.started": "2024-06-26T09:10:03.884413Z"
    },
    "papermill": {
     "duration": null,
     "end_time": null,
     "exception": null,
     "start_time": null,
     "status": "completed"
    },
    "tags": []
   },
   "outputs": [],
   "source": [
    "X.head()"
   ]
  },
  {
   "cell_type": "markdown",
   "id": "00b5ba97",
   "metadata": {
    "papermill": {
     "duration": null,
     "end_time": null,
     "exception": null,
     "start_time": null,
     "status": "completed"
    },
    "tags": []
   },
   "source": [
    "## Step 7: Split the Data into Training and Test Sets\n",
    "\n",
    "We will split the dataset into training and test sets to evaluate the performance of our machine learning model."
   ]
  },
  {
   "cell_type": "code",
   "execution_count": null,
   "id": "1b36044a",
   "metadata": {
    "execution": {
     "iopub.execute_input": "2024-06-26T09:15:55.979987Z",
     "iopub.status.busy": "2024-06-26T09:15:55.979486Z",
     "iopub.status.idle": "2024-06-26T09:15:56.000015Z",
     "shell.execute_reply": "2024-06-26T09:15:55.998392Z",
     "shell.execute_reply.started": "2024-06-26T09:15:55.979952Z"
    },
    "papermill": {
     "duration": null,
     "end_time": null,
     "exception": null,
     "start_time": null,
     "status": "completed"
    },
    "tags": []
   },
   "outputs": [],
   "source": [
    "# Split the data into training and test sets\n",
    "X_train, X_test, y_train, y_test = train_test_split(X, y, test_size=0.2, random_state=0)\n",
    "\n",
    "print(f\"Training data shape: {X_train.shape}\")\n",
    "print(f\"Test data shape: {X_test.shape}\")"
   ]
  },
  {
   "cell_type": "markdown",
   "id": "76848d84",
   "metadata": {
    "papermill": {
     "duration": null,
     "end_time": null,
     "exception": null,
     "start_time": null,
     "status": "completed"
    },
    "tags": []
   },
   "source": [
    "With these steps, we have preprocessed our dataset and it's now ready for training a machine learning model."
   ]
  },
  {
   "cell_type": "markdown",
   "id": "a0489cc3",
   "metadata": {
    "papermill": {
     "duration": null,
     "end_time": null,
     "exception": null,
     "start_time": null,
     "status": "completed"
    },
    "tags": []
   },
   "source": [
    "## Model building \n",
    "\n",
    "### Linear Regression"
   ]
  },
  {
   "cell_type": "code",
   "execution_count": null,
   "id": "d5d47af6",
   "metadata": {
    "execution": {
     "iopub.execute_input": "2024-06-26T09:49:59.515064Z",
     "iopub.status.busy": "2024-06-26T09:49:59.514618Z",
     "iopub.status.idle": "2024-06-26T09:49:59.601912Z",
     "shell.execute_reply": "2024-06-26T09:49:59.600619Z",
     "shell.execute_reply.started": "2024-06-26T09:49:59.515034Z"
    },
    "papermill": {
     "duration": null,
     "end_time": null,
     "exception": null,
     "start_time": null,
     "status": "completed"
    },
    "tags": []
   },
   "outputs": [],
   "source": [
    "from sklearn.linear_model import LinearRegression\n",
    "\n",
    "model = LinearRegression()\n",
    "model.fit(X_train, y_train)\n",
    "model.score(X_train, y_train)"
   ]
  },
  {
   "cell_type": "code",
   "execution_count": null,
   "id": "b4d0df92",
   "metadata": {
    "execution": {
     "iopub.execute_input": "2024-06-26T09:24:32.239376Z",
     "iopub.status.busy": "2024-06-26T09:24:32.238806Z",
     "iopub.status.idle": "2024-06-26T09:24:32.271538Z",
     "shell.execute_reply": "2024-06-26T09:24:32.268706Z",
     "shell.execute_reply.started": "2024-06-26T09:24:32.239337Z"
    },
    "papermill": {
     "duration": null,
     "end_time": null,
     "exception": null,
     "start_time": null,
     "status": "completed"
    },
    "tags": []
   },
   "outputs": [],
   "source": [
    "model.score(X_test, y_test)"
   ]
  },
  {
   "cell_type": "code",
   "execution_count": null,
   "id": "3b47f290",
   "metadata": {
    "execution": {
     "iopub.execute_input": "2024-06-26T09:50:02.204983Z",
     "iopub.status.busy": "2024-06-26T09:50:02.204564Z",
     "iopub.status.idle": "2024-06-26T09:50:02.231809Z",
     "shell.execute_reply": "2024-06-26T09:50:02.230149Z",
     "shell.execute_reply.started": "2024-06-26T09:50:02.204953Z"
    },
    "papermill": {
     "duration": null,
     "end_time": null,
     "exception": null,
     "start_time": null,
     "status": "completed"
    },
    "tags": []
   },
   "outputs": [],
   "source": [
    "from sklearn.metrics import mean_squared_error\n",
    "y_pred = model.predict(X_test)\n",
    "mean_squared_error(y_test, y_pred)"
   ]
  },
  {
   "cell_type": "code",
   "execution_count": null,
   "id": "b14b0e52",
   "metadata": {
    "execution": {
     "iopub.execute_input": "2024-06-26T09:30:07.695148Z",
     "iopub.status.busy": "2024-06-26T09:30:07.694654Z",
     "iopub.status.idle": "2024-06-26T09:31:30.424093Z",
     "shell.execute_reply": "2024-06-26T09:31:30.422605Z",
     "shell.execute_reply.started": "2024-06-26T09:30:07.695112Z"
    },
    "papermill": {
     "duration": null,
     "end_time": null,
     "exception": null,
     "start_time": null,
     "status": "completed"
    },
    "tags": []
   },
   "outputs": [],
   "source": [
    "# write code to draw a decision tree\n",
    "from sklearn.tree import DecisionTreeRegressor\n",
    "from sklearn.tree import plot_tree\n",
    "import matplotlib.pyplot as plt\n",
    "\n",
    "model = DecisionTreeRegressor()\n",
    "model.fit(X_train, y_train)\n",
    "print(model.score(X_train, y_train))\n",
    "print(model.score(X_test, y_test))\n",
    "plt.figure(figsize=(20, 10))\n",
    "plot_tree(model, feature_names=X.columns, filled=True)\n",
    "plt.show()\n"
   ]
  },
  {
   "cell_type": "code",
   "execution_count": null,
   "id": "6a43b4ff",
   "metadata": {
    "execution": {
     "iopub.execute_input": "2024-06-26T09:34:14.585784Z",
     "iopub.status.busy": "2024-06-26T09:34:14.585273Z",
     "iopub.status.idle": "2024-06-26T09:34:15.499192Z",
     "shell.execute_reply": "2024-06-26T09:34:15.497910Z",
     "shell.execute_reply.started": "2024-06-26T09:34:14.585749Z"
    },
    "papermill": {
     "duration": null,
     "end_time": null,
     "exception": null,
     "start_time": null,
     "status": "completed"
    },
    "tags": []
   },
   "outputs": [],
   "source": [
    "# write code to draw a decision tree\n",
    "from sklearn.tree import DecisionTreeRegressor\n",
    "from sklearn.tree import plot_tree\n",
    "import matplotlib.pyplot as plt\n",
    "\n",
    "model = DecisionTreeRegressor(max_depth=3)\n",
    "model.fit(X_train, y_train)\n",
    "print(model.score(X_train, y_train))\n",
    "print(model.score(X_test, y_test))\n",
    "plt.figure(figsize=(20, 10))\n",
    "plot_tree(model, feature_names=X.columns, filled=True)\n",
    "plt.show()\n"
   ]
  },
  {
   "cell_type": "code",
   "execution_count": null,
   "id": "3345ab8f",
   "metadata": {
    "execution": {
     "iopub.execute_input": "2024-06-26T09:44:14.325576Z",
     "iopub.status.busy": "2024-06-26T09:44:14.325100Z",
     "iopub.status.idle": "2024-06-26T09:44:18.321155Z",
     "shell.execute_reply": "2024-06-26T09:44:18.319809Z",
     "shell.execute_reply.started": "2024-06-26T09:44:14.325543Z"
    },
    "papermill": {
     "duration": null,
     "end_time": null,
     "exception": null,
     "start_time": null,
     "status": "completed"
    },
    "tags": []
   },
   "outputs": [],
   "source": [
    "# write code to draw a decision tree\n",
    "from sklearn.tree import DecisionTreeRegressor\n",
    "from sklearn.tree import plot_tree\n",
    "import matplotlib.pyplot as plt\n",
    "\n",
    "model = DecisionTreeRegressor(min_samples_leaf=20)\n",
    "model.fit(X_train, y_train)\n",
    "print(model.score(X_train, y_train))\n",
    "print(model.score(X_test, y_test))\n",
    "plt.figure(figsize=(20, 10))\n",
    "plot_tree(model, feature_names=X.columns, filled=True)\n",
    "plt.show()\n"
   ]
  },
  {
   "cell_type": "markdown",
   "id": "fb49c77c",
   "metadata": {
    "papermill": {
     "duration": null,
     "end_time": null,
     "exception": null,
     "start_time": null,
     "status": "completed"
    },
    "tags": []
   },
   "source": []
  },
  {
   "cell_type": "markdown",
   "id": "08d185b6",
   "metadata": {
    "papermill": {
     "duration": null,
     "end_time": null,
     "exception": null,
     "start_time": null,
     "status": "completed"
    },
    "tags": []
   },
   "source": [
    "## Random Forest"
   ]
  },
  {
   "cell_type": "code",
   "execution_count": null,
   "id": "413e8c2e",
   "metadata": {
    "execution": {
     "iopub.execute_input": "2024-06-26T09:28:31.477178Z",
     "iopub.status.busy": "2024-06-26T09:28:31.476706Z",
     "iopub.status.idle": "2024-06-26T09:28:34.584342Z",
     "shell.execute_reply": "2024-06-26T09:28:34.582953Z",
     "shell.execute_reply.started": "2024-06-26T09:28:31.477145Z"
    },
    "papermill": {
     "duration": null,
     "end_time": null,
     "exception": null,
     "start_time": null,
     "status": "completed"
    },
    "tags": []
   },
   "outputs": [],
   "source": [
    "from sklearn.ensemble import RandomForestRegressor\n",
    "\n",
    "model_rf = RandomForestRegressor()\n",
    "model_rf.fit(X_train, y_train)\n",
    "model_rf.score(X_train, y_train)"
   ]
  },
  {
   "cell_type": "code",
   "execution_count": null,
   "id": "95bc459f",
   "metadata": {
    "execution": {
     "iopub.execute_input": "2024-06-26T09:28:42.725214Z",
     "iopub.status.busy": "2024-06-26T09:28:42.724759Z",
     "iopub.status.idle": "2024-06-26T09:28:42.760750Z",
     "shell.execute_reply": "2024-06-26T09:28:42.758806Z",
     "shell.execute_reply.started": "2024-06-26T09:28:42.725173Z"
    },
    "papermill": {
     "duration": null,
     "end_time": null,
     "exception": null,
     "start_time": null,
     "status": "completed"
    },
    "tags": []
   },
   "outputs": [],
   "source": [
    "\n",
    "model_rf.score(X_test, y_test)"
   ]
  },
  {
   "cell_type": "code",
   "execution_count": null,
   "id": "631b9e93",
   "metadata": {
    "execution": {
     "iopub.execute_input": "2024-06-26T09:51:15.715652Z",
     "iopub.status.busy": "2024-06-26T09:51:15.714561Z",
     "iopub.status.idle": "2024-06-26T09:51:15.747286Z",
     "shell.execute_reply": "2024-06-26T09:51:15.746011Z",
     "shell.execute_reply.started": "2024-06-26T09:51:15.715603Z"
    },
    "papermill": {
     "duration": null,
     "end_time": null,
     "exception": null,
     "start_time": null,
     "status": "completed"
    },
    "tags": []
   },
   "outputs": [],
   "source": [
    "y_pred = model_rf.predict(X_test)\n",
    "mean_squared_error(y_test, y_pred)"
   ]
  },
  {
   "cell_type": "code",
   "execution_count": null,
   "id": "6a1d4413",
   "metadata": {
    "execution": {
     "iopub.execute_input": "2024-06-26T09:52:42.995064Z",
     "iopub.status.busy": "2024-06-26T09:52:42.994647Z",
     "iopub.status.idle": "2024-06-26T09:52:43.453621Z",
     "shell.execute_reply": "2024-06-26T09:52:43.452053Z",
     "shell.execute_reply.started": "2024-06-26T09:52:42.995035Z"
    },
    "papermill": {
     "duration": null,
     "end_time": null,
     "exception": null,
     "start_time": null,
     "status": "completed"
    },
    "tags": []
   },
   "outputs": [],
   "source": [
    "model_rf = RandomForestRegressor(n_estimators=50,min_samples_leaf=5,max_depth=3, random_state=42)\n",
    "model_rf.fit(X_train, y_train)\n",
    "print(model.score(X_train, y_train))\n",
    "model_rf.score(X_test, y_test)"
   ]
  },
  {
   "cell_type": "code",
   "execution_count": null,
   "id": "c184f938",
   "metadata": {
    "execution": {
     "iopub.status.busy": "2024-06-26T09:09:12.535922Z",
     "iopub.status.idle": "2024-06-26T09:09:12.536615Z",
     "shell.execute_reply": "2024-06-26T09:09:12.536272Z",
     "shell.execute_reply.started": "2024-06-26T09:09:12.536244Z"
    },
    "papermill": {
     "duration": null,
     "end_time": null,
     "exception": null,
     "start_time": null,
     "status": "completed"
    },
    "tags": []
   },
   "outputs": [],
   "source": [
    "# Use LabelEncoder to convert categorical variables to numerical\n",
    "from sklearn.preprocessing import LabelEncoder\n",
    "# Load the dataset\n",
    "file_path = 'house_train.csv'\n",
    "data = pd.read_csv(file_path)\n",
    "\n",
    "# Separate features and target variable\n",
    "X = data.drop(columns=['SalePrice', 'Id'])\n",
    "y = data['SalePrice']\n",
    "\n",
    "# Fill missing values in numerical columns with median\n",
    "for col in numerical_cols:\n",
    "    X[col].fillna(X[col].median(), inplace=True)\n",
    "\n",
    "label_encoder = LabelEncoder()\n",
    "for col in categorical_cols:\n",
    "    X[col] = label_encoder.fit_transform(X[col])\n",
    "    \n",
    "\n",
    "# Split the data into training and test sets\n",
    "X_train, X_test, y_train, y_test = train_test_split(X, y, test_size=0.2, random_state=0)\n",
    "\n",
    "print(f\"Training data shape: {X_train.shape}\")\n",
    "print(f\"Test data shape: {X_test.shape}\")\n",
    "\n",
    "model_rf = RandomForestRegressor(n_estimators=20, min_samples_leaf=3, random_state=42)\n",
    "model_rf.fit(X_train, y_train)\n",
    "print(model_rf.score(X_train, y_train))\n",
    "model_rf.score(X_test, y_test)"
   ]
  },
  {
   "cell_type": "markdown",
   "id": "b26e4ea3",
   "metadata": {
    "papermill": {
     "duration": null,
     "end_time": null,
     "exception": null,
     "start_time": null,
     "status": "completed"
    },
    "tags": []
   },
   "source": []
  },
  {
   "cell_type": "markdown",
   "id": "a10cf318",
   "metadata": {
    "papermill": {
     "duration": null,
     "end_time": null,
     "exception": null,
     "start_time": null,
     "status": "completed"
    },
    "tags": []
   },
   "source": []
  }
 ],
 "metadata": {
  "kaggle": {
   "accelerator": "none",
   "dataSources": [
    {
     "databundleVersionId": 868283,
     "sourceId": 5407,
     "sourceType": "competition"
    }
   ],
   "dockerImageVersionId": 30732,
   "isGpuEnabled": false,
   "isInternetEnabled": true,
   "language": "python",
   "sourceType": "notebook"
  },
  "kernelspec": {
   "display_name": "udacity",
   "language": "python",
   "name": "udacity"
  },
  "language_info": {
   "codemirror_mode": {
    "name": "ipython",
    "version": 3
   },
   "file_extension": ".py",
   "mimetype": "text/x-python",
   "name": "python",
   "nbconvert_exporter": "python",
   "pygments_lexer": "ipython3",
   "version": "3.10.9"
  },
  "papermill": {
   "default_parameters": {},
   "duration": 0.478226,
   "end_time": "2024-06-26T10:12:35.212394",
   "environment_variables": {},
   "exception": null,
   "input_path": "__notebook__.ipynb",
   "output_path": "__notebook__.ipynb",
   "parameters": {},
   "start_time": "2024-06-26T10:12:34.734168",
   "version": "2.5.0"
  }
 },
 "nbformat": 4,
 "nbformat_minor": 5
}
