{
  "metadata": {
    "kernelspec": {
      "language": "python",
      "display_name": "Python 3",
      "name": "python3"
    },
    "language_info": {
      "name": "python",
      "version": "3.10.13",
      "mimetype": "text/x-python",
      "codemirror_mode": {
        "name": "ipython",
        "version": 3
      },
      "pygments_lexer": "ipython3",
      "nbconvert_exporter": "python",
      "file_extension": ".py"
    },
    "kaggle": {
      "accelerator": "none",
      "dataSources": [
        {
          "sourceId": 8215633,
          "sourceType": "datasetVersion",
          "datasetId": 4869494
        }
      ],
      "dockerImageVersionId": 30732,
      "isInternetEnabled": true,
      "language": "python",
      "sourceType": "notebook",
      "isGpuEnabled": false
    },
    "colab": {
      "name": "notebook838d62b959",
      "provenance": []
    }
  },
  "nbformat_minor": 0,
  "nbformat": 4,
  "cells": [
    {
      "source": [
        "\n",
        "# IMPORTANT: RUN THIS CELL IN ORDER TO IMPORT YOUR KAGGLE DATA SOURCES\n",
        "# TO THE CORRECT LOCATION (/kaggle/input) IN YOUR NOTEBOOK,\n",
        "# THEN FEEL FREE TO DELETE THIS CELL.\n",
        "# NOTE: THIS NOTEBOOK ENVIRONMENT DIFFERS FROM KAGGLE'S PYTHON\n",
        "# ENVIRONMENT SO THERE MAY BE MISSING LIBRARIES USED BY YOUR\n",
        "# NOTEBOOK.\n",
        "\n",
        "import os\n",
        "import sys\n",
        "from tempfile import NamedTemporaryFile\n",
        "from urllib.request import urlopen\n",
        "from urllib.parse import unquote, urlparse\n",
        "from urllib.error import HTTPError\n",
        "from zipfile import ZipFile\n",
        "import tarfile\n",
        "import shutil\n",
        "\n",
        "CHUNK_SIZE = 40960\n",
        "DATA_SOURCE_MAPPING = 'second-hand-car-price-prediction:https%3A%2F%2Fstorage.googleapis.com%2Fkaggle-data-sets%2F4869494%2F8215633%2Fbundle%2Farchive.zip%3FX-Goog-Algorithm%3DGOOG4-RSA-SHA256%26X-Goog-Credential%3Dgcp-kaggle-com%2540kaggle-161607.iam.gserviceaccount.com%252F20240625%252Fauto%252Fstorage%252Fgoog4_request%26X-Goog-Date%3D20240625T141741Z%26X-Goog-Expires%3D259200%26X-Goog-SignedHeaders%3Dhost%26X-Goog-Signature%3D132190da7248cdf3b96bb960c20bcf9fef0f166c8b960fc738ecf56b59d71da4cebbdb1dc5e068b47275d9828c01909b5b80835b3e0ef23a387bdd204f8c10e9af0da6e31473cedcad0c127c2a2edca515dbdd8d98b387ca1a7a1c35a58b95b1c21d34c2058bc80f1d1c9b6d0cdb646c06ed13f91c2ef9f0c9143132a93ec3dc6a8e93b06e8d1047e758e9bf84c2c81b5d28f23db173879c2cd486cae66bd609a90b113461a108c902be85d9604999201b3c7713f95ea8a5853a83048ff850ad287a29d4998413d75c3f67a8272271029231fb8f26228605711f78f2a608c73c2832f1657c6d63d15890a8bfb08dc5aed5764dd9e81dc23eeffa281da9739818'\n",
        "\n",
        "KAGGLE_INPUT_PATH='/kaggle/input'\n",
        "KAGGLE_WORKING_PATH='/kaggle/working'\n",
        "KAGGLE_SYMLINK='kaggle'\n",
        "\n",
        "!umount /kaggle/input/ 2> /dev/null\n",
        "shutil.rmtree('/kaggle/input', ignore_errors=True)\n",
        "os.makedirs(KAGGLE_INPUT_PATH, 0o777, exist_ok=True)\n",
        "os.makedirs(KAGGLE_WORKING_PATH, 0o777, exist_ok=True)\n",
        "\n",
        "try:\n",
        "  os.symlink(KAGGLE_INPUT_PATH, os.path.join(\"..\", 'input'), target_is_directory=True)\n",
        "except FileExistsError:\n",
        "  pass\n",
        "try:\n",
        "  os.symlink(KAGGLE_WORKING_PATH, os.path.join(\"..\", 'working'), target_is_directory=True)\n",
        "except FileExistsError:\n",
        "  pass\n",
        "\n",
        "for data_source_mapping in DATA_SOURCE_MAPPING.split(','):\n",
        "    directory, download_url_encoded = data_source_mapping.split(':')\n",
        "    download_url = unquote(download_url_encoded)\n",
        "    filename = urlparse(download_url).path\n",
        "    destination_path = os.path.join(KAGGLE_INPUT_PATH, directory)\n",
        "    try:\n",
        "        with urlopen(download_url) as fileres, NamedTemporaryFile() as tfile:\n",
        "            total_length = fileres.headers['content-length']\n",
        "            print(f'Downloading {directory}, {total_length} bytes compressed')\n",
        "            dl = 0\n",
        "            data = fileres.read(CHUNK_SIZE)\n",
        "            while len(data) > 0:\n",
        "                dl += len(data)\n",
        "                tfile.write(data)\n",
        "                done = int(50 * dl / int(total_length))\n",
        "                sys.stdout.write(f\"\\r[{'=' * done}{' ' * (50-done)}] {dl} bytes downloaded\")\n",
        "                sys.stdout.flush()\n",
        "                data = fileres.read(CHUNK_SIZE)\n",
        "            if filename.endswith('.zip'):\n",
        "              with ZipFile(tfile) as zfile:\n",
        "                zfile.extractall(destination_path)\n",
        "            else:\n",
        "              with tarfile.open(tfile.name) as tarfile:\n",
        "                tarfile.extractall(destination_path)\n",
        "            print(f'\\nDownloaded and uncompressed: {directory}')\n",
        "    except HTTPError as e:\n",
        "        print(f'Failed to load (likely expired) {download_url} to path {destination_path}')\n",
        "        continue\n",
        "    except OSError as e:\n",
        "        print(f'Failed to load {download_url} to path {destination_path}')\n",
        "        continue\n",
        "\n",
        "print('Data source import complete.')\n"
      ],
      "metadata": {
        "id": "hh2vrzGHwpet"
      },
      "cell_type": "code",
      "outputs": [],
      "execution_count": null
    },
    {
      "cell_type": "code",
      "source": [],
      "metadata": {
        "id": "xUZPCPRewpez"
      },
      "execution_count": null,
      "outputs": []
    },
    {
      "cell_type": "code",
      "source": [
        "# This Python 3 environment comes with many helpful analytics libraries installed\n",
        "# It is defined by the kaggle/python Docker image: https://github.com/kaggle/docker-python\n",
        "# For example, here's several helpful packages to load\n",
        "\n",
        "import numpy as np # linear algebra\n",
        "import pandas as pd # data processing, CSV file I/O (e.g. pd.read_csv)\n",
        "\n",
        "# Input data files are available in the read-only \"../input/\" directory\n",
        "# For example, running this (by clicking run or pressing Shift+Enter) will list all files under the input directory\n",
        "\n",
        "import os\n",
        "for dirname, _, filenames in os.walk('/kaggle/input'):\n",
        "    for filename in filenames:\n",
        "        print(os.path.join(dirname, filename))\n",
        "\n",
        "# You can write up to 20GB to the current directory (/kaggle/working/) that gets preserved as output when you create a version using \"Save & Run All\"\n",
        "# You can also write temporary files to /kaggle/temp/, but they won't be saved outside of the current session"
      ],
      "metadata": {
        "_uuid": "8f2839f25d086af736a60e9eeb907d3b93b6e0e5",
        "_cell_guid": "b1076dfc-b9ad-4769-8c92-a6c4dae69d19",
        "execution": {
          "iopub.status.busy": "2024-06-25T09:44:59.116219Z",
          "iopub.execute_input": "2024-06-25T09:44:59.116754Z",
          "iopub.status.idle": "2024-06-25T09:44:59.132231Z",
          "shell.execute_reply.started": "2024-06-25T09:44:59.116711Z",
          "shell.execute_reply": "2024-06-25T09:44:59.13061Z"
        },
        "trusted": true,
        "id": "I-gTsI9Zwpez"
      },
      "execution_count": null,
      "outputs": []
    },
    {
      "cell_type": "markdown",
      "source": [
        "## Load Data\n"
      ],
      "metadata": {
        "id": "N5KB1dtqwpez"
      }
    },
    {
      "cell_type": "markdown",
      "source": [],
      "metadata": {
        "id": "nP4X20RMwpe1"
      }
    },
    {
      "cell_type": "markdown",
      "source": [],
      "metadata": {
        "id": "hFgBizqNwpe1"
      }
    },
    {
      "cell_type": "code",
      "source": [
        "df = pd.read_csv('/kaggle/input/second-hand-car-price-prediction/cars.csv')\n",
        "df.head()"
      ],
      "metadata": {
        "execution": {
          "iopub.status.busy": "2024-06-25T09:44:59.134933Z",
          "iopub.execute_input": "2024-06-25T09:44:59.136327Z",
          "iopub.status.idle": "2024-06-25T09:44:59.157009Z",
          "shell.execute_reply.started": "2024-06-25T09:44:59.136266Z",
          "shell.execute_reply": "2024-06-25T09:44:59.155596Z"
        },
        "trusted": true,
        "id": "7g60LoJnwpe1"
      },
      "execution_count": null,
      "outputs": []
    },
    {
      "cell_type": "code",
      "source": [
        "df.info()"
      ],
      "metadata": {
        "execution": {
          "iopub.status.busy": "2024-06-25T09:44:59.159212Z",
          "iopub.execute_input": "2024-06-25T09:44:59.159717Z",
          "iopub.status.idle": "2024-06-25T09:44:59.173776Z",
          "shell.execute_reply.started": "2024-06-25T09:44:59.159675Z",
          "shell.execute_reply": "2024-06-25T09:44:59.172293Z"
        },
        "trusted": true,
        "id": "4Usr_m54wpe1"
      },
      "execution_count": null,
      "outputs": []
    },
    {
      "cell_type": "code",
      "source": [
        "df.describe()"
      ],
      "metadata": {
        "execution": {
          "iopub.status.busy": "2024-06-25T09:44:59.175536Z",
          "iopub.execute_input": "2024-06-25T09:44:59.175876Z",
          "iopub.status.idle": "2024-06-25T09:44:59.211105Z",
          "shell.execute_reply.started": "2024-06-25T09:44:59.175848Z",
          "shell.execute_reply": "2024-06-25T09:44:59.209764Z"
        },
        "trusted": true,
        "id": "8uhVDZJNwpe2"
      },
      "execution_count": null,
      "outputs": []
    },
    {
      "cell_type": "code",
      "source": [
        "y = df['Price']\n",
        "df.drop(\"Price\", axis = 1, inplace = True)"
      ],
      "metadata": {
        "execution": {
          "iopub.status.busy": "2024-06-25T09:44:59.215005Z",
          "iopub.execute_input": "2024-06-25T09:44:59.215437Z",
          "iopub.status.idle": "2024-06-25T09:44:59.222425Z",
          "shell.execute_reply.started": "2024-06-25T09:44:59.215403Z",
          "shell.execute_reply": "2024-06-25T09:44:59.221264Z"
        },
        "trusted": true,
        "id": "m0MHvVbGwpe2"
      },
      "execution_count": null,
      "outputs": []
    },
    {
      "cell_type": "code",
      "source": [
        "df.Year = df.Year.astype(str)\n",
        "obj_cols = [\"Year\",\"Brand\", \"Model\", \"Fuel_Type\", \"Transmission\", \"Owner_Type\"]\n",
        "dummies = pd.get_dummies(df[obj_cols], drop_first=True, dtype='int')\n",
        "dummies"
      ],
      "metadata": {
        "execution": {
          "iopub.status.busy": "2024-06-25T09:44:59.223877Z",
          "iopub.execute_input": "2024-06-25T09:44:59.224256Z",
          "iopub.status.idle": "2024-06-25T09:44:59.25914Z",
          "shell.execute_reply.started": "2024-06-25T09:44:59.224227Z",
          "shell.execute_reply": "2024-06-25T09:44:59.257733Z"
        },
        "trusted": true,
        "id": "MR0CICEdwpe2"
      },
      "execution_count": null,
      "outputs": []
    },
    {
      "cell_type": "code",
      "source": [
        "df.drop(obj_cols, inplace=True, axis=1)\n",
        "df = pd.concat([df, dummies], axis=1)\n",
        "df.head()"
      ],
      "metadata": {
        "execution": {
          "iopub.status.busy": "2024-06-25T09:44:59.260686Z",
          "iopub.execute_input": "2024-06-25T09:44:59.261039Z",
          "iopub.status.idle": "2024-06-25T09:44:59.282761Z",
          "shell.execute_reply.started": "2024-06-25T09:44:59.261009Z",
          "shell.execute_reply": "2024-06-25T09:44:59.281543Z"
        },
        "trusted": true,
        "id": "DqwZnasZwpe2"
      },
      "execution_count": null,
      "outputs": []
    },
    {
      "cell_type": "code",
      "source": [
        "df.drop('Car_ID', inplace=True, axis =1)"
      ],
      "metadata": {
        "execution": {
          "iopub.status.busy": "2024-06-25T09:44:59.284258Z",
          "iopub.execute_input": "2024-06-25T09:44:59.284644Z",
          "iopub.status.idle": "2024-06-25T09:44:59.290558Z",
          "shell.execute_reply.started": "2024-06-25T09:44:59.284617Z",
          "shell.execute_reply": "2024-06-25T09:44:59.289422Z"
        },
        "trusted": true,
        "id": "MivFla_Qwpe2"
      },
      "execution_count": null,
      "outputs": []
    },
    {
      "cell_type": "code",
      "source": [
        "X = df"
      ],
      "metadata": {
        "execution": {
          "iopub.status.busy": "2024-06-25T09:45:03.987294Z",
          "iopub.execute_input": "2024-06-25T09:45:03.988265Z",
          "iopub.status.idle": "2024-06-25T09:45:03.993298Z",
          "shell.execute_reply.started": "2024-06-25T09:45:03.988219Z",
          "shell.execute_reply": "2024-06-25T09:45:03.991964Z"
        },
        "trusted": true,
        "id": "35EUJ9R5wpe3"
      },
      "execution_count": null,
      "outputs": []
    },
    {
      "cell_type": "code",
      "source": [
        "from sklearn.model_selection import train_test_split\n",
        "X_train, X_test, y_train, y_test = train_test_split(X,y, test_size=0.2, random_state=42)\n",
        "\n",
        "print(len(X_train), len(y_train),len(X_test), len(y_test))"
      ],
      "metadata": {
        "execution": {
          "iopub.status.busy": "2024-06-25T09:44:59.303766Z",
          "iopub.execute_input": "2024-06-25T09:44:59.304084Z",
          "iopub.status.idle": "2024-06-25T09:44:59.31892Z",
          "shell.execute_reply.started": "2024-06-25T09:44:59.304056Z",
          "shell.execute_reply": "2024-06-25T09:44:59.317568Z"
        },
        "trusted": true,
        "id": "p6VIWURtwpe3"
      },
      "execution_count": null,
      "outputs": []
    },
    {
      "cell_type": "code",
      "source": [
        "from sklearn.linear_model import LinearRegression\n",
        "\n",
        "model = LinearRegression()\n",
        "model.fit(X_train, y_train)\n"
      ],
      "metadata": {
        "execution": {
          "iopub.status.busy": "2024-06-25T09:44:59.320485Z",
          "iopub.execute_input": "2024-06-25T09:44:59.320872Z",
          "iopub.status.idle": "2024-06-25T09:44:59.338428Z",
          "shell.execute_reply.started": "2024-06-25T09:44:59.320844Z",
          "shell.execute_reply": "2024-06-25T09:44:59.33697Z"
        },
        "trusted": true,
        "id": "uBxZAIxTwpe3"
      },
      "execution_count": null,
      "outputs": []
    },
    {
      "cell_type": "code",
      "source": [
        "model.score(X_train, y_train)\n"
      ],
      "metadata": {
        "execution": {
          "iopub.status.busy": "2024-06-25T09:44:59.340562Z",
          "iopub.execute_input": "2024-06-25T09:44:59.340956Z",
          "iopub.status.idle": "2024-06-25T09:44:59.354578Z",
          "shell.execute_reply.started": "2024-06-25T09:44:59.340925Z",
          "shell.execute_reply": "2024-06-25T09:44:59.353327Z"
        },
        "trusted": true,
        "id": "JlwMngD3wpe3"
      },
      "execution_count": null,
      "outputs": []
    },
    {
      "cell_type": "code",
      "source": [
        "model.score(X_test, y_test)"
      ],
      "metadata": {
        "execution": {
          "iopub.status.busy": "2024-06-25T09:44:59.356516Z",
          "iopub.execute_input": "2024-06-25T09:44:59.356929Z",
          "iopub.status.idle": "2024-06-25T09:44:59.370105Z",
          "shell.execute_reply.started": "2024-06-25T09:44:59.356891Z",
          "shell.execute_reply": "2024-06-25T09:44:59.36896Z"
        },
        "trusted": true,
        "id": "uNuB58f4wpe3"
      },
      "execution_count": null,
      "outputs": []
    },
    {
      "cell_type": "markdown",
      "source": [
        "## RMSE : Root MEan Squared Error"
      ],
      "metadata": {
        "id": "V1ZLpbpAwpe3"
      }
    },
    {
      "cell_type": "code",
      "source": [
        "predictions = model.predict(X_test)  # y-hat"
      ],
      "metadata": {
        "execution": {
          "iopub.status.busy": "2024-06-25T10:21:05.624934Z",
          "iopub.execute_input": "2024-06-25T10:21:05.625425Z",
          "iopub.status.idle": "2024-06-25T10:21:05.63504Z",
          "shell.execute_reply.started": "2024-06-25T10:21:05.625389Z",
          "shell.execute_reply": "2024-06-25T10:21:05.63349Z"
        },
        "trusted": true,
        "id": "oOAcGiNzwpe4"
      },
      "execution_count": null,
      "outputs": []
    },
    {
      "cell_type": "code",
      "source": [
        "y_test # y"
      ],
      "metadata": {
        "execution": {
          "iopub.status.busy": "2024-06-25T10:21:24.666521Z",
          "iopub.execute_input": "2024-06-25T10:21:24.666977Z",
          "iopub.status.idle": "2024-06-25T10:21:24.6761Z",
          "shell.execute_reply.started": "2024-06-25T10:21:24.666943Z",
          "shell.execute_reply": "2024-06-25T10:21:24.674597Z"
        },
        "trusted": true,
        "id": "Z3s4ON0cwpe4"
      },
      "execution_count": null,
      "outputs": []
    },
    {
      "cell_type": "code",
      "source": [
        "y_test.values"
      ],
      "metadata": {
        "execution": {
          "iopub.status.busy": "2024-06-25T10:22:24.14591Z",
          "iopub.execute_input": "2024-06-25T10:22:24.146376Z",
          "iopub.status.idle": "2024-06-25T10:22:24.153783Z",
          "shell.execute_reply.started": "2024-06-25T10:22:24.146329Z",
          "shell.execute_reply": "2024-06-25T10:22:24.152503Z"
        },
        "trusted": true,
        "id": "G8CZVSHAwpe4"
      },
      "execution_count": null,
      "outputs": []
    },
    {
      "cell_type": "code",
      "source": [
        "predictions"
      ],
      "metadata": {
        "execution": {
          "iopub.status.busy": "2024-06-25T10:22:30.884297Z",
          "iopub.execute_input": "2024-06-25T10:22:30.884756Z",
          "iopub.status.idle": "2024-06-25T10:22:30.892529Z",
          "shell.execute_reply.started": "2024-06-25T10:22:30.884723Z",
          "shell.execute_reply": "2024-06-25T10:22:30.891384Z"
        },
        "trusted": true,
        "id": "Dvejkpwhwpe4"
      },
      "execution_count": null,
      "outputs": []
    },
    {
      "cell_type": "markdown",
      "source": [],
      "metadata": {
        "id": "kVJwK-GOwpe4"
      }
    },
    {
      "cell_type": "code",
      "source": [
        "import numpy as np\n",
        "import math\n",
        "\n",
        "np.sqrt(((y_test.values-predictions)**2).sum()/len(y_test))"
      ],
      "metadata": {
        "execution": {
          "iopub.status.busy": "2024-06-25T10:23:14.986205Z",
          "iopub.execute_input": "2024-06-25T10:23:14.98725Z",
          "iopub.status.idle": "2024-06-25T10:23:14.995198Z",
          "shell.execute_reply.started": "2024-06-25T10:23:14.987211Z",
          "shell.execute_reply": "2024-06-25T10:23:14.993741Z"
        },
        "trusted": true,
        "id": "n-hzD8vgwpe4"
      },
      "execution_count": null,
      "outputs": []
    },
    {
      "cell_type": "code",
      "source": [],
      "metadata": {
        "id": "Fs8DAZ1Kwpe4"
      },
      "execution_count": null,
      "outputs": []
    }
  ]
}